{
  "nbformat": 4,
  "nbformat_minor": 0,
  "metadata": {
    "colab": {
      "provenance": [],
      "toc_visible": true,
      "include_colab_link": true
    },
    "kernelspec": {
      "name": "python3",
      "display_name": "Python 3"
    },
    "language_info": {
      "name": "python"
    }
  },
  "cells": [
    {
      "cell_type": "markdown",
      "metadata": {
        "id": "view-in-github",
        "colab_type": "text"
      },
      "source": [
        "<a href=\"https://colab.research.google.com/github/muhammadramadhan2045/Belajar-StateManagement-Sederhana-Flutter/blob/master/K_Means_HELP_Project.ipynb\" target=\"_parent\"><img src=\"https://colab.research.google.com/assets/colab-badge.svg\" alt=\"Open In Colab\"/></a>"
      ]
    },
    {
      "cell_type": "markdown",
      "source": [
        "#**Clustering the Countries by using K-Means for HELP International**"
      ],
      "metadata": {
        "id": "hj8I3lzjaqIk"
      }
    },
    {
      "cell_type": "markdown",
      "source": [
        "#Permasalahan\n",
        "HELP International telah berhasil mengumpulkan sekitar $ 10 juta. Saat ini, CEO LSM perlu memutuskan bagaimana menggunakan uang ini secara strategis dan efektif. Jadi, CEO harus mengambil keputusan untuk memilih negara yang paling membutuhkan bantuan. Oleh karena itu, Tugasnyaadalah mengkategorikan negara menggunakan beberapa faktor sosial ekonomi dan kesehatan yang menentukan perkembangan negara secara keseluruhan. Kemudian perlu menyarankan negara mana saja  yang paling perlu menjadi fokus CEO."
      ],
      "metadata": {
        "id": "DfYd7_AKbSmr"
      }
    },
    {
      "cell_type": "code",
      "execution_count": 2,
      "metadata": {
        "id": "SKscEcGDF_hs"
      },
      "outputs": [],
      "source": [
        "import numpy as np\n",
        "import pandas as pd\n",
        "import matplotlib.pyplot as plt\n",
        "import seaborn as sns\n",
        "from sklearn.preprocessing import StandardScaler\n",
        "from sklearn.cluster import KMeans"
      ]
    },
    {
      "cell_type": "code",
      "source": [
        "df = pd.read_csv('Data_Negara_HELP.csv')\n",
        "print('\\nStatistik deskriptif')\n",
        "df.describe()"
      ],
      "metadata": {
        "id": "rd27gX7RGvi9",
        "colab": {
          "base_uri": "https://localhost:8080/",
          "height": 399
        },
        "outputId": "0b91adcc-e451-456d-9927-98adbc65d3d2"
      },
      "execution_count": 5,
      "outputs": [
        {
          "output_type": "stream",
          "name": "stdout",
          "text": [
            "\n",
            "Statistik deskriptif\n"
          ]
        },
        {
          "output_type": "execute_result",
          "data": {
            "text/plain": [
              "       Kematian_anak      Ekspor   Kesehatan       Impor     Pendapatan  \\\n",
              "count     167.000000  167.000000  167.000000  167.000000     167.000000   \n",
              "mean       38.270060   41.108976    6.815689   46.890215   17144.688623   \n",
              "std        40.328931   27.412010    2.746837   24.209589   19278.067698   \n",
              "min         2.600000    0.109000    1.810000    0.065900     609.000000   \n",
              "25%         8.250000   23.800000    4.920000   30.200000    3355.000000   \n",
              "50%        19.300000   35.000000    6.320000   43.300000    9960.000000   \n",
              "75%        62.100000   51.350000    8.600000   58.750000   22800.000000   \n",
              "max       208.000000  200.000000   17.900000  174.000000  125000.000000   \n",
              "\n",
              "          Inflasi  Harapan_hidup  Jumlah_fertiliti   GDPperkapita  \n",
              "count  167.000000     167.000000        167.000000     167.000000  \n",
              "mean     7.781832      70.555689          2.947964   12964.155689  \n",
              "std     10.570704       8.893172          1.513848   18328.704809  \n",
              "min     -4.210000      32.100000          1.150000     231.000000  \n",
              "25%      1.810000      65.300000          1.795000    1330.000000  \n",
              "50%      5.390000      73.100000          2.410000    4660.000000  \n",
              "75%     10.750000      76.800000          3.880000   14050.000000  \n",
              "max    104.000000      82.800000          7.490000  105000.000000  "
            ],
            "text/html": [
              "\n",
              "  <div id=\"df-570e1a9d-ce38-422f-9e4d-90c35397fbd9\">\n",
              "    <div class=\"colab-df-container\">\n",
              "      <div>\n",
              "<style scoped>\n",
              "    .dataframe tbody tr th:only-of-type {\n",
              "        vertical-align: middle;\n",
              "    }\n",
              "\n",
              "    .dataframe tbody tr th {\n",
              "        vertical-align: top;\n",
              "    }\n",
              "\n",
              "    .dataframe thead th {\n",
              "        text-align: right;\n",
              "    }\n",
              "</style>\n",
              "<table border=\"1\" class=\"dataframe\">\n",
              "  <thead>\n",
              "    <tr style=\"text-align: right;\">\n",
              "      <th></th>\n",
              "      <th>Kematian_anak</th>\n",
              "      <th>Ekspor</th>\n",
              "      <th>Kesehatan</th>\n",
              "      <th>Impor</th>\n",
              "      <th>Pendapatan</th>\n",
              "      <th>Inflasi</th>\n",
              "      <th>Harapan_hidup</th>\n",
              "      <th>Jumlah_fertiliti</th>\n",
              "      <th>GDPperkapita</th>\n",
              "    </tr>\n",
              "  </thead>\n",
              "  <tbody>\n",
              "    <tr>\n",
              "      <th>count</th>\n",
              "      <td>167.000000</td>\n",
              "      <td>167.000000</td>\n",
              "      <td>167.000000</td>\n",
              "      <td>167.000000</td>\n",
              "      <td>167.000000</td>\n",
              "      <td>167.000000</td>\n",
              "      <td>167.000000</td>\n",
              "      <td>167.000000</td>\n",
              "      <td>167.000000</td>\n",
              "    </tr>\n",
              "    <tr>\n",
              "      <th>mean</th>\n",
              "      <td>38.270060</td>\n",
              "      <td>41.108976</td>\n",
              "      <td>6.815689</td>\n",
              "      <td>46.890215</td>\n",
              "      <td>17144.688623</td>\n",
              "      <td>7.781832</td>\n",
              "      <td>70.555689</td>\n",
              "      <td>2.947964</td>\n",
              "      <td>12964.155689</td>\n",
              "    </tr>\n",
              "    <tr>\n",
              "      <th>std</th>\n",
              "      <td>40.328931</td>\n",
              "      <td>27.412010</td>\n",
              "      <td>2.746837</td>\n",
              "      <td>24.209589</td>\n",
              "      <td>19278.067698</td>\n",
              "      <td>10.570704</td>\n",
              "      <td>8.893172</td>\n",
              "      <td>1.513848</td>\n",
              "      <td>18328.704809</td>\n",
              "    </tr>\n",
              "    <tr>\n",
              "      <th>min</th>\n",
              "      <td>2.600000</td>\n",
              "      <td>0.109000</td>\n",
              "      <td>1.810000</td>\n",
              "      <td>0.065900</td>\n",
              "      <td>609.000000</td>\n",
              "      <td>-4.210000</td>\n",
              "      <td>32.100000</td>\n",
              "      <td>1.150000</td>\n",
              "      <td>231.000000</td>\n",
              "    </tr>\n",
              "    <tr>\n",
              "      <th>25%</th>\n",
              "      <td>8.250000</td>\n",
              "      <td>23.800000</td>\n",
              "      <td>4.920000</td>\n",
              "      <td>30.200000</td>\n",
              "      <td>3355.000000</td>\n",
              "      <td>1.810000</td>\n",
              "      <td>65.300000</td>\n",
              "      <td>1.795000</td>\n",
              "      <td>1330.000000</td>\n",
              "    </tr>\n",
              "    <tr>\n",
              "      <th>50%</th>\n",
              "      <td>19.300000</td>\n",
              "      <td>35.000000</td>\n",
              "      <td>6.320000</td>\n",
              "      <td>43.300000</td>\n",
              "      <td>9960.000000</td>\n",
              "      <td>5.390000</td>\n",
              "      <td>73.100000</td>\n",
              "      <td>2.410000</td>\n",
              "      <td>4660.000000</td>\n",
              "    </tr>\n",
              "    <tr>\n",
              "      <th>75%</th>\n",
              "      <td>62.100000</td>\n",
              "      <td>51.350000</td>\n",
              "      <td>8.600000</td>\n",
              "      <td>58.750000</td>\n",
              "      <td>22800.000000</td>\n",
              "      <td>10.750000</td>\n",
              "      <td>76.800000</td>\n",
              "      <td>3.880000</td>\n",
              "      <td>14050.000000</td>\n",
              "    </tr>\n",
              "    <tr>\n",
              "      <th>max</th>\n",
              "      <td>208.000000</td>\n",
              "      <td>200.000000</td>\n",
              "      <td>17.900000</td>\n",
              "      <td>174.000000</td>\n",
              "      <td>125000.000000</td>\n",
              "      <td>104.000000</td>\n",
              "      <td>82.800000</td>\n",
              "      <td>7.490000</td>\n",
              "      <td>105000.000000</td>\n",
              "    </tr>\n",
              "  </tbody>\n",
              "</table>\n",
              "</div>\n",
              "      <button class=\"colab-df-convert\" onclick=\"convertToInteractive('df-570e1a9d-ce38-422f-9e4d-90c35397fbd9')\"\n",
              "              title=\"Convert this dataframe to an interactive table.\"\n",
              "              style=\"display:none;\">\n",
              "        \n",
              "  <svg xmlns=\"http://www.w3.org/2000/svg\" height=\"24px\"viewBox=\"0 0 24 24\"\n",
              "       width=\"24px\">\n",
              "    <path d=\"M0 0h24v24H0V0z\" fill=\"none\"/>\n",
              "    <path d=\"M18.56 5.44l.94 2.06.94-2.06 2.06-.94-2.06-.94-.94-2.06-.94 2.06-2.06.94zm-11 1L8.5 8.5l.94-2.06 2.06-.94-2.06-.94L8.5 2.5l-.94 2.06-2.06.94zm10 10l.94 2.06.94-2.06 2.06-.94-2.06-.94-.94-2.06-.94 2.06-2.06.94z\"/><path d=\"M17.41 7.96l-1.37-1.37c-.4-.4-.92-.59-1.43-.59-.52 0-1.04.2-1.43.59L10.3 9.45l-7.72 7.72c-.78.78-.78 2.05 0 2.83L4 21.41c.39.39.9.59 1.41.59.51 0 1.02-.2 1.41-.59l7.78-7.78 2.81-2.81c.8-.78.8-2.07 0-2.86zM5.41 20L4 18.59l7.72-7.72 1.47 1.35L5.41 20z\"/>\n",
              "  </svg>\n",
              "      </button>\n",
              "      \n",
              "  <style>\n",
              "    .colab-df-container {\n",
              "      display:flex;\n",
              "      flex-wrap:wrap;\n",
              "      gap: 12px;\n",
              "    }\n",
              "\n",
              "    .colab-df-convert {\n",
              "      background-color: #E8F0FE;\n",
              "      border: none;\n",
              "      border-radius: 50%;\n",
              "      cursor: pointer;\n",
              "      display: none;\n",
              "      fill: #1967D2;\n",
              "      height: 32px;\n",
              "      padding: 0 0 0 0;\n",
              "      width: 32px;\n",
              "    }\n",
              "\n",
              "    .colab-df-convert:hover {\n",
              "      background-color: #E2EBFA;\n",
              "      box-shadow: 0px 1px 2px rgba(60, 64, 67, 0.3), 0px 1px 3px 1px rgba(60, 64, 67, 0.15);\n",
              "      fill: #174EA6;\n",
              "    }\n",
              "\n",
              "    [theme=dark] .colab-df-convert {\n",
              "      background-color: #3B4455;\n",
              "      fill: #D2E3FC;\n",
              "    }\n",
              "\n",
              "    [theme=dark] .colab-df-convert:hover {\n",
              "      background-color: #434B5C;\n",
              "      box-shadow: 0px 1px 3px 1px rgba(0, 0, 0, 0.15);\n",
              "      filter: drop-shadow(0px 1px 2px rgba(0, 0, 0, 0.3));\n",
              "      fill: #FFFFFF;\n",
              "    }\n",
              "  </style>\n",
              "\n",
              "      <script>\n",
              "        const buttonEl =\n",
              "          document.querySelector('#df-570e1a9d-ce38-422f-9e4d-90c35397fbd9 button.colab-df-convert');\n",
              "        buttonEl.style.display =\n",
              "          google.colab.kernel.accessAllowed ? 'block' : 'none';\n",
              "\n",
              "        async function convertToInteractive(key) {\n",
              "          const element = document.querySelector('#df-570e1a9d-ce38-422f-9e4d-90c35397fbd9');\n",
              "          const dataTable =\n",
              "            await google.colab.kernel.invokeFunction('convertToInteractive',\n",
              "                                                     [key], {});\n",
              "          if (!dataTable) return;\n",
              "\n",
              "          const docLinkHtml = 'Like what you see? Visit the ' +\n",
              "            '<a target=\"_blank\" href=https://colab.research.google.com/notebooks/data_table.ipynb>data table notebook</a>'\n",
              "            + ' to learn more about interactive tables.';\n",
              "          element.innerHTML = '';\n",
              "          dataTable['output_type'] = 'display_data';\n",
              "          await google.colab.output.renderOutput(dataTable, element);\n",
              "          const docLink = document.createElement('div');\n",
              "          docLink.innerHTML = docLinkHtml;\n",
              "          element.appendChild(docLink);\n",
              "        }\n",
              "      </script>\n",
              "    </div>\n",
              "  </div>\n",
              "  "
            ]
          },
          "metadata": {},
          "execution_count": 5
        }
      ]
    },
    {
      "cell_type": "markdown",
      "source": [
        "Dari 9 fitur, kita kelompokan menjadi 2 bagian yaitu \n",
        "1. bidang kesehatan : Kematian_anak, Kesehatan, Harapan_hidup dan Jumlah_fertiliti\n",
        "2. bidang ekonomi : Ekspor, Impor, Pendapatan, Inflasi, GDPperkapita"
      ],
      "metadata": {
        "id": "YR3_xO86dEDd"
      }
    },
    {
      "cell_type": "code",
      "source": [
        "#melihat nilai data yang hilang\n",
        "df.isnull().sum()"
      ],
      "metadata": {
        "id": "UQPbYlAqG5r-",
        "colab": {
          "base_uri": "https://localhost:8080/"
        },
        "outputId": "a1835e48-76ea-4902-f641-03c71f7a4e5d"
      },
      "execution_count": 6,
      "outputs": [
        {
          "output_type": "execute_result",
          "data": {
            "text/plain": [
              "Negara              0\n",
              "Kematian_anak       0\n",
              "Ekspor              0\n",
              "Kesehatan           0\n",
              "Impor               0\n",
              "Pendapatan          0\n",
              "Inflasi             0\n",
              "Harapan_hidup       0\n",
              "Jumlah_fertiliti    0\n",
              "GDPperkapita        0\n",
              "dtype: int64"
            ]
          },
          "metadata": {},
          "execution_count": 6
        }
      ]
    },
    {
      "cell_type": "code",
      "source": [
        "#Menghapus kolom Negara\n",
        "df_drop = df.copy()\n",
        "df_drop.drop(columns=[\"Negara\"], inplace=True)\n",
        "df_drop.head()"
      ],
      "metadata": {
        "id": "mPpMb1E_dvD7",
        "colab": {
          "base_uri": "https://localhost:8080/",
          "height": 250
        },
        "outputId": "490a2a1c-5c4c-4235-ea9a-53c1eac58e79"
      },
      "execution_count": 7,
      "outputs": [
        {
          "output_type": "execute_result",
          "data": {
            "text/plain": [
              "   Kematian_anak  Ekspor  Kesehatan  Impor  Pendapatan  Inflasi  \\\n",
              "0           90.2    10.0       7.58   44.9        1610     9.44   \n",
              "1           16.6    28.0       6.55   48.6        9930     4.49   \n",
              "2           27.3    38.4       4.17   31.4       12900    16.10   \n",
              "3          119.0    62.3       2.85   42.9        5900    22.40   \n",
              "4           10.3    45.5       6.03   58.9       19100     1.44   \n",
              "\n",
              "   Harapan_hidup  Jumlah_fertiliti  GDPperkapita  \n",
              "0           56.2              5.82           553  \n",
              "1           76.3              1.65          4090  \n",
              "2           76.5              2.89          4460  \n",
              "3           60.1              6.16          3530  \n",
              "4           76.8              2.13         12200  "
            ],
            "text/html": [
              "\n",
              "  <div id=\"df-129be21c-08ec-4528-8418-ee7daa008beb\">\n",
              "    <div class=\"colab-df-container\">\n",
              "      <div>\n",
              "<style scoped>\n",
              "    .dataframe tbody tr th:only-of-type {\n",
              "        vertical-align: middle;\n",
              "    }\n",
              "\n",
              "    .dataframe tbody tr th {\n",
              "        vertical-align: top;\n",
              "    }\n",
              "\n",
              "    .dataframe thead th {\n",
              "        text-align: right;\n",
              "    }\n",
              "</style>\n",
              "<table border=\"1\" class=\"dataframe\">\n",
              "  <thead>\n",
              "    <tr style=\"text-align: right;\">\n",
              "      <th></th>\n",
              "      <th>Kematian_anak</th>\n",
              "      <th>Ekspor</th>\n",
              "      <th>Kesehatan</th>\n",
              "      <th>Impor</th>\n",
              "      <th>Pendapatan</th>\n",
              "      <th>Inflasi</th>\n",
              "      <th>Harapan_hidup</th>\n",
              "      <th>Jumlah_fertiliti</th>\n",
              "      <th>GDPperkapita</th>\n",
              "    </tr>\n",
              "  </thead>\n",
              "  <tbody>\n",
              "    <tr>\n",
              "      <th>0</th>\n",
              "      <td>90.2</td>\n",
              "      <td>10.0</td>\n",
              "      <td>7.58</td>\n",
              "      <td>44.9</td>\n",
              "      <td>1610</td>\n",
              "      <td>9.44</td>\n",
              "      <td>56.2</td>\n",
              "      <td>5.82</td>\n",
              "      <td>553</td>\n",
              "    </tr>\n",
              "    <tr>\n",
              "      <th>1</th>\n",
              "      <td>16.6</td>\n",
              "      <td>28.0</td>\n",
              "      <td>6.55</td>\n",
              "      <td>48.6</td>\n",
              "      <td>9930</td>\n",
              "      <td>4.49</td>\n",
              "      <td>76.3</td>\n",
              "      <td>1.65</td>\n",
              "      <td>4090</td>\n",
              "    </tr>\n",
              "    <tr>\n",
              "      <th>2</th>\n",
              "      <td>27.3</td>\n",
              "      <td>38.4</td>\n",
              "      <td>4.17</td>\n",
              "      <td>31.4</td>\n",
              "      <td>12900</td>\n",
              "      <td>16.10</td>\n",
              "      <td>76.5</td>\n",
              "      <td>2.89</td>\n",
              "      <td>4460</td>\n",
              "    </tr>\n",
              "    <tr>\n",
              "      <th>3</th>\n",
              "      <td>119.0</td>\n",
              "      <td>62.3</td>\n",
              "      <td>2.85</td>\n",
              "      <td>42.9</td>\n",
              "      <td>5900</td>\n",
              "      <td>22.40</td>\n",
              "      <td>60.1</td>\n",
              "      <td>6.16</td>\n",
              "      <td>3530</td>\n",
              "    </tr>\n",
              "    <tr>\n",
              "      <th>4</th>\n",
              "      <td>10.3</td>\n",
              "      <td>45.5</td>\n",
              "      <td>6.03</td>\n",
              "      <td>58.9</td>\n",
              "      <td>19100</td>\n",
              "      <td>1.44</td>\n",
              "      <td>76.8</td>\n",
              "      <td>2.13</td>\n",
              "      <td>12200</td>\n",
              "    </tr>\n",
              "  </tbody>\n",
              "</table>\n",
              "</div>\n",
              "      <button class=\"colab-df-convert\" onclick=\"convertToInteractive('df-129be21c-08ec-4528-8418-ee7daa008beb')\"\n",
              "              title=\"Convert this dataframe to an interactive table.\"\n",
              "              style=\"display:none;\">\n",
              "        \n",
              "  <svg xmlns=\"http://www.w3.org/2000/svg\" height=\"24px\"viewBox=\"0 0 24 24\"\n",
              "       width=\"24px\">\n",
              "    <path d=\"M0 0h24v24H0V0z\" fill=\"none\"/>\n",
              "    <path d=\"M18.56 5.44l.94 2.06.94-2.06 2.06-.94-2.06-.94-.94-2.06-.94 2.06-2.06.94zm-11 1L8.5 8.5l.94-2.06 2.06-.94-2.06-.94L8.5 2.5l-.94 2.06-2.06.94zm10 10l.94 2.06.94-2.06 2.06-.94-2.06-.94-.94-2.06-.94 2.06-2.06.94z\"/><path d=\"M17.41 7.96l-1.37-1.37c-.4-.4-.92-.59-1.43-.59-.52 0-1.04.2-1.43.59L10.3 9.45l-7.72 7.72c-.78.78-.78 2.05 0 2.83L4 21.41c.39.39.9.59 1.41.59.51 0 1.02-.2 1.41-.59l7.78-7.78 2.81-2.81c.8-.78.8-2.07 0-2.86zM5.41 20L4 18.59l7.72-7.72 1.47 1.35L5.41 20z\"/>\n",
              "  </svg>\n",
              "      </button>\n",
              "      \n",
              "  <style>\n",
              "    .colab-df-container {\n",
              "      display:flex;\n",
              "      flex-wrap:wrap;\n",
              "      gap: 12px;\n",
              "    }\n",
              "\n",
              "    .colab-df-convert {\n",
              "      background-color: #E8F0FE;\n",
              "      border: none;\n",
              "      border-radius: 50%;\n",
              "      cursor: pointer;\n",
              "      display: none;\n",
              "      fill: #1967D2;\n",
              "      height: 32px;\n",
              "      padding: 0 0 0 0;\n",
              "      width: 32px;\n",
              "    }\n",
              "\n",
              "    .colab-df-convert:hover {\n",
              "      background-color: #E2EBFA;\n",
              "      box-shadow: 0px 1px 2px rgba(60, 64, 67, 0.3), 0px 1px 3px 1px rgba(60, 64, 67, 0.15);\n",
              "      fill: #174EA6;\n",
              "    }\n",
              "\n",
              "    [theme=dark] .colab-df-convert {\n",
              "      background-color: #3B4455;\n",
              "      fill: #D2E3FC;\n",
              "    }\n",
              "\n",
              "    [theme=dark] .colab-df-convert:hover {\n",
              "      background-color: #434B5C;\n",
              "      box-shadow: 0px 1px 3px 1px rgba(0, 0, 0, 0.15);\n",
              "      filter: drop-shadow(0px 1px 2px rgba(0, 0, 0, 0.3));\n",
              "      fill: #FFFFFF;\n",
              "    }\n",
              "  </style>\n",
              "\n",
              "      <script>\n",
              "        const buttonEl =\n",
              "          document.querySelector('#df-129be21c-08ec-4528-8418-ee7daa008beb button.colab-df-convert');\n",
              "        buttonEl.style.display =\n",
              "          google.colab.kernel.accessAllowed ? 'block' : 'none';\n",
              "\n",
              "        async function convertToInteractive(key) {\n",
              "          const element = document.querySelector('#df-129be21c-08ec-4528-8418-ee7daa008beb');\n",
              "          const dataTable =\n",
              "            await google.colab.kernel.invokeFunction('convertToInteractive',\n",
              "                                                     [key], {});\n",
              "          if (!dataTable) return;\n",
              "\n",
              "          const docLinkHtml = 'Like what you see? Visit the ' +\n",
              "            '<a target=\"_blank\" href=https://colab.research.google.com/notebooks/data_table.ipynb>data table notebook</a>'\n",
              "            + ' to learn more about interactive tables.';\n",
              "          element.innerHTML = '';\n",
              "          dataTable['output_type'] = 'display_data';\n",
              "          await google.colab.output.renderOutput(dataTable, element);\n",
              "          const docLink = document.createElement('div');\n",
              "          docLink.innerHTML = docLinkHtml;\n",
              "          element.appendChild(docLink);\n",
              "        }\n",
              "      </script>\n",
              "    </div>\n",
              "  </div>\n",
              "  "
            ]
          },
          "metadata": {},
          "execution_count": 7
        }
      ]
    },
    {
      "cell_type": "markdown",
      "source": [
        "#Data Outlier"
      ],
      "metadata": {
        "id": "FrzCn2AtiqXa"
      }
    },
    {
      "cell_type": "code",
      "source": [
        "def remove_outlier(x):\n",
        "  q1 = x.quantile(0.25)\n",
        "  q3 = x.quantile(0.75)\n",
        "  IQR = q3 - q1\n",
        "  lower_bound = q1 - (IQR * 1.5)\n",
        "  upper_bound = q3 + (IQR * 1.5)\n",
        "  df_outlier = x[~((x < lower_bound) | (x > upper_bound))]\n",
        "  return df_outlier"
      ],
      "metadata": {
        "id": "XgFFb4xuipmC"
      },
      "execution_count": 8,
      "outputs": []
    },
    {
      "cell_type": "code",
      "source": [
        "df_outlier = remove_outlier(df_drop)\n",
        "df_outlier.fillna(method='ffill', inplace=True)\n",
        "df_outlier.head()"
      ],
      "metadata": {
        "id": "L0pkt8qcjTrT",
        "colab": {
          "base_uri": "https://localhost:8080/",
          "height": 250
        },
        "outputId": "7d29d787-80d3-4620-83e4-4ca1127681f6"
      },
      "execution_count": 9,
      "outputs": [
        {
          "output_type": "execute_result",
          "data": {
            "text/plain": [
              "   Kematian_anak  Ekspor  Kesehatan  Impor  Pendapatan  Inflasi  \\\n",
              "0           90.2    10.0       7.58   44.9      1610.0     9.44   \n",
              "1           16.6    28.0       6.55   48.6      9930.0     4.49   \n",
              "2           27.3    38.4       4.17   31.4     12900.0    16.10   \n",
              "3          119.0    62.3       2.85   42.9      5900.0    22.40   \n",
              "4           10.3    45.5       6.03   58.9     19100.0     1.44   \n",
              "\n",
              "   Harapan_hidup  Jumlah_fertiliti  GDPperkapita  \n",
              "0           56.2              5.82         553.0  \n",
              "1           76.3              1.65        4090.0  \n",
              "2           76.5              2.89        4460.0  \n",
              "3           60.1              6.16        3530.0  \n",
              "4           76.8              2.13       12200.0  "
            ],
            "text/html": [
              "\n",
              "  <div id=\"df-1e12f865-9425-458f-beea-726fbd20fe7c\">\n",
              "    <div class=\"colab-df-container\">\n",
              "      <div>\n",
              "<style scoped>\n",
              "    .dataframe tbody tr th:only-of-type {\n",
              "        vertical-align: middle;\n",
              "    }\n",
              "\n",
              "    .dataframe tbody tr th {\n",
              "        vertical-align: top;\n",
              "    }\n",
              "\n",
              "    .dataframe thead th {\n",
              "        text-align: right;\n",
              "    }\n",
              "</style>\n",
              "<table border=\"1\" class=\"dataframe\">\n",
              "  <thead>\n",
              "    <tr style=\"text-align: right;\">\n",
              "      <th></th>\n",
              "      <th>Kematian_anak</th>\n",
              "      <th>Ekspor</th>\n",
              "      <th>Kesehatan</th>\n",
              "      <th>Impor</th>\n",
              "      <th>Pendapatan</th>\n",
              "      <th>Inflasi</th>\n",
              "      <th>Harapan_hidup</th>\n",
              "      <th>Jumlah_fertiliti</th>\n",
              "      <th>GDPperkapita</th>\n",
              "    </tr>\n",
              "  </thead>\n",
              "  <tbody>\n",
              "    <tr>\n",
              "      <th>0</th>\n",
              "      <td>90.2</td>\n",
              "      <td>10.0</td>\n",
              "      <td>7.58</td>\n",
              "      <td>44.9</td>\n",
              "      <td>1610.0</td>\n",
              "      <td>9.44</td>\n",
              "      <td>56.2</td>\n",
              "      <td>5.82</td>\n",
              "      <td>553.0</td>\n",
              "    </tr>\n",
              "    <tr>\n",
              "      <th>1</th>\n",
              "      <td>16.6</td>\n",
              "      <td>28.0</td>\n",
              "      <td>6.55</td>\n",
              "      <td>48.6</td>\n",
              "      <td>9930.0</td>\n",
              "      <td>4.49</td>\n",
              "      <td>76.3</td>\n",
              "      <td>1.65</td>\n",
              "      <td>4090.0</td>\n",
              "    </tr>\n",
              "    <tr>\n",
              "      <th>2</th>\n",
              "      <td>27.3</td>\n",
              "      <td>38.4</td>\n",
              "      <td>4.17</td>\n",
              "      <td>31.4</td>\n",
              "      <td>12900.0</td>\n",
              "      <td>16.10</td>\n",
              "      <td>76.5</td>\n",
              "      <td>2.89</td>\n",
              "      <td>4460.0</td>\n",
              "    </tr>\n",
              "    <tr>\n",
              "      <th>3</th>\n",
              "      <td>119.0</td>\n",
              "      <td>62.3</td>\n",
              "      <td>2.85</td>\n",
              "      <td>42.9</td>\n",
              "      <td>5900.0</td>\n",
              "      <td>22.40</td>\n",
              "      <td>60.1</td>\n",
              "      <td>6.16</td>\n",
              "      <td>3530.0</td>\n",
              "    </tr>\n",
              "    <tr>\n",
              "      <th>4</th>\n",
              "      <td>10.3</td>\n",
              "      <td>45.5</td>\n",
              "      <td>6.03</td>\n",
              "      <td>58.9</td>\n",
              "      <td>19100.0</td>\n",
              "      <td>1.44</td>\n",
              "      <td>76.8</td>\n",
              "      <td>2.13</td>\n",
              "      <td>12200.0</td>\n",
              "    </tr>\n",
              "  </tbody>\n",
              "</table>\n",
              "</div>\n",
              "      <button class=\"colab-df-convert\" onclick=\"convertToInteractive('df-1e12f865-9425-458f-beea-726fbd20fe7c')\"\n",
              "              title=\"Convert this dataframe to an interactive table.\"\n",
              "              style=\"display:none;\">\n",
              "        \n",
              "  <svg xmlns=\"http://www.w3.org/2000/svg\" height=\"24px\"viewBox=\"0 0 24 24\"\n",
              "       width=\"24px\">\n",
              "    <path d=\"M0 0h24v24H0V0z\" fill=\"none\"/>\n",
              "    <path d=\"M18.56 5.44l.94 2.06.94-2.06 2.06-.94-2.06-.94-.94-2.06-.94 2.06-2.06.94zm-11 1L8.5 8.5l.94-2.06 2.06-.94-2.06-.94L8.5 2.5l-.94 2.06-2.06.94zm10 10l.94 2.06.94-2.06 2.06-.94-2.06-.94-.94-2.06-.94 2.06-2.06.94z\"/><path d=\"M17.41 7.96l-1.37-1.37c-.4-.4-.92-.59-1.43-.59-.52 0-1.04.2-1.43.59L10.3 9.45l-7.72 7.72c-.78.78-.78 2.05 0 2.83L4 21.41c.39.39.9.59 1.41.59.51 0 1.02-.2 1.41-.59l7.78-7.78 2.81-2.81c.8-.78.8-2.07 0-2.86zM5.41 20L4 18.59l7.72-7.72 1.47 1.35L5.41 20z\"/>\n",
              "  </svg>\n",
              "      </button>\n",
              "      \n",
              "  <style>\n",
              "    .colab-df-container {\n",
              "      display:flex;\n",
              "      flex-wrap:wrap;\n",
              "      gap: 12px;\n",
              "    }\n",
              "\n",
              "    .colab-df-convert {\n",
              "      background-color: #E8F0FE;\n",
              "      border: none;\n",
              "      border-radius: 50%;\n",
              "      cursor: pointer;\n",
              "      display: none;\n",
              "      fill: #1967D2;\n",
              "      height: 32px;\n",
              "      padding: 0 0 0 0;\n",
              "      width: 32px;\n",
              "    }\n",
              "\n",
              "    .colab-df-convert:hover {\n",
              "      background-color: #E2EBFA;\n",
              "      box-shadow: 0px 1px 2px rgba(60, 64, 67, 0.3), 0px 1px 3px 1px rgba(60, 64, 67, 0.15);\n",
              "      fill: #174EA6;\n",
              "    }\n",
              "\n",
              "    [theme=dark] .colab-df-convert {\n",
              "      background-color: #3B4455;\n",
              "      fill: #D2E3FC;\n",
              "    }\n",
              "\n",
              "    [theme=dark] .colab-df-convert:hover {\n",
              "      background-color: #434B5C;\n",
              "      box-shadow: 0px 1px 3px 1px rgba(0, 0, 0, 0.15);\n",
              "      filter: drop-shadow(0px 1px 2px rgba(0, 0, 0, 0.3));\n",
              "      fill: #FFFFFF;\n",
              "    }\n",
              "  </style>\n",
              "\n",
              "      <script>\n",
              "        const buttonEl =\n",
              "          document.querySelector('#df-1e12f865-9425-458f-beea-726fbd20fe7c button.colab-df-convert');\n",
              "        buttonEl.style.display =\n",
              "          google.colab.kernel.accessAllowed ? 'block' : 'none';\n",
              "\n",
              "        async function convertToInteractive(key) {\n",
              "          const element = document.querySelector('#df-1e12f865-9425-458f-beea-726fbd20fe7c');\n",
              "          const dataTable =\n",
              "            await google.colab.kernel.invokeFunction('convertToInteractive',\n",
              "                                                     [key], {});\n",
              "          if (!dataTable) return;\n",
              "\n",
              "          const docLinkHtml = 'Like what you see? Visit the ' +\n",
              "            '<a target=\"_blank\" href=https://colab.research.google.com/notebooks/data_table.ipynb>data table notebook</a>'\n",
              "            + ' to learn more about interactive tables.';\n",
              "          element.innerHTML = '';\n",
              "          dataTable['output_type'] = 'display_data';\n",
              "          await google.colab.output.renderOutput(dataTable, element);\n",
              "          const docLink = document.createElement('div');\n",
              "          docLink.innerHTML = docLinkHtml;\n",
              "          element.appendChild(docLink);\n",
              "        }\n",
              "      </script>\n",
              "    </div>\n",
              "  </div>\n",
              "  "
            ]
          },
          "metadata": {},
          "execution_count": 9
        }
      ]
    },
    {
      "cell_type": "code",
      "source": [
        "df_outlier.isnull().sum()"
      ],
      "metadata": {
        "id": "tl4hBQlfi4lN",
        "colab": {
          "base_uri": "https://localhost:8080/"
        },
        "outputId": "77020e5b-f3d7-4963-f8cd-583963e90120"
      },
      "execution_count": 10,
      "outputs": [
        {
          "output_type": "execute_result",
          "data": {
            "text/plain": [
              "Kematian_anak       0\n",
              "Ekspor              0\n",
              "Kesehatan           0\n",
              "Impor               0\n",
              "Pendapatan          0\n",
              "Inflasi             0\n",
              "Harapan_hidup       0\n",
              "Jumlah_fertiliti    0\n",
              "GDPperkapita        0\n",
              "dtype: int64"
            ]
          },
          "metadata": {},
          "execution_count": 10
        }
      ]
    },
    {
      "cell_type": "markdown",
      "source": [
        "#Kematian_anak dan Jumlah_fertiliti"
      ],
      "metadata": {
        "id": "t0gAJRfUpViB"
      }
    },
    {
      "cell_type": "code",
      "source": [
        "df_kf = pd.DataFrame(data= df_outlier, columns=['Kematian_anak','Jumlah_fertiliti'])\n",
        "df_kf.head()"
      ],
      "metadata": {
        "cellView": "code",
        "id": "a-Y8sZNdpgwU",
        "colab": {
          "base_uri": "https://localhost:8080/",
          "height": 206
        },
        "outputId": "036049cb-a17a-473e-f416-327ea3c31357"
      },
      "execution_count": 11,
      "outputs": [
        {
          "output_type": "execute_result",
          "data": {
            "text/plain": [
              "   Kematian_anak  Jumlah_fertiliti\n",
              "0           90.2              5.82\n",
              "1           16.6              1.65\n",
              "2           27.3              2.89\n",
              "3          119.0              6.16\n",
              "4           10.3              2.13"
            ],
            "text/html": [
              "\n",
              "  <div id=\"df-83d71794-3d63-4d0e-ba3d-397aa2069cff\">\n",
              "    <div class=\"colab-df-container\">\n",
              "      <div>\n",
              "<style scoped>\n",
              "    .dataframe tbody tr th:only-of-type {\n",
              "        vertical-align: middle;\n",
              "    }\n",
              "\n",
              "    .dataframe tbody tr th {\n",
              "        vertical-align: top;\n",
              "    }\n",
              "\n",
              "    .dataframe thead th {\n",
              "        text-align: right;\n",
              "    }\n",
              "</style>\n",
              "<table border=\"1\" class=\"dataframe\">\n",
              "  <thead>\n",
              "    <tr style=\"text-align: right;\">\n",
              "      <th></th>\n",
              "      <th>Kematian_anak</th>\n",
              "      <th>Jumlah_fertiliti</th>\n",
              "    </tr>\n",
              "  </thead>\n",
              "  <tbody>\n",
              "    <tr>\n",
              "      <th>0</th>\n",
              "      <td>90.2</td>\n",
              "      <td>5.82</td>\n",
              "    </tr>\n",
              "    <tr>\n",
              "      <th>1</th>\n",
              "      <td>16.6</td>\n",
              "      <td>1.65</td>\n",
              "    </tr>\n",
              "    <tr>\n",
              "      <th>2</th>\n",
              "      <td>27.3</td>\n",
              "      <td>2.89</td>\n",
              "    </tr>\n",
              "    <tr>\n",
              "      <th>3</th>\n",
              "      <td>119.0</td>\n",
              "      <td>6.16</td>\n",
              "    </tr>\n",
              "    <tr>\n",
              "      <th>4</th>\n",
              "      <td>10.3</td>\n",
              "      <td>2.13</td>\n",
              "    </tr>\n",
              "  </tbody>\n",
              "</table>\n",
              "</div>\n",
              "      <button class=\"colab-df-convert\" onclick=\"convertToInteractive('df-83d71794-3d63-4d0e-ba3d-397aa2069cff')\"\n",
              "              title=\"Convert this dataframe to an interactive table.\"\n",
              "              style=\"display:none;\">\n",
              "        \n",
              "  <svg xmlns=\"http://www.w3.org/2000/svg\" height=\"24px\"viewBox=\"0 0 24 24\"\n",
              "       width=\"24px\">\n",
              "    <path d=\"M0 0h24v24H0V0z\" fill=\"none\"/>\n",
              "    <path d=\"M18.56 5.44l.94 2.06.94-2.06 2.06-.94-2.06-.94-.94-2.06-.94 2.06-2.06.94zm-11 1L8.5 8.5l.94-2.06 2.06-.94-2.06-.94L8.5 2.5l-.94 2.06-2.06.94zm10 10l.94 2.06.94-2.06 2.06-.94-2.06-.94-.94-2.06-.94 2.06-2.06.94z\"/><path d=\"M17.41 7.96l-1.37-1.37c-.4-.4-.92-.59-1.43-.59-.52 0-1.04.2-1.43.59L10.3 9.45l-7.72 7.72c-.78.78-.78 2.05 0 2.83L4 21.41c.39.39.9.59 1.41.59.51 0 1.02-.2 1.41-.59l7.78-7.78 2.81-2.81c.8-.78.8-2.07 0-2.86zM5.41 20L4 18.59l7.72-7.72 1.47 1.35L5.41 20z\"/>\n",
              "  </svg>\n",
              "      </button>\n",
              "      \n",
              "  <style>\n",
              "    .colab-df-container {\n",
              "      display:flex;\n",
              "      flex-wrap:wrap;\n",
              "      gap: 12px;\n",
              "    }\n",
              "\n",
              "    .colab-df-convert {\n",
              "      background-color: #E8F0FE;\n",
              "      border: none;\n",
              "      border-radius: 50%;\n",
              "      cursor: pointer;\n",
              "      display: none;\n",
              "      fill: #1967D2;\n",
              "      height: 32px;\n",
              "      padding: 0 0 0 0;\n",
              "      width: 32px;\n",
              "    }\n",
              "\n",
              "    .colab-df-convert:hover {\n",
              "      background-color: #E2EBFA;\n",
              "      box-shadow: 0px 1px 2px rgba(60, 64, 67, 0.3), 0px 1px 3px 1px rgba(60, 64, 67, 0.15);\n",
              "      fill: #174EA6;\n",
              "    }\n",
              "\n",
              "    [theme=dark] .colab-df-convert {\n",
              "      background-color: #3B4455;\n",
              "      fill: #D2E3FC;\n",
              "    }\n",
              "\n",
              "    [theme=dark] .colab-df-convert:hover {\n",
              "      background-color: #434B5C;\n",
              "      box-shadow: 0px 1px 3px 1px rgba(0, 0, 0, 0.15);\n",
              "      filter: drop-shadow(0px 1px 2px rgba(0, 0, 0, 0.3));\n",
              "      fill: #FFFFFF;\n",
              "    }\n",
              "  </style>\n",
              "\n",
              "      <script>\n",
              "        const buttonEl =\n",
              "          document.querySelector('#df-83d71794-3d63-4d0e-ba3d-397aa2069cff button.colab-df-convert');\n",
              "        buttonEl.style.display =\n",
              "          google.colab.kernel.accessAllowed ? 'block' : 'none';\n",
              "\n",
              "        async function convertToInteractive(key) {\n",
              "          const element = document.querySelector('#df-83d71794-3d63-4d0e-ba3d-397aa2069cff');\n",
              "          const dataTable =\n",
              "            await google.colab.kernel.invokeFunction('convertToInteractive',\n",
              "                                                     [key], {});\n",
              "          if (!dataTable) return;\n",
              "\n",
              "          const docLinkHtml = 'Like what you see? Visit the ' +\n",
              "            '<a target=\"_blank\" href=https://colab.research.google.com/notebooks/data_table.ipynb>data table notebook</a>'\n",
              "            + ' to learn more about interactive tables.';\n",
              "          element.innerHTML = '';\n",
              "          dataTable['output_type'] = 'display_data';\n",
              "          await google.colab.output.renderOutput(dataTable, element);\n",
              "          const docLink = document.createElement('div');\n",
              "          docLink.innerHTML = docLinkHtml;\n",
              "          element.appendChild(docLink);\n",
              "        }\n",
              "      </script>\n",
              "    </div>\n",
              "  </div>\n",
              "  "
            ]
          },
          "metadata": {},
          "execution_count": 11
        }
      ]
    },
    {
      "cell_type": "code",
      "source": [
        "#Scalling data\n",
        "sc = StandardScaler()\n",
        "df_kf = sc.fit_transform(df_kf)"
      ],
      "metadata": {
        "id": "sQIVJKgIqEou"
      },
      "execution_count": 12,
      "outputs": []
    },
    {
      "cell_type": "code",
      "source": [
        "#Elbow Method Kematian_anak dan Jumlah_fertiliti\n",
        "wcss = [] #Within-Cluster Sum of Square \n",
        "for i in range(1,11):\n",
        "  kmeans = KMeans(n_clusters=i, init='k-means++', random_state=42)\n",
        "  kmeans.fit(df_kf)\n",
        "  wcss.append(kmeans.inertia_)\n",
        "\n",
        "plt.figure(figsize=(10,6))\n",
        "plt.plot(range(1,11), wcss)\n",
        "plt.title('Elbow Method')\n",
        "plt.xlabel('Jumlah dari cluster')\n",
        "plt.ylabel('WCSS')\n",
        "plt.show()"
      ],
      "metadata": {
        "id": "0aCW8Gv38DRS",
        "colab": {
          "base_uri": "https://localhost:8080/",
          "height": 404
        },
        "outputId": "b0223025-73c0-4df5-ddae-a6ccfae6ab92"
      },
      "execution_count": 14,
      "outputs": [
        {
          "output_type": "display_data",
          "data": {
            "text/plain": [
              "<Figure size 720x432 with 1 Axes>"
            ],
            "image/png": "[encoded data removed]"
          },
          "metadata": {
            "needs_background": "light"
          }
        }
      ]
    },
    {
      "cell_type": "markdown",
      "source": [
        "pada grafik diatas, kurva memiliki belokan yang tajam di titik 2, sehingga data ini akan dibuat dalam 2 cluster"
      ],
      "metadata": {
        "id": "wOSF-9VLBguh"
      }
    },
    {
      "cell_type": "code",
      "source": [
        "#Silhoutte score untuk Kematian_anak dan Jumlah_fertiliti\n",
        "from sklearn.metrics import silhouette_score"
      ],
      "metadata": {
        "id": "WtmFbpCYA3Oz"
      },
      "execution_count": 16,
      "outputs": []
    },
    {
      "cell_type": "code",
      "source": [
        "for i in range(2,11):\n",
        "  labels = KMeans(n_clusters=i, init='k-means++', random_state=42).fit(df_kf).labels_\n",
        "  print(\"Silhoutte Score untuk cluster \" + str(i) + \" adalah \" + str(silhouette_score(df_kf, labels)))"
      ],
      "metadata": {
        "id": "y5LT_7w4KU74",
        "colab": {
          "base_uri": "https://localhost:8080/"
        },
        "outputId": "98ae21ee-3335-4c53-f868-62011bc15c40"
      },
      "execution_count": 19,
      "outputs": [
        {
          "output_type": "stream",
          "name": "stdout",
          "text": [
            "Silhoutte Score untuk cluster 2 adalah 0.660795120630944\n",
            "Silhoutte Score untuk cluster 3 adalah 0.5297642505588523\n",
            "Silhoutte Score untuk cluster 4 adalah 0.5118308590063755\n",
            "Silhoutte Score untuk cluster 5 adalah 0.4943216502826326\n",
            "Silhoutte Score untuk cluster 6 adalah 0.4972196419464737\n",
            "Silhoutte Score untuk cluster 7 adalah 0.42387542957394886\n",
            "Silhoutte Score untuk cluster 8 adalah 0.42446711581741464\n",
            "Silhoutte Score untuk cluster 9 adalah 0.40181547942413554\n",
            "Silhoutte Score untuk cluster 10 adalah 0.40654175324341707\n"
          ]
        }
      ]
    },
    {
      "cell_type": "markdown",
      "source": [
        "Silhoutte score digunakan untuk melihat nilai k (banyaknya cluster) yang terbaik dilihat dari nilai yang tertinggi. Diperoleh Silhoutte score tertingginya yaiut 0.6607 untuk 2 cluster."
      ],
      "metadata": {
        "id": "mcSGgyIV2T9C"
      }
    },
    {
      "cell_type": "code",
      "source": [
        "#KMeans Cluster Kematian_anak dan Jumlah_fertiliti\n",
        "#2 cluster\n",
        "kmeans_kf = KMeans(n_clusters=2, init='k-means++', random_state=42).fit(df_kf)\n",
        "labels_kf = kmeans_kf.labels_\n",
        "\n",
        "df_kf_cluster = pd.DataFrame(data= df_outlier, columns=['Kematian_anak','Jumlah_fertiliti'])\n",
        "df_kf_cluster['cluster'] = labels_kf\n",
        "df_kf_cluster.head()"
      ],
      "metadata": {
        "id": "kn8EbrB13B0W",
        "colab": {
          "base_uri": "https://localhost:8080/",
          "height": 206
        },
        "outputId": "45f4b2ed-a652-4dff-b29a-547952bb1630"
      },
      "execution_count": 21,
      "outputs": [
        {
          "output_type": "execute_result",
          "data": {
            "text/plain": [
              "   Kematian_anak  Jumlah_fertiliti  cluster\n",
              "0           90.2              5.82        0\n",
              "1           16.6              1.65        1\n",
              "2           27.3              2.89        1\n",
              "3          119.0              6.16        0\n",
              "4           10.3              2.13        1"
            ],
            "text/html": [
              "\n",
              "  <div id=\"df-08b1a992-5e40-492c-8949-ef52a5a826e7\">\n",
              "    <div class=\"colab-df-container\">\n",
              "      <div>\n",
              "<style scoped>\n",
              "    .dataframe tbody tr th:only-of-type {\n",
              "        vertical-align: middle;\n",
              "    }\n",
              "\n",
              "    .dataframe tbody tr th {\n",
              "        vertical-align: top;\n",
              "    }\n",
              "\n",
              "    .dataframe thead th {\n",
              "        text-align: right;\n",
              "    }\n",
              "</style>\n",
              "<table border=\"1\" class=\"dataframe\">\n",
              "  <thead>\n",
              "    <tr style=\"text-align: right;\">\n",
              "      <th></th>\n",
              "      <th>Kematian_anak</th>\n",
              "      <th>Jumlah_fertiliti</th>\n",
              "      <th>cluster</th>\n",
              "    </tr>\n",
              "  </thead>\n",
              "  <tbody>\n",
              "    <tr>\n",
              "      <th>0</th>\n",
              "      <td>90.2</td>\n",
              "      <td>5.82</td>\n",
              "      <td>0</td>\n",
              "    </tr>\n",
              "    <tr>\n",
              "      <th>1</th>\n",
              "      <td>16.6</td>\n",
              "      <td>1.65</td>\n",
              "      <td>1</td>\n",
              "    </tr>\n",
              "    <tr>\n",
              "      <th>2</th>\n",
              "      <td>27.3</td>\n",
              "      <td>2.89</td>\n",
              "      <td>1</td>\n",
              "    </tr>\n",
              "    <tr>\n",
              "      <th>3</th>\n",
              "      <td>119.0</td>\n",
              "      <td>6.16</td>\n",
              "      <td>0</td>\n",
              "    </tr>\n",
              "    <tr>\n",
              "      <th>4</th>\n",
              "      <td>10.3</td>\n",
              "      <td>2.13</td>\n",
              "      <td>1</td>\n",
              "    </tr>\n",
              "  </tbody>\n",
              "</table>\n",
              "</div>\n",
              "      <button class=\"colab-df-convert\" onclick=\"convertToInteractive('df-08b1a992-5e40-492c-8949-ef52a5a826e7')\"\n",
              "              title=\"Convert this dataframe to an interactive table.\"\n",
              "              style=\"display:none;\">\n",
              "        \n",
              "  <svg xmlns=\"http://www.w3.org/2000/svg\" height=\"24px\"viewBox=\"0 0 24 24\"\n",
              "       width=\"24px\">\n",
              "    <path d=\"M0 0h24v24H0V0z\" fill=\"none\"/>\n",
              "    <path d=\"M18.56 5.44l.94 2.06.94-2.06 2.06-.94-2.06-.94-.94-2.06-.94 2.06-2.06.94zm-11 1L8.5 8.5l.94-2.06 2.06-.94-2.06-.94L8.5 2.5l-.94 2.06-2.06.94zm10 10l.94 2.06.94-2.06 2.06-.94-2.06-.94-.94-2.06-.94 2.06-2.06.94z\"/><path d=\"M17.41 7.96l-1.37-1.37c-.4-.4-.92-.59-1.43-.59-.52 0-1.04.2-1.43.59L10.3 9.45l-7.72 7.72c-.78.78-.78 2.05 0 2.83L4 21.41c.39.39.9.59 1.41.59.51 0 1.02-.2 1.41-.59l7.78-7.78 2.81-2.81c.8-.78.8-2.07 0-2.86zM5.41 20L4 18.59l7.72-7.72 1.47 1.35L5.41 20z\"/>\n",
              "  </svg>\n",
              "      </button>\n",
              "      \n",
              "  <style>\n",
              "    .colab-df-container {\n",
              "      display:flex;\n",
              "      flex-wrap:wrap;\n",
              "      gap: 12px;\n",
              "    }\n",
              "\n",
              "    .colab-df-convert {\n",
              "      background-color: #E8F0FE;\n",
              "      border: none;\n",
              "      border-radius: 50%;\n",
              "      cursor: pointer;\n",
              "      display: none;\n",
              "      fill: #1967D2;\n",
              "      height: 32px;\n",
              "      padding: 0 0 0 0;\n",
              "      width: 32px;\n",
              "    }\n",
              "\n",
              "    .colab-df-convert:hover {\n",
              "      background-color: #E2EBFA;\n",
              "      box-shadow: 0px 1px 2px rgba(60, 64, 67, 0.3), 0px 1px 3px 1px rgba(60, 64, 67, 0.15);\n",
              "      fill: #174EA6;\n",
              "    }\n",
              "\n",
              "    [theme=dark] .colab-df-convert {\n",
              "      background-color: #3B4455;\n",
              "      fill: #D2E3FC;\n",
              "    }\n",
              "\n",
              "    [theme=dark] .colab-df-convert:hover {\n",
              "      background-color: #434B5C;\n",
              "      box-shadow: 0px 1px 3px 1px rgba(0, 0, 0, 0.15);\n",
              "      filter: drop-shadow(0px 1px 2px rgba(0, 0, 0, 0.3));\n",
              "      fill: #FFFFFF;\n",
              "    }\n",
              "  </style>\n",
              "\n",
              "      <script>\n",
              "        const buttonEl =\n",
              "          document.querySelector('#df-08b1a992-5e40-492c-8949-ef52a5a826e7 button.colab-df-convert');\n",
              "        buttonEl.style.display =\n",
              "          google.colab.kernel.accessAllowed ? 'block' : 'none';\n",
              "\n",
              "        async function convertToInteractive(key) {\n",
              "          const element = document.querySelector('#df-08b1a992-5e40-492c-8949-ef52a5a826e7');\n",
              "          const dataTable =\n",
              "            await google.colab.kernel.invokeFunction('convertToInteractive',\n",
              "                                                     [key], {});\n",
              "          if (!dataTable) return;\n",
              "\n",
              "          const docLinkHtml = 'Like what you see? Visit the ' +\n",
              "            '<a target=\"_blank\" href=https://colab.research.google.com/notebooks/data_table.ipynb>data table notebook</a>'\n",
              "            + ' to learn more about interactive tables.';\n",
              "          element.innerHTML = '';\n",
              "          dataTable['output_type'] = 'display_data';\n",
              "          await google.colab.output.renderOutput(dataTable, element);\n",
              "          const docLink = document.createElement('div');\n",
              "          docLink.innerHTML = docLinkHtml;\n",
              "          element.appendChild(docLink);\n",
              "        }\n",
              "      </script>\n",
              "    </div>\n",
              "  </div>\n",
              "  "
            ]
          },
          "metadata": {},
          "execution_count": 21
        }
      ]
    },
    {
      "cell_type": "code",
      "source": [
        "df_kf_scal = pd.DataFrame(data= df_kf, columns=['Kematian_anak','Jumlah_fertiliti'])\n",
        "df_kf_scal['cluster'] = labels_kf\n",
        "df_kf_scal.head()"
      ],
      "metadata": {
        "id": "acNCp6Cg-00S",
        "colab": {
          "base_uri": "https://localhost:8080/",
          "height": 206
        },
        "outputId": "7b5a863e-83c3-4e18-9c2c-61e8eebb4a00"
      },
      "execution_count": 22,
      "outputs": [
        {
          "output_type": "execute_result",
          "data": {
            "text/plain": [
              "   Kematian_anak  Jumlah_fertiliti  cluster\n",
              "0       1.595554          1.977182        0\n",
              "1      -0.528188         -0.862059        1\n",
              "2      -0.219438         -0.017776        1\n",
              "3       2.426584          2.208679        0\n",
              "4      -0.709976         -0.535240        1"
            ],
            "text/html": [
              "\n",
              "  <div id=\"df-ac70745c-427b-4b5f-ac1a-13c86953267e\">\n",
              "    <div class=\"colab-df-container\">\n",
              "      <div>\n",
              "<style scoped>\n",
              "    .dataframe tbody tr th:only-of-type {\n",
              "        vertical-align: middle;\n",
              "    }\n",
              "\n",
              "    .dataframe tbody tr th {\n",
              "        vertical-align: top;\n",
              "    }\n",
              "\n",
              "    .dataframe thead th {\n",
              "        text-align: right;\n",
              "    }\n",
              "</style>\n",
              "<table border=\"1\" class=\"dataframe\">\n",
              "  <thead>\n",
              "    <tr style=\"text-align: right;\">\n",
              "      <th></th>\n",
              "      <th>Kematian_anak</th>\n",
              "      <th>Jumlah_fertiliti</th>\n",
              "      <th>cluster</th>\n",
              "    </tr>\n",
              "  </thead>\n",
              "  <tbody>\n",
              "    <tr>\n",
              "      <th>0</th>\n",
              "      <td>1.595554</td>\n",
              "      <td>1.977182</td>\n",
              "      <td>0</td>\n",
              "    </tr>\n",
              "    <tr>\n",
              "      <th>1</th>\n",
              "      <td>-0.528188</td>\n",
              "      <td>-0.862059</td>\n",
              "      <td>1</td>\n",
              "    </tr>\n",
              "    <tr>\n",
              "      <th>2</th>\n",
              "      <td>-0.219438</td>\n",
              "      <td>-0.017776</td>\n",
              "      <td>1</td>\n",
              "    </tr>\n",
              "    <tr>\n",
              "      <th>3</th>\n",
              "      <td>2.426584</td>\n",
              "      <td>2.208679</td>\n",
              "      <td>0</td>\n",
              "    </tr>\n",
              "    <tr>\n",
              "      <th>4</th>\n",
              "      <td>-0.709976</td>\n",
              "      <td>-0.535240</td>\n",
              "      <td>1</td>\n",
              "    </tr>\n",
              "  </tbody>\n",
              "</table>\n",
              "</div>\n",
              "      <button class=\"colab-df-convert\" onclick=\"convertToInteractive('df-ac70745c-427b-4b5f-ac1a-13c86953267e')\"\n",
              "              title=\"Convert this dataframe to an interactive table.\"\n",
              "              style=\"display:none;\">\n",
              "        \n",
              "  <svg xmlns=\"http://www.w3.org/2000/svg\" height=\"24px\"viewBox=\"0 0 24 24\"\n",
              "       width=\"24px\">\n",
              "    <path d=\"M0 0h24v24H0V0z\" fill=\"none\"/>\n",
              "    <path d=\"M18.56 5.44l.94 2.06.94-2.06 2.06-.94-2.06-.94-.94-2.06-.94 2.06-2.06.94zm-11 1L8.5 8.5l.94-2.06 2.06-.94-2.06-.94L8.5 2.5l-.94 2.06-2.06.94zm10 10l.94 2.06.94-2.06 2.06-.94-2.06-.94-.94-2.06-.94 2.06-2.06.94z\"/><path d=\"M17.41 7.96l-1.37-1.37c-.4-.4-.92-.59-1.43-.59-.52 0-1.04.2-1.43.59L10.3 9.45l-7.72 7.72c-.78.78-.78 2.05 0 2.83L4 21.41c.39.39.9.59 1.41.59.51 0 1.02-.2 1.41-.59l7.78-7.78 2.81-2.81c.8-.78.8-2.07 0-2.86zM5.41 20L4 18.59l7.72-7.72 1.47 1.35L5.41 20z\"/>\n",
              "  </svg>\n",
              "      </button>\n",
              "      \n",
              "  <style>\n",
              "    .colab-df-container {\n",
              "      display:flex;\n",
              "      flex-wrap:wrap;\n",
              "      gap: 12px;\n",
              "    }\n",
              "\n",
              "    .colab-df-convert {\n",
              "      background-color: #E8F0FE;\n",
              "      border: none;\n",
              "      border-radius: 50%;\n",
              "      cursor: pointer;\n",
              "      display: none;\n",
              "      fill: #1967D2;\n",
              "      height: 32px;\n",
              "      padding: 0 0 0 0;\n",
              "      width: 32px;\n",
              "    }\n",
              "\n",
              "    .colab-df-convert:hover {\n",
              "      background-color: #E2EBFA;\n",
              "      box-shadow: 0px 1px 2px rgba(60, 64, 67, 0.3), 0px 1px 3px 1px rgba(60, 64, 67, 0.15);\n",
              "      fill: #174EA6;\n",
              "    }\n",
              "\n",
              "    [theme=dark] .colab-df-convert {\n",
              "      background-color: #3B4455;\n",
              "      fill: #D2E3FC;\n",
              "    }\n",
              "\n",
              "    [theme=dark] .colab-df-convert:hover {\n",
              "      background-color: #434B5C;\n",
              "      box-shadow: 0px 1px 3px 1px rgba(0, 0, 0, 0.15);\n",
              "      filter: drop-shadow(0px 1px 2px rgba(0, 0, 0, 0.3));\n",
              "      fill: #FFFFFF;\n",
              "    }\n",
              "  </style>\n",
              "\n",
              "      <script>\n",
              "        const buttonEl =\n",
              "          document.querySelector('#df-ac70745c-427b-4b5f-ac1a-13c86953267e button.colab-df-convert');\n",
              "        buttonEl.style.display =\n",
              "          google.colab.kernel.accessAllowed ? 'block' : 'none';\n",
              "\n",
              "        async function convertToInteractive(key) {\n",
              "          const element = document.querySelector('#df-ac70745c-427b-4b5f-ac1a-13c86953267e');\n",
              "          const dataTable =\n",
              "            await google.colab.kernel.invokeFunction('convertToInteractive',\n",
              "                                                     [key], {});\n",
              "          if (!dataTable) return;\n",
              "\n",
              "          const docLinkHtml = 'Like what you see? Visit the ' +\n",
              "            '<a target=\"_blank\" href=https://colab.research.google.com/notebooks/data_table.ipynb>data table notebook</a>'\n",
              "            + ' to learn more about interactive tables.';\n",
              "          element.innerHTML = '';\n",
              "          dataTable['output_type'] = 'display_data';\n",
              "          await google.colab.output.renderOutput(dataTable, element);\n",
              "          const docLink = document.createElement('div');\n",
              "          docLink.innerHTML = docLinkHtml;\n",
              "          element.appendChild(docLink);\n",
              "        }\n",
              "      </script>\n",
              "    </div>\n",
              "  </div>\n",
              "  "
            ]
          },
          "metadata": {},
          "execution_count": 22
        }
      ]
    },
    {
      "cell_type": "code",
      "source": [
        "#Scatter Plot Kematian_anak dan Jumlah_fertiliti\n",
        "plt.figure(figsize=(12,8))\n",
        "print('n_cluster = 2')\n",
        "plt.scatter(df_kf_scal['Kematian_anak'][df_kf_scal['cluster']==0], df_kf_scal['Jumlah_fertiliti'][df_kf_scal['cluster']==0], c='blue', s=100, edgecolors='black' )\n",
        "plt.scatter(df_kf_scal['Kematian_anak'][df_kf_scal['cluster']==1], df_kf_scal['Jumlah_fertiliti'][df_kf_scal['cluster']==1], c='green', s=100, edgecolors='black' )\n",
        "\n",
        "cluster = kmeans_kf.cluster_centers_\n",
        "plt.scatter(cluster[:,0], cluster[:,1], c='black', s=500)\n",
        "plt.xlabel('Kematian_anak')\n",
        "plt.ylabel('Jumlah_fertiliti')\n",
        "plt.show()"
      ],
      "metadata": {
        "id": "0R9mrlWN47w_",
        "colab": {
          "base_uri": "https://localhost:8080/",
          "height": 515
        },
        "outputId": "44860cc7-a562-411f-c9c1-c6838b0e218c"
      },
      "execution_count": 23,
      "outputs": [
        {
          "output_type": "stream",
          "name": "stdout",
          "text": [
            "n_cluster = 2\n"
          ]
        },
        {
          "output_type": "display_data",
          "data": {
            "text/plain": [
              "<Figure size 864x576 with 1 Axes>"
            ],
            "image/png": "[encoded data removed]"
          },
          "metadata": {
            "needs_background": "light"
          }
        }
      ]
    },
    {
      "cell_type": "markdown",
      "source": [
        "Interpretasi :\n",
        "Bisa dilihat bahwa terdapat 2 cluster. Cluster dengan label 1 berwarna hijau menunjukkan kecenderungan Kematian_anak dan jumlah_fertilitinya rendah, sedangkan cluster dengan label 0 berwarna biru menunjukkan kecenderungan Kematian_anak dan Jumlah_fertilitinya tinggi."
      ],
      "metadata": {
        "id": "_v4Scd1680u3"
      }
    },
    {
      "cell_type": "code",
      "source": [
        "df_kf_cluster.groupby(['cluster']).agg({'Kematian_anak':'mean', 'Jumlah_fertiliti':'mean'})"
      ],
      "metadata": {
        "id": "hGzo_tdL8SuA",
        "colab": {
          "base_uri": "https://localhost:8080/",
          "height": 143
        },
        "outputId": "16cfa1c6-ae55-40fe-bee0-25b503a1e0f4"
      },
      "execution_count": 24,
      "outputs": [
        {
          "output_type": "execute_result",
          "data": {
            "text/plain": [
              "         Kematian_anak  Jumlah_fertiliti\n",
              "cluster                                 \n",
              "0            82.573333          4.994889\n",
              "1            17.322131          2.149344"
            ],
            "text/html": [
              "\n",
              "  <div id=\"df-6d07a6f7-829f-4188-8294-49e4205cd504\">\n",
              "    <div class=\"colab-df-container\">\n",
              "      <div>\n",
              "<style scoped>\n",
              "    .dataframe tbody tr th:only-of-type {\n",
              "        vertical-align: middle;\n",
              "    }\n",
              "\n",
              "    .dataframe tbody tr th {\n",
              "        vertical-align: top;\n",
              "    }\n",
              "\n",
              "    .dataframe thead th {\n",
              "        text-align: right;\n",
              "    }\n",
              "</style>\n",
              "<table border=\"1\" class=\"dataframe\">\n",
              "  <thead>\n",
              "    <tr style=\"text-align: right;\">\n",
              "      <th></th>\n",
              "      <th>Kematian_anak</th>\n",
              "      <th>Jumlah_fertiliti</th>\n",
              "    </tr>\n",
              "    <tr>\n",
              "      <th>cluster</th>\n",
              "      <th></th>\n",
              "      <th></th>\n",
              "    </tr>\n",
              "  </thead>\n",
              "  <tbody>\n",
              "    <tr>\n",
              "      <th>0</th>\n",
              "      <td>82.573333</td>\n",
              "      <td>4.994889</td>\n",
              "    </tr>\n",
              "    <tr>\n",
              "      <th>1</th>\n",
              "      <td>17.322131</td>\n",
              "      <td>2.149344</td>\n",
              "    </tr>\n",
              "  </tbody>\n",
              "</table>\n",
              "</div>\n",
              "      <button class=\"colab-df-convert\" onclick=\"convertToInteractive('df-6d07a6f7-829f-4188-8294-49e4205cd504')\"\n",
              "              title=\"Convert this dataframe to an interactive table.\"\n",
              "              style=\"display:none;\">\n",
              "        \n",
              "  <svg xmlns=\"http://www.w3.org/2000/svg\" height=\"24px\"viewBox=\"0 0 24 24\"\n",
              "       width=\"24px\">\n",
              "    <path d=\"M0 0h24v24H0V0z\" fill=\"none\"/>\n",
              "    <path d=\"M18.56 5.44l.94 2.06.94-2.06 2.06-.94-2.06-.94-.94-2.06-.94 2.06-2.06.94zm-11 1L8.5 8.5l.94-2.06 2.06-.94-2.06-.94L8.5 2.5l-.94 2.06-2.06.94zm10 10l.94 2.06.94-2.06 2.06-.94-2.06-.94-.94-2.06-.94 2.06-2.06.94z\"/><path d=\"M17.41 7.96l-1.37-1.37c-.4-.4-.92-.59-1.43-.59-.52 0-1.04.2-1.43.59L10.3 9.45l-7.72 7.72c-.78.78-.78 2.05 0 2.83L4 21.41c.39.39.9.59 1.41.59.51 0 1.02-.2 1.41-.59l7.78-7.78 2.81-2.81c.8-.78.8-2.07 0-2.86zM5.41 20L4 18.59l7.72-7.72 1.47 1.35L5.41 20z\"/>\n",
              "  </svg>\n",
              "      </button>\n",
              "      \n",
              "  <style>\n",
              "    .colab-df-container {\n",
              "      display:flex;\n",
              "      flex-wrap:wrap;\n",
              "      gap: 12px;\n",
              "    }\n",
              "\n",
              "    .colab-df-convert {\n",
              "      background-color: #E8F0FE;\n",
              "      border: none;\n",
              "      border-radius: 50%;\n",
              "      cursor: pointer;\n",
              "      display: none;\n",
              "      fill: #1967D2;\n",
              "      height: 32px;\n",
              "      padding: 0 0 0 0;\n",
              "      width: 32px;\n",
              "    }\n",
              "\n",
              "    .colab-df-convert:hover {\n",
              "      background-color: #E2EBFA;\n",
              "      box-shadow: 0px 1px 2px rgba(60, 64, 67, 0.3), 0px 1px 3px 1px rgba(60, 64, 67, 0.15);\n",
              "      fill: #174EA6;\n",
              "    }\n",
              "\n",
              "    [theme=dark] .colab-df-convert {\n",
              "      background-color: #3B4455;\n",
              "      fill: #D2E3FC;\n",
              "    }\n",
              "\n",
              "    [theme=dark] .colab-df-convert:hover {\n",
              "      background-color: #434B5C;\n",
              "      box-shadow: 0px 1px 3px 1px rgba(0, 0, 0, 0.15);\n",
              "      filter: drop-shadow(0px 1px 2px rgba(0, 0, 0, 0.3));\n",
              "      fill: #FFFFFF;\n",
              "    }\n",
              "  </style>\n",
              "\n",
              "      <script>\n",
              "        const buttonEl =\n",
              "          document.querySelector('#df-6d07a6f7-829f-4188-8294-49e4205cd504 button.colab-df-convert');\n",
              "        buttonEl.style.display =\n",
              "          google.colab.kernel.accessAllowed ? 'block' : 'none';\n",
              "\n",
              "        async function convertToInteractive(key) {\n",
              "          const element = document.querySelector('#df-6d07a6f7-829f-4188-8294-49e4205cd504');\n",
              "          const dataTable =\n",
              "            await google.colab.kernel.invokeFunction('convertToInteractive',\n",
              "                                                     [key], {});\n",
              "          if (!dataTable) return;\n",
              "\n",
              "          const docLinkHtml = 'Like what you see? Visit the ' +\n",
              "            '<a target=\"_blank\" href=https://colab.research.google.com/notebooks/data_table.ipynb>data table notebook</a>'\n",
              "            + ' to learn more about interactive tables.';\n",
              "          element.innerHTML = '';\n",
              "          dataTable['output_type'] = 'display_data';\n",
              "          await google.colab.output.renderOutput(dataTable, element);\n",
              "          const docLink = document.createElement('div');\n",
              "          docLink.innerHTML = docLinkHtml;\n",
              "          element.appendChild(docLink);\n",
              "        }\n",
              "      </script>\n",
              "    </div>\n",
              "  </div>\n",
              "  "
            ]
          },
          "metadata": {},
          "execution_count": 24
        }
      ]
    },
    {
      "cell_type": "markdown",
      "source": [
        "Bisa disimpulkan:\n",
        "\n",
        "cluster 0 : memiliki rata-rata tingkat kematian anak yang tinggi, yaitu 82 kematian anak per 1000 kelahiran dengan rata-rata 4 anak yang lahir dari setiap wanita\n",
        "\n",
        "cluster 1 : memiliki rata-rata tingkat kematian anak yang rendah, yaitu 17 kematian anak per 1000 kelahiran dengan rata-rata 2 anak yang lahir dari setiap wanita"
      ],
      "metadata": {
        "id": "3CV2FwjM_ysp"
      }
    },
    {
      "cell_type": "code",
      "source": [
        "cluster_kf = pd.concat([df['Negara'],df_kf_cluster], axis=1, join='outer')\n",
        "cluster_kf.head()"
      ],
      "metadata": {
        "id": "dcddeeHLBOJB",
        "colab": {
          "base_uri": "https://localhost:8080/",
          "height": 206
        },
        "outputId": "606479de-1439-4997-eb06-63742f28e2a5"
      },
      "execution_count": 27,
      "outputs": [
        {
          "output_type": "execute_result",
          "data": {
            "text/plain": [
              "                Negara  Kematian_anak  Jumlah_fertiliti  cluster\n",
              "0          Afghanistan           90.2              5.82        0\n",
              "1              Albania           16.6              1.65        1\n",
              "2              Algeria           27.3              2.89        1\n",
              "3               Angola          119.0              6.16        0\n",
              "4  Antigua and Barbuda           10.3              2.13        1"
            ],
            "text/html": [
              "\n",
              "  <div id=\"df-02abe4cd-0ca9-4940-be62-b128a162bccd\">\n",
              "    <div class=\"colab-df-container\">\n",
              "      <div>\n",
              "<style scoped>\n",
              "    .dataframe tbody tr th:only-of-type {\n",
              "        vertical-align: middle;\n",
              "    }\n",
              "\n",
              "    .dataframe tbody tr th {\n",
              "        vertical-align: top;\n",
              "    }\n",
              "\n",
              "    .dataframe thead th {\n",
              "        text-align: right;\n",
              "    }\n",
              "</style>\n",
              "<table border=\"1\" class=\"dataframe\">\n",
              "  <thead>\n",
              "    <tr style=\"text-align: right;\">\n",
              "      <th></th>\n",
              "      <th>Negara</th>\n",
              "      <th>Kematian_anak</th>\n",
              "      <th>Jumlah_fertiliti</th>\n",
              "      <th>cluster</th>\n",
              "    </tr>\n",
              "  </thead>\n",
              "  <tbody>\n",
              "    <tr>\n",
              "      <th>0</th>\n",
              "      <td>Afghanistan</td>\n",
              "      <td>90.2</td>\n",
              "      <td>5.82</td>\n",
              "      <td>0</td>\n",
              "    </tr>\n",
              "    <tr>\n",
              "      <th>1</th>\n",
              "      <td>Albania</td>\n",
              "      <td>16.6</td>\n",
              "      <td>1.65</td>\n",
              "      <td>1</td>\n",
              "    </tr>\n",
              "    <tr>\n",
              "      <th>2</th>\n",
              "      <td>Algeria</td>\n",
              "      <td>27.3</td>\n",
              "      <td>2.89</td>\n",
              "      <td>1</td>\n",
              "    </tr>\n",
              "    <tr>\n",
              "      <th>3</th>\n",
              "      <td>Angola</td>\n",
              "      <td>119.0</td>\n",
              "      <td>6.16</td>\n",
              "      <td>0</td>\n",
              "    </tr>\n",
              "    <tr>\n",
              "      <th>4</th>\n",
              "      <td>Antigua and Barbuda</td>\n",
              "      <td>10.3</td>\n",
              "      <td>2.13</td>\n",
              "      <td>1</td>\n",
              "    </tr>\n",
              "  </tbody>\n",
              "</table>\n",
              "</div>\n",
              "      <button class=\"colab-df-convert\" onclick=\"convertToInteractive('df-02abe4cd-0ca9-4940-be62-b128a162bccd')\"\n",
              "              title=\"Convert this dataframe to an interactive table.\"\n",
              "              style=\"display:none;\">\n",
              "        \n",
              "  <svg xmlns=\"http://www.w3.org/2000/svg\" height=\"24px\"viewBox=\"0 0 24 24\"\n",
              "       width=\"24px\">\n",
              "    <path d=\"M0 0h24v24H0V0z\" fill=\"none\"/>\n",
              "    <path d=\"M18.56 5.44l.94 2.06.94-2.06 2.06-.94-2.06-.94-.94-2.06-.94 2.06-2.06.94zm-11 1L8.5 8.5l.94-2.06 2.06-.94-2.06-.94L8.5 2.5l-.94 2.06-2.06.94zm10 10l.94 2.06.94-2.06 2.06-.94-2.06-.94-.94-2.06-.94 2.06-2.06.94z\"/><path d=\"M17.41 7.96l-1.37-1.37c-.4-.4-.92-.59-1.43-.59-.52 0-1.04.2-1.43.59L10.3 9.45l-7.72 7.72c-.78.78-.78 2.05 0 2.83L4 21.41c.39.39.9.59 1.41.59.51 0 1.02-.2 1.41-.59l7.78-7.78 2.81-2.81c.8-.78.8-2.07 0-2.86zM5.41 20L4 18.59l7.72-7.72 1.47 1.35L5.41 20z\"/>\n",
              "  </svg>\n",
              "      </button>\n",
              "      \n",
              "  <style>\n",
              "    .colab-df-container {\n",
              "      display:flex;\n",
              "      flex-wrap:wrap;\n",
              "      gap: 12px;\n",
              "    }\n",
              "\n",
              "    .colab-df-convert {\n",
              "      background-color: #E8F0FE;\n",
              "      border: none;\n",
              "      border-radius: 50%;\n",
              "      cursor: pointer;\n",
              "      display: none;\n",
              "      fill: #1967D2;\n",
              "      height: 32px;\n",
              "      padding: 0 0 0 0;\n",
              "      width: 32px;\n",
              "    }\n",
              "\n",
              "    .colab-df-convert:hover {\n",
              "      background-color: #E2EBFA;\n",
              "      box-shadow: 0px 1px 2px rgba(60, 64, 67, 0.3), 0px 1px 3px 1px rgba(60, 64, 67, 0.15);\n",
              "      fill: #174EA6;\n",
              "    }\n",
              "\n",
              "    [theme=dark] .colab-df-convert {\n",
              "      background-color: #3B4455;\n",
              "      fill: #D2E3FC;\n",
              "    }\n",
              "\n",
              "    [theme=dark] .colab-df-convert:hover {\n",
              "      background-color: #434B5C;\n",
              "      box-shadow: 0px 1px 3px 1px rgba(0, 0, 0, 0.15);\n",
              "      filter: drop-shadow(0px 1px 2px rgba(0, 0, 0, 0.3));\n",
              "      fill: #FFFFFF;\n",
              "    }\n",
              "  </style>\n",
              "\n",
              "      <script>\n",
              "        const buttonEl =\n",
              "          document.querySelector('#df-02abe4cd-0ca9-4940-be62-b128a162bccd button.colab-df-convert');\n",
              "        buttonEl.style.display =\n",
              "          google.colab.kernel.accessAllowed ? 'block' : 'none';\n",
              "\n",
              "        async function convertToInteractive(key) {\n",
              "          const element = document.querySelector('#df-02abe4cd-0ca9-4940-be62-b128a162bccd');\n",
              "          const dataTable =\n",
              "            await google.colab.kernel.invokeFunction('convertToInteractive',\n",
              "                                                     [key], {});\n",
              "          if (!dataTable) return;\n",
              "\n",
              "          const docLinkHtml = 'Like what you see? Visit the ' +\n",
              "            '<a target=\"_blank\" href=https://colab.research.google.com/notebooks/data_table.ipynb>data table notebook</a>'\n",
              "            + ' to learn more about interactive tables.';\n",
              "          element.innerHTML = '';\n",
              "          dataTable['output_type'] = 'display_data';\n",
              "          await google.colab.output.renderOutput(dataTable, element);\n",
              "          const docLink = document.createElement('div');\n",
              "          docLink.innerHTML = docLinkHtml;\n",
              "          element.appendChild(docLink);\n",
              "        }\n",
              "      </script>\n",
              "    </div>\n",
              "  </div>\n",
              "  "
            ]
          },
          "metadata": {},
          "execution_count": 27
        }
      ]
    },
    {
      "cell_type": "code",
      "source": [
        "print('daftar negara cluster 0 :')\n",
        "print(cluster_kf[cluster_kf.cluster == 0].Negara.values)\n",
        "print('Total : ', cluster_kf[cluster_kf.cluster == 0].Negara.count())"
      ],
      "metadata": {
        "id": "Y_ooTNPY93bk",
        "colab": {
          "base_uri": "https://localhost:8080/"
        },
        "outputId": "9639a4ac-eacb-48a1-8be1-c7305a3eb09f"
      },
      "execution_count": 28,
      "outputs": [
        {
          "output_type": "stream",
          "name": "stdout",
          "text": [
            "daftar negara cluster 0 :\n",
            "['Afghanistan' 'Angola' 'Benin' 'Burkina Faso' 'Burundi' 'Cameroon'\n",
            " 'Central African Republic' 'Chad' 'Comoros' 'Congo, Dem. Rep.'\n",
            " 'Congo, Rep.' \"Cote d'Ivoire\" 'Equatorial Guinea' 'Eritrea' 'Gabon'\n",
            " 'Gambia' 'Ghana' 'Guinea' 'Guinea-Bissau' 'Iraq' 'Kenya' 'Kiribati' 'Lao'\n",
            " 'Lesotho' 'Liberia' 'Madagascar' 'Malawi' 'Mali' 'Mauritania'\n",
            " 'Mozambique' 'Namibia' 'Niger' 'Nigeria' 'Pakistan' 'Rwanda' 'Senegal'\n",
            " 'Sierra Leone' 'Sudan' 'Tajikistan' 'Tanzania' 'Timor-Leste' 'Togo'\n",
            " 'Uganda' 'Yemen' 'Zambia']\n",
            "Total :  45\n"
          ]
        }
      ]
    },
    {
      "cell_type": "code",
      "source": [
        "print('daftar negara cluster 1 :')\n",
        "print(cluster_kf[cluster_kf.cluster == 1].Negara.values)\n",
        "print('Total : ', cluster_kf[cluster_kf.cluster == 1].Negara.count())"
      ],
      "metadata": {
        "id": "mtnWq7aFBnfk",
        "colab": {
          "base_uri": "https://localhost:8080/"
        },
        "outputId": "7c3e5f43-a587-4aab-d7c6-121e41618914"
      },
      "execution_count": 29,
      "outputs": [
        {
          "output_type": "stream",
          "name": "stdout",
          "text": [
            "daftar negara cluster 1 :\n",
            "['Albania' 'Algeria' 'Antigua and Barbuda' 'Argentina' 'Armenia'\n",
            " 'Australia' 'Austria' 'Azerbaijan' 'Bahamas' 'Bahrain' 'Bangladesh'\n",
            " 'Barbados' 'Belarus' 'Belgium' 'Belize' 'Bhutan' 'Bolivia'\n",
            " 'Bosnia and Herzegovina' 'Botswana' 'Brazil' 'Brunei' 'Bulgaria'\n",
            " 'Cambodia' 'Canada' 'Cape Verde' 'Chile' 'China' 'Colombia' 'Costa Rica'\n",
            " 'Croatia' 'Cyprus' 'Czech Republic' 'Denmark' 'Dominican Republic'\n",
            " 'Ecuador' 'Egypt' 'El Salvador' 'Estonia' 'Fiji' 'Finland' 'France'\n",
            " 'Georgia' 'Germany' 'Greece' 'Grenada' 'Guatemala' 'Guyana' 'Haiti'\n",
            " 'Hungary' 'Iceland' 'India' 'Indonesia' 'Iran' 'Ireland' 'Israel' 'Italy'\n",
            " 'Jamaica' 'Japan' 'Jordan' 'Kazakhstan' 'Kuwait' 'Kyrgyz Republic'\n",
            " 'Latvia' 'Lebanon' 'Libya' 'Lithuania' 'Luxembourg' 'Macedonia, FYR'\n",
            " 'Malaysia' 'Maldives' 'Malta' 'Mauritius' 'Micronesia, Fed. Sts.'\n",
            " 'Moldova' 'Mongolia' 'Montenegro' 'Morocco' 'Myanmar' 'Nepal'\n",
            " 'Netherlands' 'New Zealand' 'Norway' 'Oman' 'Panama' 'Paraguay' 'Peru'\n",
            " 'Philippines' 'Poland' 'Portugal' 'Qatar' 'Romania' 'Russia' 'Samoa'\n",
            " 'Saudi Arabia' 'Serbia' 'Seychelles' 'Singapore' 'Slovak Republic'\n",
            " 'Slovenia' 'Solomon Islands' 'South Africa' 'South Korea' 'Spain'\n",
            " 'Sri Lanka' 'St. Vincent and the Grenadines' 'Suriname' 'Sweden'\n",
            " 'Switzerland' 'Thailand' 'Tonga' 'Tunisia' 'Turkey' 'Turkmenistan'\n",
            " 'Ukraine' 'United Arab Emirates' 'United Kingdom' 'United States'\n",
            " 'Uruguay' 'Uzbekistan' 'Vanuatu' 'Venezuela' 'Vietnam']\n",
            "Total :  122\n"
          ]
        }
      ]
    },
    {
      "cell_type": "markdown",
      "source": [
        "Dari hasil analisis diatas, negara yang ada di cluster 0 akan dipertimbangkan untuk menjadi penerima bantuan dari organisasi HELP dikarenakan tingginya tingkat kematian_anak dan juga jumlah_fertiliti"
      ],
      "metadata": {
        "id": "ZCd8ftPGB5Rp"
      }
    },
    {
      "cell_type": "markdown",
      "source": [
        "#Jumlah_fertiliti dan Harapan_hidup"
      ],
      "metadata": {
        "id": "tN33k3i3Co8S"
      }
    },
    {
      "cell_type": "code",
      "source": [
        "df_jh = pd.DataFrame(data= df_outlier, columns=['Jumlah_fertiliti','Harapan_hidup'])\n",
        "df_jh.head()"
      ],
      "metadata": {
        "cellView": "code",
        "id": "SkIRaCPOE5L1",
        "colab": {
          "base_uri": "https://localhost:8080/",
          "height": 206
        },
        "outputId": "0bade879-5b8c-4b69-d8e8-5cbab296e2b1"
      },
      "execution_count": 30,
      "outputs": [
        {
          "output_type": "execute_result",
          "data": {
            "text/plain": [
              "   Jumlah_fertiliti  Harapan_hidup\n",
              "0              5.82           56.2\n",
              "1              1.65           76.3\n",
              "2              2.89           76.5\n",
              "3              6.16           60.1\n",
              "4              2.13           76.8"
            ],
            "text/html": [
              "\n",
              "  <div id=\"df-0ebc8eee-e520-470c-b9d1-e0ce9479acd3\">\n",
              "    <div class=\"colab-df-container\">\n",
              "      <div>\n",
              "<style scoped>\n",
              "    .dataframe tbody tr th:only-of-type {\n",
              "        vertical-align: middle;\n",
              "    }\n",
              "\n",
              "    .dataframe tbody tr th {\n",
              "        vertical-align: top;\n",
              "    }\n",
              "\n",
              "    .dataframe thead th {\n",
              "        text-align: right;\n",
              "    }\n",
              "</style>\n",
              "<table border=\"1\" class=\"dataframe\">\n",
              "  <thead>\n",
              "    <tr style=\"text-align: right;\">\n",
              "      <th></th>\n",
              "      <th>Jumlah_fertiliti</th>\n",
              "      <th>Harapan_hidup</th>\n",
              "    </tr>\n",
              "  </thead>\n",
              "  <tbody>\n",
              "    <tr>\n",
              "      <th>0</th>\n",
              "      <td>5.82</td>\n",
              "      <td>56.2</td>\n",
              "    </tr>\n",
              "    <tr>\n",
              "      <th>1</th>\n",
              "      <td>1.65</td>\n",
              "      <td>76.3</td>\n",
              "    </tr>\n",
              "    <tr>\n",
              "      <th>2</th>\n",
              "      <td>2.89</td>\n",
              "      <td>76.5</td>\n",
              "    </tr>\n",
              "    <tr>\n",
              "      <th>3</th>\n",
              "      <td>6.16</td>\n",
              "      <td>60.1</td>\n",
              "    </tr>\n",
              "    <tr>\n",
              "      <th>4</th>\n",
              "      <td>2.13</td>\n",
              "      <td>76.8</td>\n",
              "    </tr>\n",
              "  </tbody>\n",
              "</table>\n",
              "</div>\n",
              "      <button class=\"colab-df-convert\" onclick=\"convertToInteractive('df-0ebc8eee-e520-470c-b9d1-e0ce9479acd3')\"\n",
              "              title=\"Convert this dataframe to an interactive table.\"\n",
              "              style=\"display:none;\">\n",
              "        \n",
              "  <svg xmlns=\"http://www.w3.org/2000/svg\" height=\"24px\"viewBox=\"0 0 24 24\"\n",
              "       width=\"24px\">\n",
              "    <path d=\"M0 0h24v24H0V0z\" fill=\"none\"/>\n",
              "    <path d=\"M18.56 5.44l.94 2.06.94-2.06 2.06-.94-2.06-.94-.94-2.06-.94 2.06-2.06.94zm-11 1L8.5 8.5l.94-2.06 2.06-.94-2.06-.94L8.5 2.5l-.94 2.06-2.06.94zm10 10l.94 2.06.94-2.06 2.06-.94-2.06-.94-.94-2.06-.94 2.06-2.06.94z\"/><path d=\"M17.41 7.96l-1.37-1.37c-.4-.4-.92-.59-1.43-.59-.52 0-1.04.2-1.43.59L10.3 9.45l-7.72 7.72c-.78.78-.78 2.05 0 2.83L4 21.41c.39.39.9.59 1.41.59.51 0 1.02-.2 1.41-.59l7.78-7.78 2.81-2.81c.8-.78.8-2.07 0-2.86zM5.41 20L4 18.59l7.72-7.72 1.47 1.35L5.41 20z\"/>\n",
              "  </svg>\n",
              "      </button>\n",
              "      \n",
              "  <style>\n",
              "    .colab-df-container {\n",
              "      display:flex;\n",
              "      flex-wrap:wrap;\n",
              "      gap: 12px;\n",
              "    }\n",
              "\n",
              "    .colab-df-convert {\n",
              "      background-color: #E8F0FE;\n",
              "      border: none;\n",
              "      border-radius: 50%;\n",
              "      cursor: pointer;\n",
              "      display: none;\n",
              "      fill: #1967D2;\n",
              "      height: 32px;\n",
              "      padding: 0 0 0 0;\n",
              "      width: 32px;\n",
              "    }\n",
              "\n",
              "    .colab-df-convert:hover {\n",
              "      background-color: #E2EBFA;\n",
              "      box-shadow: 0px 1px 2px rgba(60, 64, 67, 0.3), 0px 1px 3px 1px rgba(60, 64, 67, 0.15);\n",
              "      fill: #174EA6;\n",
              "    }\n",
              "\n",
              "    [theme=dark] .colab-df-convert {\n",
              "      background-color: #3B4455;\n",
              "      fill: #D2E3FC;\n",
              "    }\n",
              "\n",
              "    [theme=dark] .colab-df-convert:hover {\n",
              "      background-color: #434B5C;\n",
              "      box-shadow: 0px 1px 3px 1px rgba(0, 0, 0, 0.15);\n",
              "      filter: drop-shadow(0px 1px 2px rgba(0, 0, 0, 0.3));\n",
              "      fill: #FFFFFF;\n",
              "    }\n",
              "  </style>\n",
              "\n",
              "      <script>\n",
              "        const buttonEl =\n",
              "          document.querySelector('#df-0ebc8eee-e520-470c-b9d1-e0ce9479acd3 button.colab-df-convert');\n",
              "        buttonEl.style.display =\n",
              "          google.colab.kernel.accessAllowed ? 'block' : 'none';\n",
              "\n",
              "        async function convertToInteractive(key) {\n",
              "          const element = document.querySelector('#df-0ebc8eee-e520-470c-b9d1-e0ce9479acd3');\n",
              "          const dataTable =\n",
              "            await google.colab.kernel.invokeFunction('convertToInteractive',\n",
              "                                                     [key], {});\n",
              "          if (!dataTable) return;\n",
              "\n",
              "          const docLinkHtml = 'Like what you see? Visit the ' +\n",
              "            '<a target=\"_blank\" href=https://colab.research.google.com/notebooks/data_table.ipynb>data table notebook</a>'\n",
              "            + ' to learn more about interactive tables.';\n",
              "          element.innerHTML = '';\n",
              "          dataTable['output_type'] = 'display_data';\n",
              "          await google.colab.output.renderOutput(dataTable, element);\n",
              "          const docLink = document.createElement('div');\n",
              "          docLink.innerHTML = docLinkHtml;\n",
              "          element.appendChild(docLink);\n",
              "        }\n",
              "      </script>\n",
              "    </div>\n",
              "  </div>\n",
              "  "
            ]
          },
          "metadata": {},
          "execution_count": 30
        }
      ]
    },
    {
      "cell_type": "code",
      "source": [
        "#Scalling data\n",
        "sc = StandardScaler()\n",
        "df_jh = sc.fit_transform(df_jh)"
      ],
      "metadata": {
        "id": "iicYbKuRExFE"
      },
      "execution_count": 31,
      "outputs": []
    },
    {
      "cell_type": "code",
      "source": [
        "#Elbow Method Jumlah_fertiliti dan Harapan_hidup\n",
        "wcss = [] #Within-Cluster Sum of Square \n",
        "for i in range(1,11):\n",
        "  kmeans = KMeans(n_clusters=i, init='k-means++', random_state=42)\n",
        "  kmeans.fit(df_jh)\n",
        "  wcss.append(kmeans.inertia_)\n",
        "\n",
        "plt.figure(figsize=(10,6))\n",
        "plt.plot(range(1,11), wcss)\n",
        "plt.title('Elbow Method')\n",
        "plt.xlabel('Jumlah dari cluster')\n",
        "plt.ylabel('WCSS')\n",
        "plt.show()"
      ],
      "metadata": {
        "id": "DktENQiBExFR",
        "colab": {
          "base_uri": "https://localhost:8080/",
          "height": 404
        },
        "outputId": "13295b7f-18cf-4c70-d278-651fae25ad1d"
      },
      "execution_count": 33,
      "outputs": [
        {
          "output_type": "display_data",
          "data": {
            "text/plain": [
              "<Figure size 720x432 with 1 Axes>"
            ],
            "image/png": "[encoded data removed]"
          },
          "metadata": {
            "needs_background": "light"
          }
        }
      ]
    },
    {
      "cell_type": "markdown",
      "source": [
        "pada grafik diatas, kurva memiliki belokan yang tajam di titik 2, sehingga data ini akan dibuat dalam 2 cluster"
      ],
      "metadata": {
        "id": "8Qo447-qExFS"
      }
    },
    {
      "cell_type": "code",
      "source": [
        "#Silhoutte score untuk Jumlah_fertiliti dan Harapan_hidup"
      ],
      "metadata": {
        "id": "a97bInzbExFT"
      },
      "execution_count": null,
      "outputs": []
    },
    {
      "cell_type": "code",
      "source": [
        "for i in range(2,11):\n",
        "  labels = KMeans(n_clusters=i, init='k-means++', random_state=42).fit(df_jh).labels_\n",
        "  print(\"Silhoutte Score untuk cluster \" + str(i) + \" adalah \" + str(silhouette_score(df_jh, labels)))"
      ],
      "metadata": {
        "id": "Y-D_Xs_gExFT",
        "colab": {
          "base_uri": "https://localhost:8080/"
        },
        "outputId": "a2f45e27-e598-44c4-95cb-2bf8f2fe7481"
      },
      "execution_count": 35,
      "outputs": [
        {
          "output_type": "stream",
          "name": "stdout",
          "text": [
            "Silhoutte Score untuk cluster 2 adalah 0.6196471771566665\n",
            "Silhoutte Score untuk cluster 3 adalah 0.48448592618290964\n",
            "Silhoutte Score untuk cluster 4 adalah 0.374775764837035\n",
            "Silhoutte Score untuk cluster 5 adalah 0.384113677320947\n",
            "Silhoutte Score untuk cluster 6 adalah 0.39555718979712834\n",
            "Silhoutte Score untuk cluster 7 adalah 0.4254390328989852\n",
            "Silhoutte Score untuk cluster 8 adalah 0.40348736137429314\n",
            "Silhoutte Score untuk cluster 9 adalah 0.37672513967871907\n",
            "Silhoutte Score untuk cluster 10 adalah 0.38838627456620156\n"
          ]
        }
      ]
    },
    {
      "cell_type": "markdown",
      "source": [
        "Silhoutte score digunakan untuk melihat nilai k (banyaknya cluster) yang terbaik dilihat dari nilai yang tertinggi. Diperoleh Silhoutte score tertingginya yaiut 0.6196 untuk 2 cluster."
      ],
      "metadata": {
        "id": "LXodJSBTExFT"
      }
    },
    {
      "cell_type": "code",
      "source": [
        "#KMeans Cluster Jumlah_fertiliti dan Harapan_hidup\n",
        "#2 cluster\n",
        "kmeans_jh = KMeans(n_clusters=2, init='k-means++', random_state=42).fit(df_jh)\n",
        "labels_jh = kmeans_jh.labels_\n",
        "\n",
        "df_jh_cluster = pd.DataFrame(data= df_outlier, columns=['Jumlah_fertiliti', 'Harapan_hidup'])\n",
        "df_jh_cluster['cluster'] = labels_jh\n",
        "df_jh_cluster.head()"
      ],
      "metadata": {
        "id": "gF_pM4YjExFU",
        "colab": {
          "base_uri": "https://localhost:8080/",
          "height": 206
        },
        "outputId": "20f204ba-3c61-4e51-d6e7-b012bacbc91f"
      },
      "execution_count": 36,
      "outputs": [
        {
          "output_type": "execute_result",
          "data": {
            "text/plain": [
              "   Jumlah_fertiliti  Harapan_hidup  cluster\n",
              "0              5.82           56.2        1\n",
              "1              1.65           76.3        0\n",
              "2              2.89           76.5        0\n",
              "3              6.16           60.1        1\n",
              "4              2.13           76.8        0"
            ],
            "text/html": [
              "\n",
              "  <div id=\"df-60ccdc39-9a55-4576-b317-b8d08e40af3b\">\n",
              "    <div class=\"colab-df-container\">\n",
              "      <div>\n",
              "<style scoped>\n",
              "    .dataframe tbody tr th:only-of-type {\n",
              "        vertical-align: middle;\n",
              "    }\n",
              "\n",
              "    .dataframe tbody tr th {\n",
              "        vertical-align: top;\n",
              "    }\n",
              "\n",
              "    .dataframe thead th {\n",
              "        text-align: right;\n",
              "    }\n",
              "</style>\n",
              "<table border=\"1\" class=\"dataframe\">\n",
              "  <thead>\n",
              "    <tr style=\"text-align: right;\">\n",
              "      <th></th>\n",
              "      <th>Jumlah_fertiliti</th>\n",
              "      <th>Harapan_hidup</th>\n",
              "      <th>cluster</th>\n",
              "    </tr>\n",
              "  </thead>\n",
              "  <tbody>\n",
              "    <tr>\n",
              "      <th>0</th>\n",
              "      <td>5.82</td>\n",
              "      <td>56.2</td>\n",
              "      <td>1</td>\n",
              "    </tr>\n",
              "    <tr>\n",
              "      <th>1</th>\n",
              "      <td>1.65</td>\n",
              "      <td>76.3</td>\n",
              "      <td>0</td>\n",
              "    </tr>\n",
              "    <tr>\n",
              "      <th>2</th>\n",
              "      <td>2.89</td>\n",
              "      <td>76.5</td>\n",
              "      <td>0</td>\n",
              "    </tr>\n",
              "    <tr>\n",
              "      <th>3</th>\n",
              "      <td>6.16</td>\n",
              "      <td>60.1</td>\n",
              "      <td>1</td>\n",
              "    </tr>\n",
              "    <tr>\n",
              "      <th>4</th>\n",
              "      <td>2.13</td>\n",
              "      <td>76.8</td>\n",
              "      <td>0</td>\n",
              "    </tr>\n",
              "  </tbody>\n",
              "</table>\n",
              "</div>\n",
              "      <button class=\"colab-df-convert\" onclick=\"convertToInteractive('df-60ccdc39-9a55-4576-b317-b8d08e40af3b')\"\n",
              "              title=\"Convert this dataframe to an interactive table.\"\n",
              "              style=\"display:none;\">\n",
              "        \n",
              "  <svg xmlns=\"http://www.w3.org/2000/svg\" height=\"24px\"viewBox=\"0 0 24 24\"\n",
              "       width=\"24px\">\n",
              "    <path d=\"M0 0h24v24H0V0z\" fill=\"none\"/>\n",
              "    <path d=\"M18.56 5.44l.94 2.06.94-2.06 2.06-.94-2.06-.94-.94-2.06-.94 2.06-2.06.94zm-11 1L8.5 8.5l.94-2.06 2.06-.94-2.06-.94L8.5 2.5l-.94 2.06-2.06.94zm10 10l.94 2.06.94-2.06 2.06-.94-2.06-.94-.94-2.06-.94 2.06-2.06.94z\"/><path d=\"M17.41 7.96l-1.37-1.37c-.4-.4-.92-.59-1.43-.59-.52 0-1.04.2-1.43.59L10.3 9.45l-7.72 7.72c-.78.78-.78 2.05 0 2.83L4 21.41c.39.39.9.59 1.41.59.51 0 1.02-.2 1.41-.59l7.78-7.78 2.81-2.81c.8-.78.8-2.07 0-2.86zM5.41 20L4 18.59l7.72-7.72 1.47 1.35L5.41 20z\"/>\n",
              "  </svg>\n",
              "      </button>\n",
              "      \n",
              "  <style>\n",
              "    .colab-df-container {\n",
              "      display:flex;\n",
              "      flex-wrap:wrap;\n",
              "      gap: 12px;\n",
              "    }\n",
              "\n",
              "    .colab-df-convert {\n",
              "      background-color: #E8F0FE;\n",
              "      border: none;\n",
              "      border-radius: 50%;\n",
              "      cursor: pointer;\n",
              "      display: none;\n",
              "      fill: #1967D2;\n",
              "      height: 32px;\n",
              "      padding: 0 0 0 0;\n",
              "      width: 32px;\n",
              "    }\n",
              "\n",
              "    .colab-df-convert:hover {\n",
              "      background-color: #E2EBFA;\n",
              "      box-shadow: 0px 1px 2px rgba(60, 64, 67, 0.3), 0px 1px 3px 1px rgba(60, 64, 67, 0.15);\n",
              "      fill: #174EA6;\n",
              "    }\n",
              "\n",
              "    [theme=dark] .colab-df-convert {\n",
              "      background-color: #3B4455;\n",
              "      fill: #D2E3FC;\n",
              "    }\n",
              "\n",
              "    [theme=dark] .colab-df-convert:hover {\n",
              "      background-color: #434B5C;\n",
              "      box-shadow: 0px 1px 3px 1px rgba(0, 0, 0, 0.15);\n",
              "      filter: drop-shadow(0px 1px 2px rgba(0, 0, 0, 0.3));\n",
              "      fill: #FFFFFF;\n",
              "    }\n",
              "  </style>\n",
              "\n",
              "      <script>\n",
              "        const buttonEl =\n",
              "          document.querySelector('#df-60ccdc39-9a55-4576-b317-b8d08e40af3b button.colab-df-convert');\n",
              "        buttonEl.style.display =\n",
              "          google.colab.kernel.accessAllowed ? 'block' : 'none';\n",
              "\n",
              "        async function convertToInteractive(key) {\n",
              "          const element = document.querySelector('#df-60ccdc39-9a55-4576-b317-b8d08e40af3b');\n",
              "          const dataTable =\n",
              "            await google.colab.kernel.invokeFunction('convertToInteractive',\n",
              "                                                     [key], {});\n",
              "          if (!dataTable) return;\n",
              "\n",
              "          const docLinkHtml = 'Like what you see? Visit the ' +\n",
              "            '<a target=\"_blank\" href=https://colab.research.google.com/notebooks/data_table.ipynb>data table notebook</a>'\n",
              "            + ' to learn more about interactive tables.';\n",
              "          element.innerHTML = '';\n",
              "          dataTable['output_type'] = 'display_data';\n",
              "          await google.colab.output.renderOutput(dataTable, element);\n",
              "          const docLink = document.createElement('div');\n",
              "          docLink.innerHTML = docLinkHtml;\n",
              "          element.appendChild(docLink);\n",
              "        }\n",
              "      </script>\n",
              "    </div>\n",
              "  </div>\n",
              "  "
            ]
          },
          "metadata": {},
          "execution_count": 36
        }
      ]
    },
    {
      "cell_type": "code",
      "source": [
        "df_jh_scal = pd.DataFrame(data= df_jh, columns=['Jumlah_fertiliti','Harapan_hidup'])\n",
        "df_jh_scal['cluster'] = labels_jh\n",
        "df_jh_scal.head()"
      ],
      "metadata": {
        "id": "sWe0SjDjExFU",
        "colab": {
          "base_uri": "https://localhost:8080/",
          "height": 206
        },
        "outputId": "6dea2cd4-111b-45ff-cb8c-9f4caf007ae3"
      },
      "execution_count": 39,
      "outputs": [
        {
          "output_type": "execute_result",
          "data": {
            "text/plain": [
              "   Jumlah_fertiliti  Harapan_hidup  cluster\n",
              "0          1.977182      -1.870459        1\n",
              "1         -0.862059       0.651967        0\n",
              "2         -0.017776       0.677065        0\n",
              "3          2.208679      -1.381033        1\n",
              "4         -0.535240       0.714713        0"
            ],
            "text/html": [
              "\n",
              "  <div id=\"df-e50dfebb-9ccf-4c12-bada-6ccf16e3c495\">\n",
              "    <div class=\"colab-df-container\">\n",
              "      <div>\n",
              "<style scoped>\n",
              "    .dataframe tbody tr th:only-of-type {\n",
              "        vertical-align: middle;\n",
              "    }\n",
              "\n",
              "    .dataframe tbody tr th {\n",
              "        vertical-align: top;\n",
              "    }\n",
              "\n",
              "    .dataframe thead th {\n",
              "        text-align: right;\n",
              "    }\n",
              "</style>\n",
              "<table border=\"1\" class=\"dataframe\">\n",
              "  <thead>\n",
              "    <tr style=\"text-align: right;\">\n",
              "      <th></th>\n",
              "      <th>Jumlah_fertiliti</th>\n",
              "      <th>Harapan_hidup</th>\n",
              "      <th>cluster</th>\n",
              "    </tr>\n",
              "  </thead>\n",
              "  <tbody>\n",
              "    <tr>\n",
              "      <th>0</th>\n",
              "      <td>1.977182</td>\n",
              "      <td>-1.870459</td>\n",
              "      <td>1</td>\n",
              "    </tr>\n",
              "    <tr>\n",
              "      <th>1</th>\n",
              "      <td>-0.862059</td>\n",
              "      <td>0.651967</td>\n",
              "      <td>0</td>\n",
              "    </tr>\n",
              "    <tr>\n",
              "      <th>2</th>\n",
              "      <td>-0.017776</td>\n",
              "      <td>0.677065</td>\n",
              "      <td>0</td>\n",
              "    </tr>\n",
              "    <tr>\n",
              "      <th>3</th>\n",
              "      <td>2.208679</td>\n",
              "      <td>-1.381033</td>\n",
              "      <td>1</td>\n",
              "    </tr>\n",
              "    <tr>\n",
              "      <th>4</th>\n",
              "      <td>-0.535240</td>\n",
              "      <td>0.714713</td>\n",
              "      <td>0</td>\n",
              "    </tr>\n",
              "  </tbody>\n",
              "</table>\n",
              "</div>\n",
              "      <button class=\"colab-df-convert\" onclick=\"convertToInteractive('df-e50dfebb-9ccf-4c12-bada-6ccf16e3c495')\"\n",
              "              title=\"Convert this dataframe to an interactive table.\"\n",
              "              style=\"display:none;\">\n",
              "        \n",
              "  <svg xmlns=\"http://www.w3.org/2000/svg\" height=\"24px\"viewBox=\"0 0 24 24\"\n",
              "       width=\"24px\">\n",
              "    <path d=\"M0 0h24v24H0V0z\" fill=\"none\"/>\n",
              "    <path d=\"M18.56 5.44l.94 2.06.94-2.06 2.06-.94-2.06-.94-.94-2.06-.94 2.06-2.06.94zm-11 1L8.5 8.5l.94-2.06 2.06-.94-2.06-.94L8.5 2.5l-.94 2.06-2.06.94zm10 10l.94 2.06.94-2.06 2.06-.94-2.06-.94-.94-2.06-.94 2.06-2.06.94z\"/><path d=\"M17.41 7.96l-1.37-1.37c-.4-.4-.92-.59-1.43-.59-.52 0-1.04.2-1.43.59L10.3 9.45l-7.72 7.72c-.78.78-.78 2.05 0 2.83L4 21.41c.39.39.9.59 1.41.59.51 0 1.02-.2 1.41-.59l7.78-7.78 2.81-2.81c.8-.78.8-2.07 0-2.86zM5.41 20L4 18.59l7.72-7.72 1.47 1.35L5.41 20z\"/>\n",
              "  </svg>\n",
              "      </button>\n",
              "      \n",
              "  <style>\n",
              "    .colab-df-container {\n",
              "      display:flex;\n",
              "      flex-wrap:wrap;\n",
              "      gap: 12px;\n",
              "    }\n",
              "\n",
              "    .colab-df-convert {\n",
              "      background-color: #E8F0FE;\n",
              "      border: none;\n",
              "      border-radius: 50%;\n",
              "      cursor: pointer;\n",
              "      display: none;\n",
              "      fill: #1967D2;\n",
              "      height: 32px;\n",
              "      padding: 0 0 0 0;\n",
              "      width: 32px;\n",
              "    }\n",
              "\n",
              "    .colab-df-convert:hover {\n",
              "      background-color: #E2EBFA;\n",
              "      box-shadow: 0px 1px 2px rgba(60, 64, 67, 0.3), 0px 1px 3px 1px rgba(60, 64, 67, 0.15);\n",
              "      fill: #174EA6;\n",
              "    }\n",
              "\n",
              "    [theme=dark] .colab-df-convert {\n",
              "      background-color: #3B4455;\n",
              "      fill: #D2E3FC;\n",
              "    }\n",
              "\n",
              "    [theme=dark] .colab-df-convert:hover {\n",
              "      background-color: #434B5C;\n",
              "      box-shadow: 0px 1px 3px 1px rgba(0, 0, 0, 0.15);\n",
              "      filter: drop-shadow(0px 1px 2px rgba(0, 0, 0, 0.3));\n",
              "      fill: #FFFFFF;\n",
              "    }\n",
              "  </style>\n",
              "\n",
              "      <script>\n",
              "        const buttonEl =\n",
              "          document.querySelector('#df-e50dfebb-9ccf-4c12-bada-6ccf16e3c495 button.colab-df-convert');\n",
              "        buttonEl.style.display =\n",
              "          google.colab.kernel.accessAllowed ? 'block' : 'none';\n",
              "\n",
              "        async function convertToInteractive(key) {\n",
              "          const element = document.querySelector('#df-e50dfebb-9ccf-4c12-bada-6ccf16e3c495');\n",
              "          const dataTable =\n",
              "            await google.colab.kernel.invokeFunction('convertToInteractive',\n",
              "                                                     [key], {});\n",
              "          if (!dataTable) return;\n",
              "\n",
              "          const docLinkHtml = 'Like what you see? Visit the ' +\n",
              "            '<a target=\"_blank\" href=https://colab.research.google.com/notebooks/data_table.ipynb>data table notebook</a>'\n",
              "            + ' to learn more about interactive tables.';\n",
              "          element.innerHTML = '';\n",
              "          dataTable['output_type'] = 'display_data';\n",
              "          await google.colab.output.renderOutput(dataTable, element);\n",
              "          const docLink = document.createElement('div');\n",
              "          docLink.innerHTML = docLinkHtml;\n",
              "          element.appendChild(docLink);\n",
              "        }\n",
              "      </script>\n",
              "    </div>\n",
              "  </div>\n",
              "  "
            ]
          },
          "metadata": {},
          "execution_count": 39
        }
      ]
    },
    {
      "cell_type": "code",
      "source": [
        "#Scatter Plot Jumlah_fertiliti dan Harapan_hidup\n",
        "plt.figure(figsize=(12,8))\n",
        "print('n_cluster = 2')\n",
        "plt.scatter(df_jh_scal['Jumlah_fertiliti'][df_jh_scal['cluster']==0], df_jh_scal['Harapan_hidup'][df_jh_scal['cluster']==0], c='blue', s=100, edgecolors='black' )\n",
        "plt.scatter(df_jh_scal['Jumlah_fertiliti'][df_jh_scal['cluster']==1], df_jh_scal['Harapan_hidup'][df_jh_scal['cluster']==1], c='green', s=100, edgecolors='black' )\n",
        "\n",
        "cluster = kmeans_jh.cluster_centers_\n",
        "plt.scatter(cluster[:,0], cluster[:,1], c='black', s=500)\n",
        "plt.xlabel('Jumlah_fertiliti')\n",
        "plt.ylabel('Harapan_hidup')\n",
        "plt.show()"
      ],
      "metadata": {
        "id": "id7UcOTeExFU",
        "colab": {
          "base_uri": "https://localhost:8080/",
          "height": 515
        },
        "outputId": "7184fe7c-1ca3-47ee-abf6-89ef1782c960"
      },
      "execution_count": 40,
      "outputs": [
        {
          "output_type": "stream",
          "name": "stdout",
          "text": [
            "n_cluster = 2\n"
          ]
        },
        {
          "output_type": "display_data",
          "data": {
            "text/plain": [
              "<Figure size 864x576 with 1 Axes>"
            ],
            "image/png": "[encoded data removed]"
          },
          "metadata": {
            "needs_background": "light"
          }
        }
      ]
    },
    {
      "cell_type": "markdown",
      "source": [
        "Interpretasi :\n",
        "Bisa dilihat bahwa terdapat 2 cluster. Cluster dengan label 1 berwarna hijau menunjukkan kecenderungan Jumlah_fertilitinya tinggi namun Harapan_hidupnya rendah, sedangkan cluster dengan label 0 berwarna biru menunjukkan kecenderungan Jumlah_fertilitinya rendah namun Harapan_hidupnya tinggi"
      ],
      "metadata": {
        "id": "H7oMlmcIExFV"
      }
    },
    {
      "cell_type": "code",
      "source": [
        "df_jh_cluster.groupby(['cluster']).agg({'Jumlah_fertiliti':'mean','Harapan_hidup':'mean', })"
      ],
      "metadata": {
        "id": "DMRwEPIPExFV",
        "colab": {
          "base_uri": "https://localhost:8080/",
          "height": 143
        },
        "outputId": "c7a5518d-8e7d-48a1-c2f4-a7f791faa766"
      },
      "execution_count": 41,
      "outputs": [
        {
          "output_type": "execute_result",
          "data": {
            "text/plain": [
              "         Jumlah_fertiliti  Harapan_hidup\n",
              "cluster                                 \n",
              "0                2.075690      75.425000\n",
              "1                4.827647      61.278431"
            ],
            "text/html": [
              "\n",
              "  <div id=\"df-9d268135-d0a1-4e01-99e4-6d17c3294453\">\n",
              "    <div class=\"colab-df-container\">\n",
              "      <div>\n",
              "<style scoped>\n",
              "    .dataframe tbody tr th:only-of-type {\n",
              "        vertical-align: middle;\n",
              "    }\n",
              "\n",
              "    .dataframe tbody tr th {\n",
              "        vertical-align: top;\n",
              "    }\n",
              "\n",
              "    .dataframe thead th {\n",
              "        text-align: right;\n",
              "    }\n",
              "</style>\n",
              "<table border=\"1\" class=\"dataframe\">\n",
              "  <thead>\n",
              "    <tr style=\"text-align: right;\">\n",
              "      <th></th>\n",
              "      <th>Jumlah_fertiliti</th>\n",
              "      <th>Harapan_hidup</th>\n",
              "    </tr>\n",
              "    <tr>\n",
              "      <th>cluster</th>\n",
              "      <th></th>\n",
              "      <th></th>\n",
              "    </tr>\n",
              "  </thead>\n",
              "  <tbody>\n",
              "    <tr>\n",
              "      <th>0</th>\n",
              "      <td>2.075690</td>\n",
              "      <td>75.425000</td>\n",
              "    </tr>\n",
              "    <tr>\n",
              "      <th>1</th>\n",
              "      <td>4.827647</td>\n",
              "      <td>61.278431</td>\n",
              "    </tr>\n",
              "  </tbody>\n",
              "</table>\n",
              "</div>\n",
              "      <button class=\"colab-df-convert\" onclick=\"convertToInteractive('df-9d268135-d0a1-4e01-99e4-6d17c3294453')\"\n",
              "              title=\"Convert this dataframe to an interactive table.\"\n",
              "              style=\"display:none;\">\n",
              "        \n",
              "  <svg xmlns=\"http://www.w3.org/2000/svg\" height=\"24px\"viewBox=\"0 0 24 24\"\n",
              "       width=\"24px\">\n",
              "    <path d=\"M0 0h24v24H0V0z\" fill=\"none\"/>\n",
              "    <path d=\"M18.56 5.44l.94 2.06.94-2.06 2.06-.94-2.06-.94-.94-2.06-.94 2.06-2.06.94zm-11 1L8.5 8.5l.94-2.06 2.06-.94-2.06-.94L8.5 2.5l-.94 2.06-2.06.94zm10 10l.94 2.06.94-2.06 2.06-.94-2.06-.94-.94-2.06-.94 2.06-2.06.94z\"/><path d=\"M17.41 7.96l-1.37-1.37c-.4-.4-.92-.59-1.43-.59-.52 0-1.04.2-1.43.59L10.3 9.45l-7.72 7.72c-.78.78-.78 2.05 0 2.83L4 21.41c.39.39.9.59 1.41.59.51 0 1.02-.2 1.41-.59l7.78-7.78 2.81-2.81c.8-.78.8-2.07 0-2.86zM5.41 20L4 18.59l7.72-7.72 1.47 1.35L5.41 20z\"/>\n",
              "  </svg>\n",
              "      </button>\n",
              "      \n",
              "  <style>\n",
              "    .colab-df-container {\n",
              "      display:flex;\n",
              "      flex-wrap:wrap;\n",
              "      gap: 12px;\n",
              "    }\n",
              "\n",
              "    .colab-df-convert {\n",
              "      background-color: #E8F0FE;\n",
              "      border: none;\n",
              "      border-radius: 50%;\n",
              "      cursor: pointer;\n",
              "      display: none;\n",
              "      fill: #1967D2;\n",
              "      height: 32px;\n",
              "      padding: 0 0 0 0;\n",
              "      width: 32px;\n",
              "    }\n",
              "\n",
              "    .colab-df-convert:hover {\n",
              "      background-color: #E2EBFA;\n",
              "      box-shadow: 0px 1px 2px rgba(60, 64, 67, 0.3), 0px 1px 3px 1px rgba(60, 64, 67, 0.15);\n",
              "      fill: #174EA6;\n",
              "    }\n",
              "\n",
              "    [theme=dark] .colab-df-convert {\n",
              "      background-color: #3B4455;\n",
              "      fill: #D2E3FC;\n",
              "    }\n",
              "\n",
              "    [theme=dark] .colab-df-convert:hover {\n",
              "      background-color: #434B5C;\n",
              "      box-shadow: 0px 1px 3px 1px rgba(0, 0, 0, 0.15);\n",
              "      filter: drop-shadow(0px 1px 2px rgba(0, 0, 0, 0.3));\n",
              "      fill: #FFFFFF;\n",
              "    }\n",
              "  </style>\n",
              "\n",
              "      <script>\n",
              "        const buttonEl =\n",
              "          document.querySelector('#df-9d268135-d0a1-4e01-99e4-6d17c3294453 button.colab-df-convert');\n",
              "        buttonEl.style.display =\n",
              "          google.colab.kernel.accessAllowed ? 'block' : 'none';\n",
              "\n",
              "        async function convertToInteractive(key) {\n",
              "          const element = document.querySelector('#df-9d268135-d0a1-4e01-99e4-6d17c3294453');\n",
              "          const dataTable =\n",
              "            await google.colab.kernel.invokeFunction('convertToInteractive',\n",
              "                                                     [key], {});\n",
              "          if (!dataTable) return;\n",
              "\n",
              "          const docLinkHtml = 'Like what you see? Visit the ' +\n",
              "            '<a target=\"_blank\" href=https://colab.research.google.com/notebooks/data_table.ipynb>data table notebook</a>'\n",
              "            + ' to learn more about interactive tables.';\n",
              "          element.innerHTML = '';\n",
              "          dataTable['output_type'] = 'display_data';\n",
              "          await google.colab.output.renderOutput(dataTable, element);\n",
              "          const docLink = document.createElement('div');\n",
              "          docLink.innerHTML = docLinkHtml;\n",
              "          element.appendChild(docLink);\n",
              "        }\n",
              "      </script>\n",
              "    </div>\n",
              "  </div>\n",
              "  "
            ]
          },
          "metadata": {},
          "execution_count": 41
        }
      ]
    },
    {
      "cell_type": "markdown",
      "source": [
        "Bisa disimpulkan:\n",
        "\n",
        "cluster 0 : memiliki rata-rata Harapan hidup yang tinggi, yaitu 75 tahun. Kemudian jumlah fertilitinya 2, artinya rata-rata 2 anak lahir dari setiap wanita.\n",
        "\n",
        "cluster 1 : memiliki rata-rata Harapan hidup lebih rendah dari cluster 0, yaitu 61 tahun. Kemudian jumlah fertilitinya 4, artinya rata-rata 4 anak lahir dari setiap wanita."
      ],
      "metadata": {
        "id": "Q81FWBgmExFV"
      }
    },
    {
      "cell_type": "code",
      "source": [
        "cluster_jh = pd.concat([df['Negara'],df_jh_cluster], axis=1, join='outer')\n",
        "cluster_jh.head()"
      ],
      "metadata": {
        "id": "4kwA7zZ3ExFW",
        "colab": {
          "base_uri": "https://localhost:8080/",
          "height": 206
        },
        "outputId": "340926db-0497-4c0e-c74d-327538a5cfd1"
      },
      "execution_count": 43,
      "outputs": [
        {
          "output_type": "execute_result",
          "data": {
            "text/plain": [
              "                Negara  Jumlah_fertiliti  Harapan_hidup  cluster\n",
              "0          Afghanistan              5.82           56.2        1\n",
              "1              Albania              1.65           76.3        0\n",
              "2              Algeria              2.89           76.5        0\n",
              "3               Angola              6.16           60.1        1\n",
              "4  Antigua and Barbuda              2.13           76.8        0"
            ],
            "text/html": [
              "\n",
              "  <div id=\"df-670ec30d-bad1-4e28-af5f-16f837c3a09c\">\n",
              "    <div class=\"colab-df-container\">\n",
              "      <div>\n",
              "<style scoped>\n",
              "    .dataframe tbody tr th:only-of-type {\n",
              "        vertical-align: middle;\n",
              "    }\n",
              "\n",
              "    .dataframe tbody tr th {\n",
              "        vertical-align: top;\n",
              "    }\n",
              "\n",
              "    .dataframe thead th {\n",
              "        text-align: right;\n",
              "    }\n",
              "</style>\n",
              "<table border=\"1\" class=\"dataframe\">\n",
              "  <thead>\n",
              "    <tr style=\"text-align: right;\">\n",
              "      <th></th>\n",
              "      <th>Negara</th>\n",
              "      <th>Jumlah_fertiliti</th>\n",
              "      <th>Harapan_hidup</th>\n",
              "      <th>cluster</th>\n",
              "    </tr>\n",
              "  </thead>\n",
              "  <tbody>\n",
              "    <tr>\n",
              "      <th>0</th>\n",
              "      <td>Afghanistan</td>\n",
              "      <td>5.82</td>\n",
              "      <td>56.2</td>\n",
              "      <td>1</td>\n",
              "    </tr>\n",
              "    <tr>\n",
              "      <th>1</th>\n",
              "      <td>Albania</td>\n",
              "      <td>1.65</td>\n",
              "      <td>76.3</td>\n",
              "      <td>0</td>\n",
              "    </tr>\n",
              "    <tr>\n",
              "      <th>2</th>\n",
              "      <td>Algeria</td>\n",
              "      <td>2.89</td>\n",
              "      <td>76.5</td>\n",
              "      <td>0</td>\n",
              "    </tr>\n",
              "    <tr>\n",
              "      <th>3</th>\n",
              "      <td>Angola</td>\n",
              "      <td>6.16</td>\n",
              "      <td>60.1</td>\n",
              "      <td>1</td>\n",
              "    </tr>\n",
              "    <tr>\n",
              "      <th>4</th>\n",
              "      <td>Antigua and Barbuda</td>\n",
              "      <td>2.13</td>\n",
              "      <td>76.8</td>\n",
              "      <td>0</td>\n",
              "    </tr>\n",
              "  </tbody>\n",
              "</table>\n",
              "</div>\n",
              "      <button class=\"colab-df-convert\" onclick=\"convertToInteractive('df-670ec30d-bad1-4e28-af5f-16f837c3a09c')\"\n",
              "              title=\"Convert this dataframe to an interactive table.\"\n",
              "              style=\"display:none;\">\n",
              "        \n",
              "  <svg xmlns=\"http://www.w3.org/2000/svg\" height=\"24px\"viewBox=\"0 0 24 24\"\n",
              "       width=\"24px\">\n",
              "    <path d=\"M0 0h24v24H0V0z\" fill=\"none\"/>\n",
              "    <path d=\"M18.56 5.44l.94 2.06.94-2.06 2.06-.94-2.06-.94-.94-2.06-.94 2.06-2.06.94zm-11 1L8.5 8.5l.94-2.06 2.06-.94-2.06-.94L8.5 2.5l-.94 2.06-2.06.94zm10 10l.94 2.06.94-2.06 2.06-.94-2.06-.94-.94-2.06-.94 2.06-2.06.94z\"/><path d=\"M17.41 7.96l-1.37-1.37c-.4-.4-.92-.59-1.43-.59-.52 0-1.04.2-1.43.59L10.3 9.45l-7.72 7.72c-.78.78-.78 2.05 0 2.83L4 21.41c.39.39.9.59 1.41.59.51 0 1.02-.2 1.41-.59l7.78-7.78 2.81-2.81c.8-.78.8-2.07 0-2.86zM5.41 20L4 18.59l7.72-7.72 1.47 1.35L5.41 20z\"/>\n",
              "  </svg>\n",
              "      </button>\n",
              "      \n",
              "  <style>\n",
              "    .colab-df-container {\n",
              "      display:flex;\n",
              "      flex-wrap:wrap;\n",
              "      gap: 12px;\n",
              "    }\n",
              "\n",
              "    .colab-df-convert {\n",
              "      background-color: #E8F0FE;\n",
              "      border: none;\n",
              "      border-radius: 50%;\n",
              "      cursor: pointer;\n",
              "      display: none;\n",
              "      fill: #1967D2;\n",
              "      height: 32px;\n",
              "      padding: 0 0 0 0;\n",
              "      width: 32px;\n",
              "    }\n",
              "\n",
              "    .colab-df-convert:hover {\n",
              "      background-color: #E2EBFA;\n",
              "      box-shadow: 0px 1px 2px rgba(60, 64, 67, 0.3), 0px 1px 3px 1px rgba(60, 64, 67, 0.15);\n",
              "      fill: #174EA6;\n",
              "    }\n",
              "\n",
              "    [theme=dark] .colab-df-convert {\n",
              "      background-color: #3B4455;\n",
              "      fill: #D2E3FC;\n",
              "    }\n",
              "\n",
              "    [theme=dark] .colab-df-convert:hover {\n",
              "      background-color: #434B5C;\n",
              "      box-shadow: 0px 1px 3px 1px rgba(0, 0, 0, 0.15);\n",
              "      filter: drop-shadow(0px 1px 2px rgba(0, 0, 0, 0.3));\n",
              "      fill: #FFFFFF;\n",
              "    }\n",
              "  </style>\n",
              "\n",
              "      <script>\n",
              "        const buttonEl =\n",
              "          document.querySelector('#df-670ec30d-bad1-4e28-af5f-16f837c3a09c button.colab-df-convert');\n",
              "        buttonEl.style.display =\n",
              "          google.colab.kernel.accessAllowed ? 'block' : 'none';\n",
              "\n",
              "        async function convertToInteractive(key) {\n",
              "          const element = document.querySelector('#df-670ec30d-bad1-4e28-af5f-16f837c3a09c');\n",
              "          const dataTable =\n",
              "            await google.colab.kernel.invokeFunction('convertToInteractive',\n",
              "                                                     [key], {});\n",
              "          if (!dataTable) return;\n",
              "\n",
              "          const docLinkHtml = 'Like what you see? Visit the ' +\n",
              "            '<a target=\"_blank\" href=https://colab.research.google.com/notebooks/data_table.ipynb>data table notebook</a>'\n",
              "            + ' to learn more about interactive tables.';\n",
              "          element.innerHTML = '';\n",
              "          dataTable['output_type'] = 'display_data';\n",
              "          await google.colab.output.renderOutput(dataTable, element);\n",
              "          const docLink = document.createElement('div');\n",
              "          docLink.innerHTML = docLinkHtml;\n",
              "          element.appendChild(docLink);\n",
              "        }\n",
              "      </script>\n",
              "    </div>\n",
              "  </div>\n",
              "  "
            ]
          },
          "metadata": {},
          "execution_count": 43
        }
      ]
    },
    {
      "cell_type": "code",
      "source": [
        "print('daftar negara cluster 0 :')\n",
        "print(cluster_jh[cluster_jh.cluster == 0].Negara.values)\n",
        "print('Total : ', cluster_jh[cluster_jh.cluster == 0].Negara.count())"
      ],
      "metadata": {
        "id": "fqUYOxhxExFW",
        "colab": {
          "base_uri": "https://localhost:8080/"
        },
        "outputId": "41096770-bed0-4290-ddc8-60d9a1bfecbc"
      },
      "execution_count": 44,
      "outputs": [
        {
          "output_type": "stream",
          "name": "stdout",
          "text": [
            "daftar negara cluster 0 :\n",
            "['Albania' 'Algeria' 'Antigua and Barbuda' 'Argentina' 'Armenia'\n",
            " 'Australia' 'Austria' 'Azerbaijan' 'Bahamas' 'Bahrain' 'Bangladesh'\n",
            " 'Barbados' 'Belarus' 'Belgium' 'Belize' 'Bhutan' 'Bolivia'\n",
            " 'Bosnia and Herzegovina' 'Brazil' 'Brunei' 'Bulgaria' 'Cambodia' 'Canada'\n",
            " 'Cape Verde' 'Chile' 'China' 'Colombia' 'Costa Rica' 'Croatia' 'Cyprus'\n",
            " 'Czech Republic' 'Denmark' 'Dominican Republic' 'Ecuador' 'Egypt'\n",
            " 'El Salvador' 'Estonia' 'Fiji' 'Finland' 'France' 'Georgia' 'Germany'\n",
            " 'Greece' 'Grenada' 'Guatemala' 'Guyana' 'Hungary' 'Iceland' 'India'\n",
            " 'Indonesia' 'Iran' 'Ireland' 'Israel' 'Italy' 'Jamaica' 'Japan' 'Jordan'\n",
            " 'Kazakhstan' 'Kuwait' 'Kyrgyz Republic' 'Latvia' 'Lebanon' 'Lesotho'\n",
            " 'Libya' 'Lithuania' 'Luxembourg' 'Macedonia, FYR' 'Malaysia' 'Maldives'\n",
            " 'Malta' 'Mauritius' 'Moldova' 'Mongolia' 'Montenegro' 'Morocco' 'Myanmar'\n",
            " 'Nepal' 'Netherlands' 'New Zealand' 'Norway' 'Oman' 'Panama' 'Paraguay'\n",
            " 'Peru' 'Philippines' 'Poland' 'Portugal' 'Qatar' 'Romania' 'Russia'\n",
            " 'Saudi Arabia' 'Serbia' 'Seychelles' 'Singapore' 'Slovak Republic'\n",
            " 'Slovenia' 'South Korea' 'Spain' 'Sri Lanka'\n",
            " 'St. Vincent and the Grenadines' 'Suriname' 'Sweden' 'Switzerland'\n",
            " 'Tajikistan' 'Thailand' 'Tunisia' 'Turkey' 'Turkmenistan' 'Ukraine'\n",
            " 'United Arab Emirates' 'United Kingdom' 'United States' 'Uruguay'\n",
            " 'Uzbekistan' 'Venezuela' 'Vietnam']\n",
            "Total :  116\n"
          ]
        }
      ]
    },
    {
      "cell_type": "code",
      "source": [
        "print('daftar-daftar negara cluster 1 :')\n",
        "print(cluster_jh[cluster_jh.cluster == 1].Negara.values)\n",
        "print('Total : ', cluster_jh[cluster_jh.cluster == 1].Negara.count())"
      ],
      "metadata": {
        "id": "_n5IX0oIExFX",
        "colab": {
          "base_uri": "https://localhost:8080/"
        },
        "outputId": "0ee59d2f-7e7b-4028-b6b7-fa62715bc416"
      },
      "execution_count": 46,
      "outputs": [
        {
          "output_type": "stream",
          "name": "stdout",
          "text": [
            "daftar-daftar negara cluster 1 :\n",
            "['Afghanistan' 'Angola' 'Benin' 'Botswana' 'Burkina Faso' 'Burundi'\n",
            " 'Cameroon' 'Central African Republic' 'Chad' 'Comoros' 'Congo, Dem. Rep.'\n",
            " 'Congo, Rep.' \"Cote d'Ivoire\" 'Equatorial Guinea' 'Eritrea' 'Gabon'\n",
            " 'Gambia' 'Ghana' 'Guinea' 'Guinea-Bissau' 'Haiti' 'Iraq' 'Kenya'\n",
            " 'Kiribati' 'Lao' 'Liberia' 'Madagascar' 'Malawi' 'Mali' 'Mauritania'\n",
            " 'Micronesia, Fed. Sts.' 'Mozambique' 'Namibia' 'Niger' 'Nigeria'\n",
            " 'Pakistan' 'Rwanda' 'Samoa' 'Senegal' 'Sierra Leone' 'Solomon Islands'\n",
            " 'South Africa' 'Sudan' 'Tanzania' 'Timor-Leste' 'Togo' 'Tonga' 'Uganda'\n",
            " 'Vanuatu' 'Yemen' 'Zambia']\n",
            "Total :  51\n"
          ]
        }
      ]
    },
    {
      "cell_type": "markdown",
      "source": [
        "Dari hasil analisis diatas, negara yang ada di cluster 1 akan dipertimbangkan untuk menjadi penerima bantuan dari organisasi HELP dikarenakan tingginya jumlah_fertiliti namun harapan hidupnya rendah."
      ],
      "metadata": {
        "id": "I2HvmEUXExFX"
      }
    },
    {
      "cell_type": "markdown",
      "source": [
        "#Harapan_hidup dan Kematian_anak"
      ],
      "metadata": {
        "id": "Wa13qPmwT_TI"
      }
    },
    {
      "cell_type": "code",
      "source": [
        "df_hk = pd.DataFrame(data= df_outlier, columns=['Harapan_hidup', 'Kematian_anak'])\n",
        "df_hk.head()"
      ],
      "metadata": {
        "cellView": "code",
        "id": "Vqgl-uAjT_TL",
        "colab": {
          "base_uri": "https://localhost:8080/",
          "height": 206
        },
        "outputId": "445f0192-b809-4398-8f27-d46afeb68c44"
      },
      "execution_count": 64,
      "outputs": [
        {
          "output_type": "execute_result",
          "data": {
            "text/plain": [
              "   Harapan_hidup  Kematian_anak\n",
              "0           56.2           90.2\n",
              "1           76.3           16.6\n",
              "2           76.5           27.3\n",
              "3           60.1          119.0\n",
              "4           76.8           10.3"
            ],
            "text/html": [
              "\n",
              "  <div id=\"df-5acf6a5e-f4a8-40fa-9b85-ac2928f88de2\">\n",
              "    <div class=\"colab-df-container\">\n",
              "      <div>\n",
              "<style scoped>\n",
              "    .dataframe tbody tr th:only-of-type {\n",
              "        vertical-align: middle;\n",
              "    }\n",
              "\n",
              "    .dataframe tbody tr th {\n",
              "        vertical-align: top;\n",
              "    }\n",
              "\n",
              "    .dataframe thead th {\n",
              "        text-align: right;\n",
              "    }\n",
              "</style>\n",
              "<table border=\"1\" class=\"dataframe\">\n",
              "  <thead>\n",
              "    <tr style=\"text-align: right;\">\n",
              "      <th></th>\n",
              "      <th>Harapan_hidup</th>\n",
              "      <th>Kematian_anak</th>\n",
              "    </tr>\n",
              "  </thead>\n",
              "  <tbody>\n",
              "    <tr>\n",
              "      <th>0</th>\n",
              "      <td>56.2</td>\n",
              "      <td>90.2</td>\n",
              "    </tr>\n",
              "    <tr>\n",
              "      <th>1</th>\n",
              "      <td>76.3</td>\n",
              "      <td>16.6</td>\n",
              "    </tr>\n",
              "    <tr>\n",
              "      <th>2</th>\n",
              "      <td>76.5</td>\n",
              "      <td>27.3</td>\n",
              "    </tr>\n",
              "    <tr>\n",
              "      <th>3</th>\n",
              "      <td>60.1</td>\n",
              "      <td>119.0</td>\n",
              "    </tr>\n",
              "    <tr>\n",
              "      <th>4</th>\n",
              "      <td>76.8</td>\n",
              "      <td>10.3</td>\n",
              "    </tr>\n",
              "  </tbody>\n",
              "</table>\n",
              "</div>\n",
              "      <button class=\"colab-df-convert\" onclick=\"convertToInteractive('df-5acf6a5e-f4a8-40fa-9b85-ac2928f88de2')\"\n",
              "              title=\"Convert this dataframe to an interactive table.\"\n",
              "              style=\"display:none;\">\n",
              "        \n",
              "  <svg xmlns=\"http://www.w3.org/2000/svg\" height=\"24px\"viewBox=\"0 0 24 24\"\n",
              "       width=\"24px\">\n",
              "    <path d=\"M0 0h24v24H0V0z\" fill=\"none\"/>\n",
              "    <path d=\"M18.56 5.44l.94 2.06.94-2.06 2.06-.94-2.06-.94-.94-2.06-.94 2.06-2.06.94zm-11 1L8.5 8.5l.94-2.06 2.06-.94-2.06-.94L8.5 2.5l-.94 2.06-2.06.94zm10 10l.94 2.06.94-2.06 2.06-.94-2.06-.94-.94-2.06-.94 2.06-2.06.94z\"/><path d=\"M17.41 7.96l-1.37-1.37c-.4-.4-.92-.59-1.43-.59-.52 0-1.04.2-1.43.59L10.3 9.45l-7.72 7.72c-.78.78-.78 2.05 0 2.83L4 21.41c.39.39.9.59 1.41.59.51 0 1.02-.2 1.41-.59l7.78-7.78 2.81-2.81c.8-.78.8-2.07 0-2.86zM5.41 20L4 18.59l7.72-7.72 1.47 1.35L5.41 20z\"/>\n",
              "  </svg>\n",
              "      </button>\n",
              "      \n",
              "  <style>\n",
              "    .colab-df-container {\n",
              "      display:flex;\n",
              "      flex-wrap:wrap;\n",
              "      gap: 12px;\n",
              "    }\n",
              "\n",
              "    .colab-df-convert {\n",
              "      background-color: #E8F0FE;\n",
              "      border: none;\n",
              "      border-radius: 50%;\n",
              "      cursor: pointer;\n",
              "      display: none;\n",
              "      fill: #1967D2;\n",
              "      height: 32px;\n",
              "      padding: 0 0 0 0;\n",
              "      width: 32px;\n",
              "    }\n",
              "\n",
              "    .colab-df-convert:hover {\n",
              "      background-color: #E2EBFA;\n",
              "      box-shadow: 0px 1px 2px rgba(60, 64, 67, 0.3), 0px 1px 3px 1px rgba(60, 64, 67, 0.15);\n",
              "      fill: #174EA6;\n",
              "    }\n",
              "\n",
              "    [theme=dark] .colab-df-convert {\n",
              "      background-color: #3B4455;\n",
              "      fill: #D2E3FC;\n",
              "    }\n",
              "\n",
              "    [theme=dark] .colab-df-convert:hover {\n",
              "      background-color: #434B5C;\n",
              "      box-shadow: 0px 1px 3px 1px rgba(0, 0, 0, 0.15);\n",
              "      filter: drop-shadow(0px 1px 2px rgba(0, 0, 0, 0.3));\n",
              "      fill: #FFFFFF;\n",
              "    }\n",
              "  </style>\n",
              "\n",
              "      <script>\n",
              "        const buttonEl =\n",
              "          document.querySelector('#df-5acf6a5e-f4a8-40fa-9b85-ac2928f88de2 button.colab-df-convert');\n",
              "        buttonEl.style.display =\n",
              "          google.colab.kernel.accessAllowed ? 'block' : 'none';\n",
              "\n",
              "        async function convertToInteractive(key) {\n",
              "          const element = document.querySelector('#df-5acf6a5e-f4a8-40fa-9b85-ac2928f88de2');\n",
              "          const dataTable =\n",
              "            await google.colab.kernel.invokeFunction('convertToInteractive',\n",
              "                                                     [key], {});\n",
              "          if (!dataTable) return;\n",
              "\n",
              "          const docLinkHtml = 'Like what you see? Visit the ' +\n",
              "            '<a target=\"_blank\" href=https://colab.research.google.com/notebooks/data_table.ipynb>data table notebook</a>'\n",
              "            + ' to learn more about interactive tables.';\n",
              "          element.innerHTML = '';\n",
              "          dataTable['output_type'] = 'display_data';\n",
              "          await google.colab.output.renderOutput(dataTable, element);\n",
              "          const docLink = document.createElement('div');\n",
              "          docLink.innerHTML = docLinkHtml;\n",
              "          element.appendChild(docLink);\n",
              "        }\n",
              "      </script>\n",
              "    </div>\n",
              "  </div>\n",
              "  "
            ]
          },
          "metadata": {},
          "execution_count": 64
        }
      ]
    },
    {
      "cell_type": "code",
      "source": [
        "#Scalling data\n",
        "sc = StandardScaler()\n",
        "df_hk = sc.fit_transform(df_hk)"
      ],
      "metadata": {
        "id": "GENW1V6iT_TM"
      },
      "execution_count": 65,
      "outputs": []
    },
    {
      "cell_type": "code",
      "source": [
        "#Elbow Method Harapan_hidup dan Kematian_anak\n",
        "wcss = [] #Within-Cluster Sum of Square \n",
        "for i in range(1,11):\n",
        "  kmeans = KMeans(n_clusters=i, init='k-means++', random_state=42)\n",
        "  kmeans.fit(df_hk)\n",
        "  wcss.append(kmeans.inertia_)\n",
        "\n",
        "plt.figure(figsize=(10,6))\n",
        "plt.plot(range(1,11), wcss)\n",
        "plt.title('The Elbow Method')\n",
        "plt.xlabel('Number of cluster')\n",
        "plt.ylabel('WCSS')\n",
        "plt.show()"
      ],
      "metadata": {
        "id": "LDOYrmXbT_TO",
        "colab": {
          "base_uri": "https://localhost:8080/",
          "height": 404
        },
        "outputId": "d105e97b-8ba4-4647-9fc0-7ce3a07dc502"
      },
      "execution_count": 66,
      "outputs": [
        {
          "output_type": "display_data",
          "data": {
            "text/plain": [
              "<Figure size 720x432 with 1 Axes>"
            ],
            "image/png": "[encoded data removed]"
          },
          "metadata": {
            "needs_background": "light"
          }
        }
      ]
    },
    {
      "cell_type": "markdown",
      "source": [
        "pada grafik diatas, kurva memiliki belokan yang tajam di titik 2, sehingga data ini akan dibuat dalam 2 cluster"
      ],
      "metadata": {
        "id": "cUUu2iNGT_TP"
      }
    },
    {
      "cell_type": "code",
      "source": [
        "#Silhoutte score untuk Harapan_hidup dan Kematian_anak\n",
        "for i in range(2,11):\n",
        "  labels = KMeans(n_clusters=i, init='k-means++', random_state=42).fit(df_hk).labels_\n",
        "  print(\"Silhoutte Score untuk cluster \" + str(i) + \" adalah \" + str(silhouette_score(df_hk, labels)))"
      ],
      "metadata": {
        "id": "-GDTeo8mT_TR",
        "colab": {
          "base_uri": "https://localhost:8080/"
        },
        "outputId": "06100705-66f2-493e-cadc-2b5c921cae39"
      },
      "execution_count": 67,
      "outputs": [
        {
          "output_type": "stream",
          "name": "stdout",
          "text": [
            "Silhoutte Score untuk cluster 2 adalah 0.6160293170026593\n",
            "Silhoutte Score untuk cluster 3 adalah 0.544367404702034\n",
            "Silhoutte Score untuk cluster 4 adalah 0.4288944129438525\n",
            "Silhoutte Score untuk cluster 5 adalah 0.46327502627244527\n",
            "Silhoutte Score untuk cluster 6 adalah 0.4640045937440234\n",
            "Silhoutte Score untuk cluster 7 adalah 0.4583050257972643\n",
            "Silhoutte Score untuk cluster 8 adalah 0.459513638862525\n",
            "Silhoutte Score untuk cluster 9 adalah 0.45815197979171407\n",
            "Silhoutte Score untuk cluster 10 adalah 0.4405429460153291\n"
          ]
        }
      ]
    },
    {
      "cell_type": "markdown",
      "source": [
        "Silhoutte score digunakan untuk melihat nilai k (banyaknya cluster) yang terbaik dilihat dari nilai yang tertinggi. Diperoleh Silhoutte score tertingginya yaiut 0.6160 untuk 2 cluster."
      ],
      "metadata": {
        "id": "6X5DyOK-T_TS"
      }
    },
    {
      "cell_type": "code",
      "source": [
        "#KMeans Cluster Harapan_hidup dan Kematian_anak\n",
        "#2 cluster\n",
        "kmeans_hk = KMeans(n_clusters=2, init='k-means++', random_state=42).fit(df_hk)\n",
        "labels_hk = kmeans_hk.labels_\n",
        "\n",
        "df_hk_cluster = pd.DataFrame(data= df_outlier, columns=['Harapan_hidup', 'Kematian_anak'])\n",
        "df_hk_cluster['cluster'] = labels_hk\n",
        "df_hk_cluster.head()"
      ],
      "metadata": {
        "id": "0yCK4yvvT_TT",
        "colab": {
          "base_uri": "https://localhost:8080/",
          "height": 206
        },
        "outputId": "7db1be26-83a6-4494-b4ee-f3bcd34f2529"
      },
      "execution_count": 68,
      "outputs": [
        {
          "output_type": "execute_result",
          "data": {
            "text/plain": [
              "   Harapan_hidup  Kematian_anak  cluster\n",
              "0           56.2           90.2        1\n",
              "1           76.3           16.6        0\n",
              "2           76.5           27.3        0\n",
              "3           60.1          119.0        1\n",
              "4           76.8           10.3        0"
            ],
            "text/html": [
              "\n",
              "  <div id=\"df-026918c3-d593-4bbf-b979-46eba48f8080\">\n",
              "    <div class=\"colab-df-container\">\n",
              "      <div>\n",
              "<style scoped>\n",
              "    .dataframe tbody tr th:only-of-type {\n",
              "        vertical-align: middle;\n",
              "    }\n",
              "\n",
              "    .dataframe tbody tr th {\n",
              "        vertical-align: top;\n",
              "    }\n",
              "\n",
              "    .dataframe thead th {\n",
              "        text-align: right;\n",
              "    }\n",
              "</style>\n",
              "<table border=\"1\" class=\"dataframe\">\n",
              "  <thead>\n",
              "    <tr style=\"text-align: right;\">\n",
              "      <th></th>\n",
              "      <th>Harapan_hidup</th>\n",
              "      <th>Kematian_anak</th>\n",
              "      <th>cluster</th>\n",
              "    </tr>\n",
              "  </thead>\n",
              "  <tbody>\n",
              "    <tr>\n",
              "      <th>0</th>\n",
              "      <td>56.2</td>\n",
              "      <td>90.2</td>\n",
              "      <td>1</td>\n",
              "    </tr>\n",
              "    <tr>\n",
              "      <th>1</th>\n",
              "      <td>76.3</td>\n",
              "      <td>16.6</td>\n",
              "      <td>0</td>\n",
              "    </tr>\n",
              "    <tr>\n",
              "      <th>2</th>\n",
              "      <td>76.5</td>\n",
              "      <td>27.3</td>\n",
              "      <td>0</td>\n",
              "    </tr>\n",
              "    <tr>\n",
              "      <th>3</th>\n",
              "      <td>60.1</td>\n",
              "      <td>119.0</td>\n",
              "      <td>1</td>\n",
              "    </tr>\n",
              "    <tr>\n",
              "      <th>4</th>\n",
              "      <td>76.8</td>\n",
              "      <td>10.3</td>\n",
              "      <td>0</td>\n",
              "    </tr>\n",
              "  </tbody>\n",
              "</table>\n",
              "</div>\n",
              "      <button class=\"colab-df-convert\" onclick=\"convertToInteractive('df-026918c3-d593-4bbf-b979-46eba48f8080')\"\n",
              "              title=\"Convert this dataframe to an interactive table.\"\n",
              "              style=\"display:none;\">\n",
              "        \n",
              "  <svg xmlns=\"http://www.w3.org/2000/svg\" height=\"24px\"viewBox=\"0 0 24 24\"\n",
              "       width=\"24px\">\n",
              "    <path d=\"M0 0h24v24H0V0z\" fill=\"none\"/>\n",
              "    <path d=\"M18.56 5.44l.94 2.06.94-2.06 2.06-.94-2.06-.94-.94-2.06-.94 2.06-2.06.94zm-11 1L8.5 8.5l.94-2.06 2.06-.94-2.06-.94L8.5 2.5l-.94 2.06-2.06.94zm10 10l.94 2.06.94-2.06 2.06-.94-2.06-.94-.94-2.06-.94 2.06-2.06.94z\"/><path d=\"M17.41 7.96l-1.37-1.37c-.4-.4-.92-.59-1.43-.59-.52 0-1.04.2-1.43.59L10.3 9.45l-7.72 7.72c-.78.78-.78 2.05 0 2.83L4 21.41c.39.39.9.59 1.41.59.51 0 1.02-.2 1.41-.59l7.78-7.78 2.81-2.81c.8-.78.8-2.07 0-2.86zM5.41 20L4 18.59l7.72-7.72 1.47 1.35L5.41 20z\"/>\n",
              "  </svg>\n",
              "      </button>\n",
              "      \n",
              "  <style>\n",
              "    .colab-df-container {\n",
              "      display:flex;\n",
              "      flex-wrap:wrap;\n",
              "      gap: 12px;\n",
              "    }\n",
              "\n",
              "    .colab-df-convert {\n",
              "      background-color: #E8F0FE;\n",
              "      border: none;\n",
              "      border-radius: 50%;\n",
              "      cursor: pointer;\n",
              "      display: none;\n",
              "      fill: #1967D2;\n",
              "      height: 32px;\n",
              "      padding: 0 0 0 0;\n",
              "      width: 32px;\n",
              "    }\n",
              "\n",
              "    .colab-df-convert:hover {\n",
              "      background-color: #E2EBFA;\n",
              "      box-shadow: 0px 1px 2px rgba(60, 64, 67, 0.3), 0px 1px 3px 1px rgba(60, 64, 67, 0.15);\n",
              "      fill: #174EA6;\n",
              "    }\n",
              "\n",
              "    [theme=dark] .colab-df-convert {\n",
              "      background-color: #3B4455;\n",
              "      fill: #D2E3FC;\n",
              "    }\n",
              "\n",
              "    [theme=dark] .colab-df-convert:hover {\n",
              "      background-color: #434B5C;\n",
              "      box-shadow: 0px 1px 3px 1px rgba(0, 0, 0, 0.15);\n",
              "      filter: drop-shadow(0px 1px 2px rgba(0, 0, 0, 0.3));\n",
              "      fill: #FFFFFF;\n",
              "    }\n",
              "  </style>\n",
              "\n",
              "      <script>\n",
              "        const buttonEl =\n",
              "          document.querySelector('#df-026918c3-d593-4bbf-b979-46eba48f8080 button.colab-df-convert');\n",
              "        buttonEl.style.display =\n",
              "          google.colab.kernel.accessAllowed ? 'block' : 'none';\n",
              "\n",
              "        async function convertToInteractive(key) {\n",
              "          const element = document.querySelector('#df-026918c3-d593-4bbf-b979-46eba48f8080');\n",
              "          const dataTable =\n",
              "            await google.colab.kernel.invokeFunction('convertToInteractive',\n",
              "                                                     [key], {});\n",
              "          if (!dataTable) return;\n",
              "\n",
              "          const docLinkHtml = 'Like what you see? Visit the ' +\n",
              "            '<a target=\"_blank\" href=https://colab.research.google.com/notebooks/data_table.ipynb>data table notebook</a>'\n",
              "            + ' to learn more about interactive tables.';\n",
              "          element.innerHTML = '';\n",
              "          dataTable['output_type'] = 'display_data';\n",
              "          await google.colab.output.renderOutput(dataTable, element);\n",
              "          const docLink = document.createElement('div');\n",
              "          docLink.innerHTML = docLinkHtml;\n",
              "          element.appendChild(docLink);\n",
              "        }\n",
              "      </script>\n",
              "    </div>\n",
              "  </div>\n",
              "  "
            ]
          },
          "metadata": {},
          "execution_count": 68
        }
      ]
    },
    {
      "cell_type": "code",
      "source": [
        "df_hk_scal = pd.DataFrame(data= df_hk, columns=['Harapan_hidup','Kematian_anak'])\n",
        "df_hk_scal['cluster'] = labels_hk\n",
        "df_hk_scal.head()"
      ],
      "metadata": {
        "id": "dpYijBryT_TV",
        "colab": {
          "base_uri": "https://localhost:8080/",
          "height": 206
        },
        "outputId": "e3ed85fe-38ad-4953-acac-a57b4bf5acba"
      },
      "execution_count": 69,
      "outputs": [
        {
          "output_type": "execute_result",
          "data": {
            "text/plain": [
              "   Harapan_hidup  Kematian_anak  cluster\n",
              "0      -1.870459       1.595554        1\n",
              "1       0.651967      -0.528188        0\n",
              "2       0.677065      -0.219438        0\n",
              "3      -1.381033       2.426584        1\n",
              "4       0.714713      -0.709976        0"
            ],
            "text/html": [
              "\n",
              "  <div id=\"df-5361fc22-43e2-4b9b-b101-a134a002856b\">\n",
              "    <div class=\"colab-df-container\">\n",
              "      <div>\n",
              "<style scoped>\n",
              "    .dataframe tbody tr th:only-of-type {\n",
              "        vertical-align: middle;\n",
              "    }\n",
              "\n",
              "    .dataframe tbody tr th {\n",
              "        vertical-align: top;\n",
              "    }\n",
              "\n",
              "    .dataframe thead th {\n",
              "        text-align: right;\n",
              "    }\n",
              "</style>\n",
              "<table border=\"1\" class=\"dataframe\">\n",
              "  <thead>\n",
              "    <tr style=\"text-align: right;\">\n",
              "      <th></th>\n",
              "      <th>Harapan_hidup</th>\n",
              "      <th>Kematian_anak</th>\n",
              "      <th>cluster</th>\n",
              "    </tr>\n",
              "  </thead>\n",
              "  <tbody>\n",
              "    <tr>\n",
              "      <th>0</th>\n",
              "      <td>-1.870459</td>\n",
              "      <td>1.595554</td>\n",
              "      <td>1</td>\n",
              "    </tr>\n",
              "    <tr>\n",
              "      <th>1</th>\n",
              "      <td>0.651967</td>\n",
              "      <td>-0.528188</td>\n",
              "      <td>0</td>\n",
              "    </tr>\n",
              "    <tr>\n",
              "      <th>2</th>\n",
              "      <td>0.677065</td>\n",
              "      <td>-0.219438</td>\n",
              "      <td>0</td>\n",
              "    </tr>\n",
              "    <tr>\n",
              "      <th>3</th>\n",
              "      <td>-1.381033</td>\n",
              "      <td>2.426584</td>\n",
              "      <td>1</td>\n",
              "    </tr>\n",
              "    <tr>\n",
              "      <th>4</th>\n",
              "      <td>0.714713</td>\n",
              "      <td>-0.709976</td>\n",
              "      <td>0</td>\n",
              "    </tr>\n",
              "  </tbody>\n",
              "</table>\n",
              "</div>\n",
              "      <button class=\"colab-df-convert\" onclick=\"convertToInteractive('df-5361fc22-43e2-4b9b-b101-a134a002856b')\"\n",
              "              title=\"Convert this dataframe to an interactive table.\"\n",
              "              style=\"display:none;\">\n",
              "        \n",
              "  <svg xmlns=\"http://www.w3.org/2000/svg\" height=\"24px\"viewBox=\"0 0 24 24\"\n",
              "       width=\"24px\">\n",
              "    <path d=\"M0 0h24v24H0V0z\" fill=\"none\"/>\n",
              "    <path d=\"M18.56 5.44l.94 2.06.94-2.06 2.06-.94-2.06-.94-.94-2.06-.94 2.06-2.06.94zm-11 1L8.5 8.5l.94-2.06 2.06-.94-2.06-.94L8.5 2.5l-.94 2.06-2.06.94zm10 10l.94 2.06.94-2.06 2.06-.94-2.06-.94-.94-2.06-.94 2.06-2.06.94z\"/><path d=\"M17.41 7.96l-1.37-1.37c-.4-.4-.92-.59-1.43-.59-.52 0-1.04.2-1.43.59L10.3 9.45l-7.72 7.72c-.78.78-.78 2.05 0 2.83L4 21.41c.39.39.9.59 1.41.59.51 0 1.02-.2 1.41-.59l7.78-7.78 2.81-2.81c.8-.78.8-2.07 0-2.86zM5.41 20L4 18.59l7.72-7.72 1.47 1.35L5.41 20z\"/>\n",
              "  </svg>\n",
              "      </button>\n",
              "      \n",
              "  <style>\n",
              "    .colab-df-container {\n",
              "      display:flex;\n",
              "      flex-wrap:wrap;\n",
              "      gap: 12px;\n",
              "    }\n",
              "\n",
              "    .colab-df-convert {\n",
              "      background-color: #E8F0FE;\n",
              "      border: none;\n",
              "      border-radius: 50%;\n",
              "      cursor: pointer;\n",
              "      display: none;\n",
              "      fill: #1967D2;\n",
              "      height: 32px;\n",
              "      padding: 0 0 0 0;\n",
              "      width: 32px;\n",
              "    }\n",
              "\n",
              "    .colab-df-convert:hover {\n",
              "      background-color: #E2EBFA;\n",
              "      box-shadow: 0px 1px 2px rgba(60, 64, 67, 0.3), 0px 1px 3px 1px rgba(60, 64, 67, 0.15);\n",
              "      fill: #174EA6;\n",
              "    }\n",
              "\n",
              "    [theme=dark] .colab-df-convert {\n",
              "      background-color: #3B4455;\n",
              "      fill: #D2E3FC;\n",
              "    }\n",
              "\n",
              "    [theme=dark] .colab-df-convert:hover {\n",
              "      background-color: #434B5C;\n",
              "      box-shadow: 0px 1px 3px 1px rgba(0, 0, 0, 0.15);\n",
              "      filter: drop-shadow(0px 1px 2px rgba(0, 0, 0, 0.3));\n",
              "      fill: #FFFFFF;\n",
              "    }\n",
              "  </style>\n",
              "\n",
              "      <script>\n",
              "        const buttonEl =\n",
              "          document.querySelector('#df-5361fc22-43e2-4b9b-b101-a134a002856b button.colab-df-convert');\n",
              "        buttonEl.style.display =\n",
              "          google.colab.kernel.accessAllowed ? 'block' : 'none';\n",
              "\n",
              "        async function convertToInteractive(key) {\n",
              "          const element = document.querySelector('#df-5361fc22-43e2-4b9b-b101-a134a002856b');\n",
              "          const dataTable =\n",
              "            await google.colab.kernel.invokeFunction('convertToInteractive',\n",
              "                                                     [key], {});\n",
              "          if (!dataTable) return;\n",
              "\n",
              "          const docLinkHtml = 'Like what you see? Visit the ' +\n",
              "            '<a target=\"_blank\" href=https://colab.research.google.com/notebooks/data_table.ipynb>data table notebook</a>'\n",
              "            + ' to learn more about interactive tables.';\n",
              "          element.innerHTML = '';\n",
              "          dataTable['output_type'] = 'display_data';\n",
              "          await google.colab.output.renderOutput(dataTable, element);\n",
              "          const docLink = document.createElement('div');\n",
              "          docLink.innerHTML = docLinkHtml;\n",
              "          element.appendChild(docLink);\n",
              "        }\n",
              "      </script>\n",
              "    </div>\n",
              "  </div>\n",
              "  "
            ]
          },
          "metadata": {},
          "execution_count": 69
        }
      ]
    },
    {
      "cell_type": "code",
      "source": [
        "#Scatter Plot Harapan_hidup dan Kematian_anak\n",
        "plt.figure(figsize=(12,8))\n",
        "print('n_cluster = 2')\n",
        "plt.scatter(df_hk_scal['Harapan_hidup'][df_hk_scal['cluster']==0], df_hk_scal['Kematian_anak'][df_hk_scal['cluster']==0], c='blue', s=100, edgecolors='black' )\n",
        "plt.scatter(df_hk_scal['Harapan_hidup'][df_hk_scal['cluster']==1], df_hk_scal['Kematian_anak'][df_hk_scal['cluster']==1], c='green', s=100, edgecolors='black' )\n",
        "\n",
        "cluster = kmeans_hk.cluster_centers_\n",
        "plt.scatter(cluster[:,0], cluster[:,1], c='black', s=500)\n",
        "plt.xlabel('Harapan_hidup')\n",
        "plt.ylabel('Kematian_anak')\n",
        "plt.show()"
      ],
      "metadata": {
        "id": "PPdR3iw8T_TW",
        "colab": {
          "base_uri": "https://localhost:8080/",
          "height": 515
        },
        "outputId": "f4dd68db-8be4-416c-d422-f26913449c4d"
      },
      "execution_count": 70,
      "outputs": [
        {
          "output_type": "stream",
          "name": "stdout",
          "text": [
            "n_cluster = 2\n"
          ]
        },
        {
          "output_type": "display_data",
          "data": {
            "text/plain": [
              "<Figure size 864x576 with 1 Axes>"
            ],
            "image/png": "[encoded data removed]"
          },
          "metadata": {
            "needs_background": "light"
          }
        }
      ]
    },
    {
      "cell_type": "markdown",
      "source": [
        "Interpretasi :\n",
        "Bisa dilihat bahwa terdapat 2 cluster. Cluster dengan label 1 berwarna hijau menunjukkan kecenderungan Kematian_anak tinggi namun Harapan_hidupnya rendah, sedangkan cluster dengan label 0 berwarna biru menunjukkan kecenderungan Kematian_anak rendah namun Harapan_hidupnya tinggi"
      ],
      "metadata": {
        "id": "u8weqi-MT_TX"
      }
    },
    {
      "cell_type": "code",
      "source": [
        "df_hk_cluster.groupby(['cluster']).agg({'Harapan_hidup':'mean','Kematian_anak':'mean' })"
      ],
      "metadata": {
        "id": "oNF4NFBbT_TY",
        "colab": {
          "base_uri": "https://localhost:8080/",
          "height": 143
        },
        "outputId": "01926f29-23a7-4024-beaf-bd7ebdb1a2b1"
      },
      "execution_count": 71,
      "outputs": [
        {
          "output_type": "execute_result",
          "data": {
            "text/plain": [
              "         Harapan_hidup  Kematian_anak\n",
              "cluster                              \n",
              "0            75.716071      14.476786\n",
              "1            61.714545      76.503636"
            ],
            "text/html": [
              "\n",
              "  <div id=\"df-c8fe5006-ee86-4afd-8387-4dd54011b594\">\n",
              "    <div class=\"colab-df-container\">\n",
              "      <div>\n",
              "<style scoped>\n",
              "    .dataframe tbody tr th:only-of-type {\n",
              "        vertical-align: middle;\n",
              "    }\n",
              "\n",
              "    .dataframe tbody tr th {\n",
              "        vertical-align: top;\n",
              "    }\n",
              "\n",
              "    .dataframe thead th {\n",
              "        text-align: right;\n",
              "    }\n",
              "</style>\n",
              "<table border=\"1\" class=\"dataframe\">\n",
              "  <thead>\n",
              "    <tr style=\"text-align: right;\">\n",
              "      <th></th>\n",
              "      <th>Harapan_hidup</th>\n",
              "      <th>Kematian_anak</th>\n",
              "    </tr>\n",
              "    <tr>\n",
              "      <th>cluster</th>\n",
              "      <th></th>\n",
              "      <th></th>\n",
              "    </tr>\n",
              "  </thead>\n",
              "  <tbody>\n",
              "    <tr>\n",
              "      <th>0</th>\n",
              "      <td>75.716071</td>\n",
              "      <td>14.476786</td>\n",
              "    </tr>\n",
              "    <tr>\n",
              "      <th>1</th>\n",
              "      <td>61.714545</td>\n",
              "      <td>76.503636</td>\n",
              "    </tr>\n",
              "  </tbody>\n",
              "</table>\n",
              "</div>\n",
              "      <button class=\"colab-df-convert\" onclick=\"convertToInteractive('df-c8fe5006-ee86-4afd-8387-4dd54011b594')\"\n",
              "              title=\"Convert this dataframe to an interactive table.\"\n",
              "              style=\"display:none;\">\n",
              "        \n",
              "  <svg xmlns=\"http://www.w3.org/2000/svg\" height=\"24px\"viewBox=\"0 0 24 24\"\n",
              "       width=\"24px\">\n",
              "    <path d=\"M0 0h24v24H0V0z\" fill=\"none\"/>\n",
              "    <path d=\"M18.56 5.44l.94 2.06.94-2.06 2.06-.94-2.06-.94-.94-2.06-.94 2.06-2.06.94zm-11 1L8.5 8.5l.94-2.06 2.06-.94-2.06-.94L8.5 2.5l-.94 2.06-2.06.94zm10 10l.94 2.06.94-2.06 2.06-.94-2.06-.94-.94-2.06-.94 2.06-2.06.94z\"/><path d=\"M17.41 7.96l-1.37-1.37c-.4-.4-.92-.59-1.43-.59-.52 0-1.04.2-1.43.59L10.3 9.45l-7.72 7.72c-.78.78-.78 2.05 0 2.83L4 21.41c.39.39.9.59 1.41.59.51 0 1.02-.2 1.41-.59l7.78-7.78 2.81-2.81c.8-.78.8-2.07 0-2.86zM5.41 20L4 18.59l7.72-7.72 1.47 1.35L5.41 20z\"/>\n",
              "  </svg>\n",
              "      </button>\n",
              "      \n",
              "  <style>\n",
              "    .colab-df-container {\n",
              "      display:flex;\n",
              "      flex-wrap:wrap;\n",
              "      gap: 12px;\n",
              "    }\n",
              "\n",
              "    .colab-df-convert {\n",
              "      background-color: #E8F0FE;\n",
              "      border: none;\n",
              "      border-radius: 50%;\n",
              "      cursor: pointer;\n",
              "      display: none;\n",
              "      fill: #1967D2;\n",
              "      height: 32px;\n",
              "      padding: 0 0 0 0;\n",
              "      width: 32px;\n",
              "    }\n",
              "\n",
              "    .colab-df-convert:hover {\n",
              "      background-color: #E2EBFA;\n",
              "      box-shadow: 0px 1px 2px rgba(60, 64, 67, 0.3), 0px 1px 3px 1px rgba(60, 64, 67, 0.15);\n",
              "      fill: #174EA6;\n",
              "    }\n",
              "\n",
              "    [theme=dark] .colab-df-convert {\n",
              "      background-color: #3B4455;\n",
              "      fill: #D2E3FC;\n",
              "    }\n",
              "\n",
              "    [theme=dark] .colab-df-convert:hover {\n",
              "      background-color: #434B5C;\n",
              "      box-shadow: 0px 1px 3px 1px rgba(0, 0, 0, 0.15);\n",
              "      filter: drop-shadow(0px 1px 2px rgba(0, 0, 0, 0.3));\n",
              "      fill: #FFFFFF;\n",
              "    }\n",
              "  </style>\n",
              "\n",
              "      <script>\n",
              "        const buttonEl =\n",
              "          document.querySelector('#df-c8fe5006-ee86-4afd-8387-4dd54011b594 button.colab-df-convert');\n",
              "        buttonEl.style.display =\n",
              "          google.colab.kernel.accessAllowed ? 'block' : 'none';\n",
              "\n",
              "        async function convertToInteractive(key) {\n",
              "          const element = document.querySelector('#df-c8fe5006-ee86-4afd-8387-4dd54011b594');\n",
              "          const dataTable =\n",
              "            await google.colab.kernel.invokeFunction('convertToInteractive',\n",
              "                                                     [key], {});\n",
              "          if (!dataTable) return;\n",
              "\n",
              "          const docLinkHtml = 'Like what you see? Visit the ' +\n",
              "            '<a target=\"_blank\" href=https://colab.research.google.com/notebooks/data_table.ipynb>data table notebook</a>'\n",
              "            + ' to learn more about interactive tables.';\n",
              "          element.innerHTML = '';\n",
              "          dataTable['output_type'] = 'display_data';\n",
              "          await google.colab.output.renderOutput(dataTable, element);\n",
              "          const docLink = document.createElement('div');\n",
              "          docLink.innerHTML = docLinkHtml;\n",
              "          element.appendChild(docLink);\n",
              "        }\n",
              "      </script>\n",
              "    </div>\n",
              "  </div>\n",
              "  "
            ]
          },
          "metadata": {},
          "execution_count": 71
        }
      ]
    },
    {
      "cell_type": "markdown",
      "source": [
        "Bisa disimpulkan:\n",
        "\n",
        "cluster 0 : memiliki rata-rata Harapan hidup yang tinggi, yaitu 75 tahun dengan rata-rata terdapat 14 Kematian anak per 10000 kelahiran\n",
        "\n",
        "cluster 1 : memiliki rata-rata Harapan hidup lebih rendah dari cluster 0, yaitu 61 tahun dengan rata-rata terdapat 76 Kematian anak per 10000 kelahiran"
      ],
      "metadata": {
        "id": "xmzN0kmZT_TZ"
      }
    },
    {
      "cell_type": "code",
      "source": [
        "cluster_hk = pd.concat([df['Negara'],df_hk_cluster], axis=1, join='outer')\n",
        "cluster_hk.head()"
      ],
      "metadata": {
        "id": "_lsaVnriT_Ta",
        "colab": {
          "base_uri": "https://localhost:8080/",
          "height": 206
        },
        "outputId": "5ccea492-351e-47d4-e0ac-afbd4c9d4982"
      },
      "execution_count": 73,
      "outputs": [
        {
          "output_type": "execute_result",
          "data": {
            "text/plain": [
              "                Negara  Harapan_hidup  Kematian_anak  cluster\n",
              "0          Afghanistan           56.2           90.2        1\n",
              "1              Albania           76.3           16.6        0\n",
              "2              Algeria           76.5           27.3        0\n",
              "3               Angola           60.1          119.0        1\n",
              "4  Antigua and Barbuda           76.8           10.3        0"
            ],
            "text/html": [
              "\n",
              "  <div id=\"df-975ffa00-369c-4361-a9ea-3f6c74e340da\">\n",
              "    <div class=\"colab-df-container\">\n",
              "      <div>\n",
              "<style scoped>\n",
              "    .dataframe tbody tr th:only-of-type {\n",
              "        vertical-align: middle;\n",
              "    }\n",
              "\n",
              "    .dataframe tbody tr th {\n",
              "        vertical-align: top;\n",
              "    }\n",
              "\n",
              "    .dataframe thead th {\n",
              "        text-align: right;\n",
              "    }\n",
              "</style>\n",
              "<table border=\"1\" class=\"dataframe\">\n",
              "  <thead>\n",
              "    <tr style=\"text-align: right;\">\n",
              "      <th></th>\n",
              "      <th>Negara</th>\n",
              "      <th>Harapan_hidup</th>\n",
              "      <th>Kematian_anak</th>\n",
              "      <th>cluster</th>\n",
              "    </tr>\n",
              "  </thead>\n",
              "  <tbody>\n",
              "    <tr>\n",
              "      <th>0</th>\n",
              "      <td>Afghanistan</td>\n",
              "      <td>56.2</td>\n",
              "      <td>90.2</td>\n",
              "      <td>1</td>\n",
              "    </tr>\n",
              "    <tr>\n",
              "      <th>1</th>\n",
              "      <td>Albania</td>\n",
              "      <td>76.3</td>\n",
              "      <td>16.6</td>\n",
              "      <td>0</td>\n",
              "    </tr>\n",
              "    <tr>\n",
              "      <th>2</th>\n",
              "      <td>Algeria</td>\n",
              "      <td>76.5</td>\n",
              "      <td>27.3</td>\n",
              "      <td>0</td>\n",
              "    </tr>\n",
              "    <tr>\n",
              "      <th>3</th>\n",
              "      <td>Angola</td>\n",
              "      <td>60.1</td>\n",
              "      <td>119.0</td>\n",
              "      <td>1</td>\n",
              "    </tr>\n",
              "    <tr>\n",
              "      <th>4</th>\n",
              "      <td>Antigua and Barbuda</td>\n",
              "      <td>76.8</td>\n",
              "      <td>10.3</td>\n",
              "      <td>0</td>\n",
              "    </tr>\n",
              "  </tbody>\n",
              "</table>\n",
              "</div>\n",
              "      <button class=\"colab-df-convert\" onclick=\"convertToInteractive('df-975ffa00-369c-4361-a9ea-3f6c74e340da')\"\n",
              "              title=\"Convert this dataframe to an interactive table.\"\n",
              "              style=\"display:none;\">\n",
              "        \n",
              "  <svg xmlns=\"http://www.w3.org/2000/svg\" height=\"24px\"viewBox=\"0 0 24 24\"\n",
              "       width=\"24px\">\n",
              "    <path d=\"M0 0h24v24H0V0z\" fill=\"none\"/>\n",
              "    <path d=\"M18.56 5.44l.94 2.06.94-2.06 2.06-.94-2.06-.94-.94-2.06-.94 2.06-2.06.94zm-11 1L8.5 8.5l.94-2.06 2.06-.94-2.06-.94L8.5 2.5l-.94 2.06-2.06.94zm10 10l.94 2.06.94-2.06 2.06-.94-2.06-.94-.94-2.06-.94 2.06-2.06.94z\"/><path d=\"M17.41 7.96l-1.37-1.37c-.4-.4-.92-.59-1.43-.59-.52 0-1.04.2-1.43.59L10.3 9.45l-7.72 7.72c-.78.78-.78 2.05 0 2.83L4 21.41c.39.39.9.59 1.41.59.51 0 1.02-.2 1.41-.59l7.78-7.78 2.81-2.81c.8-.78.8-2.07 0-2.86zM5.41 20L4 18.59l7.72-7.72 1.47 1.35L5.41 20z\"/>\n",
              "  </svg>\n",
              "      </button>\n",
              "      \n",
              "  <style>\n",
              "    .colab-df-container {\n",
              "      display:flex;\n",
              "      flex-wrap:wrap;\n",
              "      gap: 12px;\n",
              "    }\n",
              "\n",
              "    .colab-df-convert {\n",
              "      background-color: #E8F0FE;\n",
              "      border: none;\n",
              "      border-radius: 50%;\n",
              "      cursor: pointer;\n",
              "      display: none;\n",
              "      fill: #1967D2;\n",
              "      height: 32px;\n",
              "      padding: 0 0 0 0;\n",
              "      width: 32px;\n",
              "    }\n",
              "\n",
              "    .colab-df-convert:hover {\n",
              "      background-color: #E2EBFA;\n",
              "      box-shadow: 0px 1px 2px rgba(60, 64, 67, 0.3), 0px 1px 3px 1px rgba(60, 64, 67, 0.15);\n",
              "      fill: #174EA6;\n",
              "    }\n",
              "\n",
              "    [theme=dark] .colab-df-convert {\n",
              "      background-color: #3B4455;\n",
              "      fill: #D2E3FC;\n",
              "    }\n",
              "\n",
              "    [theme=dark] .colab-df-convert:hover {\n",
              "      background-color: #434B5C;\n",
              "      box-shadow: 0px 1px 3px 1px rgba(0, 0, 0, 0.15);\n",
              "      filter: drop-shadow(0px 1px 2px rgba(0, 0, 0, 0.3));\n",
              "      fill: #FFFFFF;\n",
              "    }\n",
              "  </style>\n",
              "\n",
              "      <script>\n",
              "        const buttonEl =\n",
              "          document.querySelector('#df-975ffa00-369c-4361-a9ea-3f6c74e340da button.colab-df-convert');\n",
              "        buttonEl.style.display =\n",
              "          google.colab.kernel.accessAllowed ? 'block' : 'none';\n",
              "\n",
              "        async function convertToInteractive(key) {\n",
              "          const element = document.querySelector('#df-975ffa00-369c-4361-a9ea-3f6c74e340da');\n",
              "          const dataTable =\n",
              "            await google.colab.kernel.invokeFunction('convertToInteractive',\n",
              "                                                     [key], {});\n",
              "          if (!dataTable) return;\n",
              "\n",
              "          const docLinkHtml = 'Like what you see? Visit the ' +\n",
              "            '<a target=\"_blank\" href=https://colab.research.google.com/notebooks/data_table.ipynb>data table notebook</a>'\n",
              "            + ' to learn more about interactive tables.';\n",
              "          element.innerHTML = '';\n",
              "          dataTable['output_type'] = 'display_data';\n",
              "          await google.colab.output.renderOutput(dataTable, element);\n",
              "          const docLink = document.createElement('div');\n",
              "          docLink.innerHTML = docLinkHtml;\n",
              "          element.appendChild(docLink);\n",
              "        }\n",
              "      </script>\n",
              "    </div>\n",
              "  </div>\n",
              "  "
            ]
          },
          "metadata": {},
          "execution_count": 73
        }
      ]
    },
    {
      "cell_type": "code",
      "source": [
        "print('daftar negara cluster 0 :')\n",
        "print(cluster_hk[cluster_hk.cluster == 0].Negara.values)\n",
        "print('Total : ', cluster_hk[cluster_hk.cluster == 0].Negara.count())"
      ],
      "metadata": {
        "id": "qGf2RtmWT_Ta",
        "colab": {
          "base_uri": "https://localhost:8080/"
        },
        "outputId": "1cc6936f-9865-4294-82b3-77719a430cb9"
      },
      "execution_count": 74,
      "outputs": [
        {
          "output_type": "stream",
          "name": "stdout",
          "text": [
            "daftar negara cluster 0 :\n",
            "['Albania' 'Algeria' 'Antigua and Barbuda' 'Argentina' 'Armenia'\n",
            " 'Australia' 'Austria' 'Azerbaijan' 'Bahamas' 'Bahrain' 'Bangladesh'\n",
            " 'Barbados' 'Belarus' 'Belgium' 'Belize' 'Bhutan' 'Bolivia'\n",
            " 'Bosnia and Herzegovina' 'Brazil' 'Brunei' 'Bulgaria' 'Canada'\n",
            " 'Cape Verde' 'Central African Republic' 'Chile' 'China' 'Colombia'\n",
            " 'Costa Rica' 'Croatia' 'Cyprus' 'Czech Republic' 'Denmark'\n",
            " 'Dominican Republic' 'Ecuador' 'Egypt' 'El Salvador' 'Estonia' 'Fiji'\n",
            " 'Finland' 'France' 'Georgia' 'Germany' 'Greece' 'Grenada' 'Guatemala'\n",
            " 'Hungary' 'Iceland' 'Indonesia' 'Iran' 'Iraq' 'Ireland' 'Israel' 'Italy'\n",
            " 'Jamaica' 'Japan' 'Jordan' 'Kazakhstan' 'Kuwait' 'Kyrgyz Republic'\n",
            " 'Latvia' 'Lebanon' 'Libya' 'Lithuania' 'Luxembourg' 'Macedonia, FYR'\n",
            " 'Malaysia' 'Maldives' 'Malta' 'Mauritius' 'Moldova' 'Mongolia'\n",
            " 'Montenegro' 'Morocco' 'Netherlands' 'New Zealand' 'Norway' 'Oman'\n",
            " 'Panama' 'Paraguay' 'Peru' 'Philippines' 'Poland' 'Portugal' 'Qatar'\n",
            " 'Romania' 'Russia' 'Samoa' 'Saudi Arabia' 'Serbia' 'Seychelles'\n",
            " 'Singapore' 'Slovak Republic' 'Slovenia' 'South Korea' 'Spain'\n",
            " 'Sri Lanka' 'St. Vincent and the Grenadines' 'Suriname' 'Sweden'\n",
            " 'Switzerland' 'Thailand' 'Tonga' 'Tunisia' 'Turkey' 'Ukraine'\n",
            " 'United Arab Emirates' 'United Kingdom' 'United States' 'Uruguay'\n",
            " 'Uzbekistan' 'Venezuela' 'Vietnam']\n",
            "Total :  112\n"
          ]
        }
      ]
    },
    {
      "cell_type": "code",
      "source": [
        "print('daftar negara cluster 1 :')\n",
        "print(cluster_hk[cluster_hk.cluster == 1].Negara.values)\n",
        "print('Total : ', cluster_hk[cluster_hk.cluster == 1].Negara.count())"
      ],
      "metadata": {
        "id": "-hXC7qPrT_Tb",
        "colab": {
          "base_uri": "https://localhost:8080/"
        },
        "outputId": "67c6579f-2155-4ca3-95c4-35c389d79631"
      },
      "execution_count": 75,
      "outputs": [
        {
          "output_type": "stream",
          "name": "stdout",
          "text": [
            "daftar negara cluster 1 :\n",
            "['Afghanistan' 'Angola' 'Benin' 'Botswana' 'Burkina Faso' 'Burundi'\n",
            " 'Cambodia' 'Cameroon' 'Chad' 'Comoros' 'Congo, Dem. Rep.' 'Congo, Rep.'\n",
            " \"Cote d'Ivoire\" 'Equatorial Guinea' 'Eritrea' 'Gabon' 'Gambia' 'Ghana'\n",
            " 'Guinea' 'Guinea-Bissau' 'Guyana' 'Haiti' 'India' 'Kenya' 'Kiribati'\n",
            " 'Lao' 'Lesotho' 'Liberia' 'Madagascar' 'Malawi' 'Mali' 'Mauritania'\n",
            " 'Micronesia, Fed. Sts.' 'Mozambique' 'Myanmar' 'Namibia' 'Nepal' 'Niger'\n",
            " 'Nigeria' 'Pakistan' 'Rwanda' 'Senegal' 'Sierra Leone' 'Solomon Islands'\n",
            " 'South Africa' 'Sudan' 'Tajikistan' 'Tanzania' 'Timor-Leste' 'Togo'\n",
            " 'Turkmenistan' 'Uganda' 'Vanuatu' 'Yemen' 'Zambia']\n",
            "Total :  55\n"
          ]
        }
      ]
    },
    {
      "cell_type": "markdown",
      "source": [
        "Dari hasil analisis diatas, negara yang ada di cluster 1 akan dipertimbangkan untuk menjadi penerima bantuan dari organisasi HELP dikarenakan tingginya Kematian_anak namun harapan hidupnya rendah."
      ],
      "metadata": {
        "id": "r0zzc5giT_Tc"
      }
    },
    {
      "cell_type": "markdown",
      "source": [
        "#GDPperkapita dan Pendapatan"
      ],
      "metadata": {
        "id": "XedkNR6iZSRu"
      }
    },
    {
      "cell_type": "code",
      "source": [
        "df_gp = pd.DataFrame(data= df_outlier, columns=['GDPperkapita', 'Pendapatan'])\n",
        "df_gp.head()"
      ],
      "metadata": {
        "cellView": "code",
        "id": "FmfzmVtHZSRw",
        "colab": {
          "base_uri": "https://localhost:8080/",
          "height": 206
        },
        "outputId": "e4075073-3a1b-4e27-de51-e7f73d96dcdf"
      },
      "execution_count": 77,
      "outputs": [
        {
          "output_type": "execute_result",
          "data": {
            "text/plain": [
              "   GDPperkapita  Pendapatan\n",
              "0         553.0      1610.0\n",
              "1        4090.0      9930.0\n",
              "2        4460.0     12900.0\n",
              "3        3530.0      5900.0\n",
              "4       12200.0     19100.0"
            ],
            "text/html": [
              "\n",
              "  <div id=\"df-72786fc7-d561-4a5d-b783-651733aa5319\">\n",
              "    <div class=\"colab-df-container\">\n",
              "      <div>\n",
              "<style scoped>\n",
              "    .dataframe tbody tr th:only-of-type {\n",
              "        vertical-align: middle;\n",
              "    }\n",
              "\n",
              "    .dataframe tbody tr th {\n",
              "        vertical-align: top;\n",
              "    }\n",
              "\n",
              "    .dataframe thead th {\n",
              "        text-align: right;\n",
              "    }\n",
              "</style>\n",
              "<table border=\"1\" class=\"dataframe\">\n",
              "  <thead>\n",
              "    <tr style=\"text-align: right;\">\n",
              "      <th></th>\n",
              "      <th>GDPperkapita</th>\n",
              "      <th>Pendapatan</th>\n",
              "    </tr>\n",
              "  </thead>\n",
              "  <tbody>\n",
              "    <tr>\n",
              "      <th>0</th>\n",
              "      <td>553.0</td>\n",
              "      <td>1610.0</td>\n",
              "    </tr>\n",
              "    <tr>\n",
              "      <th>1</th>\n",
              "      <td>4090.0</td>\n",
              "      <td>9930.0</td>\n",
              "    </tr>\n",
              "    <tr>\n",
              "      <th>2</th>\n",
              "      <td>4460.0</td>\n",
              "      <td>12900.0</td>\n",
              "    </tr>\n",
              "    <tr>\n",
              "      <th>3</th>\n",
              "      <td>3530.0</td>\n",
              "      <td>5900.0</td>\n",
              "    </tr>\n",
              "    <tr>\n",
              "      <th>4</th>\n",
              "      <td>12200.0</td>\n",
              "      <td>19100.0</td>\n",
              "    </tr>\n",
              "  </tbody>\n",
              "</table>\n",
              "</div>\n",
              "      <button class=\"colab-df-convert\" onclick=\"convertToInteractive('df-72786fc7-d561-4a5d-b783-651733aa5319')\"\n",
              "              title=\"Convert this dataframe to an interactive table.\"\n",
              "              style=\"display:none;\">\n",
              "        \n",
              "  <svg xmlns=\"http://www.w3.org/2000/svg\" height=\"24px\"viewBox=\"0 0 24 24\"\n",
              "       width=\"24px\">\n",
              "    <path d=\"M0 0h24v24H0V0z\" fill=\"none\"/>\n",
              "    <path d=\"M18.56 5.44l.94 2.06.94-2.06 2.06-.94-2.06-.94-.94-2.06-.94 2.06-2.06.94zm-11 1L8.5 8.5l.94-2.06 2.06-.94-2.06-.94L8.5 2.5l-.94 2.06-2.06.94zm10 10l.94 2.06.94-2.06 2.06-.94-2.06-.94-.94-2.06-.94 2.06-2.06.94z\"/><path d=\"M17.41 7.96l-1.37-1.37c-.4-.4-.92-.59-1.43-.59-.52 0-1.04.2-1.43.59L10.3 9.45l-7.72 7.72c-.78.78-.78 2.05 0 2.83L4 21.41c.39.39.9.59 1.41.59.51 0 1.02-.2 1.41-.59l7.78-7.78 2.81-2.81c.8-.78.8-2.07 0-2.86zM5.41 20L4 18.59l7.72-7.72 1.47 1.35L5.41 20z\"/>\n",
              "  </svg>\n",
              "      </button>\n",
              "      \n",
              "  <style>\n",
              "    .colab-df-container {\n",
              "      display:flex;\n",
              "      flex-wrap:wrap;\n",
              "      gap: 12px;\n",
              "    }\n",
              "\n",
              "    .colab-df-convert {\n",
              "      background-color: #E8F0FE;\n",
              "      border: none;\n",
              "      border-radius: 50%;\n",
              "      cursor: pointer;\n",
              "      display: none;\n",
              "      fill: #1967D2;\n",
              "      height: 32px;\n",
              "      padding: 0 0 0 0;\n",
              "      width: 32px;\n",
              "    }\n",
              "\n",
              "    .colab-df-convert:hover {\n",
              "      background-color: #E2EBFA;\n",
              "      box-shadow: 0px 1px 2px rgba(60, 64, 67, 0.3), 0px 1px 3px 1px rgba(60, 64, 67, 0.15);\n",
              "      fill: #174EA6;\n",
              "    }\n",
              "\n",
              "    [theme=dark] .colab-df-convert {\n",
              "      background-color: #3B4455;\n",
              "      fill: #D2E3FC;\n",
              "    }\n",
              "\n",
              "    [theme=dark] .colab-df-convert:hover {\n",
              "      background-color: #434B5C;\n",
              "      box-shadow: 0px 1px 3px 1px rgba(0, 0, 0, 0.15);\n",
              "      filter: drop-shadow(0px 1px 2px rgba(0, 0, 0, 0.3));\n",
              "      fill: #FFFFFF;\n",
              "    }\n",
              "  </style>\n",
              "\n",
              "      <script>\n",
              "        const buttonEl =\n",
              "          document.querySelector('#df-72786fc7-d561-4a5d-b783-651733aa5319 button.colab-df-convert');\n",
              "        buttonEl.style.display =\n",
              "          google.colab.kernel.accessAllowed ? 'block' : 'none';\n",
              "\n",
              "        async function convertToInteractive(key) {\n",
              "          const element = document.querySelector('#df-72786fc7-d561-4a5d-b783-651733aa5319');\n",
              "          const dataTable =\n",
              "            await google.colab.kernel.invokeFunction('convertToInteractive',\n",
              "                                                     [key], {});\n",
              "          if (!dataTable) return;\n",
              "\n",
              "          const docLinkHtml = 'Like what you see? Visit the ' +\n",
              "            '<a target=\"_blank\" href=https://colab.research.google.com/notebooks/data_table.ipynb>data table notebook</a>'\n",
              "            + ' to learn more about interactive tables.';\n",
              "          element.innerHTML = '';\n",
              "          dataTable['output_type'] = 'display_data';\n",
              "          await google.colab.output.renderOutput(dataTable, element);\n",
              "          const docLink = document.createElement('div');\n",
              "          docLink.innerHTML = docLinkHtml;\n",
              "          element.appendChild(docLink);\n",
              "        }\n",
              "      </script>\n",
              "    </div>\n",
              "  </div>\n",
              "  "
            ]
          },
          "metadata": {},
          "execution_count": 77
        }
      ]
    },
    {
      "cell_type": "code",
      "source": [
        "#Scalling data\n",
        "sc = StandardScaler()\n",
        "df_gp = sc.fit_transform(df_gp)"
      ],
      "metadata": {
        "id": "zLB9CeKuZSRx"
      },
      "execution_count": 78,
      "outputs": []
    },
    {
      "cell_type": "code",
      "source": [
        "#Elbow Method GDPperkapita dan Pendapatan\n",
        "wcss = [] #Within-Cluster Sum of Square \n",
        "for i in range(1,11):\n",
        "  kmeans = KMeans(n_clusters=i, init='k-means++', random_state=42)\n",
        "  kmeans.fit(df_gp)\n",
        "  wcss.append(kmeans.inertia_)\n",
        "\n",
        "plt.figure(figsize=(10,6))\n",
        "plt.plot(range(1,11), wcss)\n",
        "plt.title('The Elbow Method')\n",
        "plt.xlabel('Number of cluster')\n",
        "plt.ylabel('WCSS')\n",
        "plt.show()"
      ],
      "metadata": {
        "id": "KoM2Iw3AZSRy",
        "colab": {
          "base_uri": "https://localhost:8080/",
          "height": 404
        },
        "outputId": "2be62e30-64da-47c5-8bc7-0f73a34a94a1"
      },
      "execution_count": 79,
      "outputs": [
        {
          "output_type": "display_data",
          "data": {
            "text/plain": [
              "<Figure size 720x432 with 1 Axes>"
            ],
            "image/png": "[encoded data removed]"
          },
          "metadata": {
            "needs_background": "light"
          }
        }
      ]
    },
    {
      "cell_type": "markdown",
      "source": [
        "pada grafik diatas, kurva memiliki belokan yang tajam di titik 2 dan titik 4, sehingga kita akan sesuaikan dengan Sillhoutte score untuk menentukan banyaknya cluster yang akan dibuat."
      ],
      "metadata": {
        "id": "6kjios8MZSRz"
      }
    },
    {
      "cell_type": "code",
      "source": [
        "#Silhoutte score untuk GDPperkapita dan Pendapatan\n",
        "for i in range(2,11):\n",
        "  labels = KMeans(n_clusters=i, init='k-means++', random_state=42).fit(df_gp).labels_\n",
        "  print(\"Silhoutte Score untuk cluster \" + str(i) + \" adalah \" + str(silhouette_score(df_gp, labels)))"
      ],
      "metadata": {
        "id": "kvnlvqKlZSR1",
        "colab": {
          "base_uri": "https://localhost:8080/"
        },
        "outputId": "b0be98df-bf69-4869-d5a8-7fbd18da9df9"
      },
      "execution_count": 81,
      "outputs": [
        {
          "output_type": "stream",
          "name": "stdout",
          "text": [
            "Silhoutte Score untuk cluster 2 adalah 0.6019552031066541\n",
            "Silhoutte Score untuk cluster 3 adalah 0.5916669279153621\n",
            "Silhoutte Score untuk cluster 4 adalah 0.6298540261191707\n",
            "Silhoutte Score untuk cluster 5 adalah 0.5825420920449407\n",
            "Silhoutte Score untuk cluster 6 adalah 0.5810962805674209\n",
            "Silhoutte Score untuk cluster 7 adalah 0.5580194578683566\n",
            "Silhoutte Score untuk cluster 8 adalah 0.5703638066566458\n",
            "Silhoutte Score untuk cluster 9 adalah 0.5680345734848481\n",
            "Silhoutte Score untuk cluster 10 adalah 0.5413482584979522\n"
          ]
        }
      ]
    },
    {
      "cell_type": "markdown",
      "source": [
        "Silhoutte score digunakan untuk melihat nilai k (banyaknya cluster) yang terbaik dilihat dari nilai yang tertinggi. Diperoleh Silhoutte score tertingginya yaiut 0.6298 untuk 4 cluster."
      ],
      "metadata": {
        "id": "Abp6UcWHZSR2"
      }
    },
    {
      "cell_type": "code",
      "source": [
        "#KMeans Cluster GDPperkapita dan Pendapatan\n",
        "#4 cluster\n",
        "kmeans_gp = KMeans(n_clusters=4, init='k-means++', random_state=42).fit(df_gp)\n",
        "labels_gp = kmeans_gp.labels_\n",
        "\n",
        "df_gp_cluster = pd.DataFrame(data= df_outlier, columns=['GDPperkapita', 'Pendapatan'])\n",
        "df_gp_cluster['cluster'] = labels_gp\n",
        "df_gp_cluster.head()"
      ],
      "metadata": {
        "id": "w4L0HogCZSR2",
        "colab": {
          "base_uri": "https://localhost:8080/",
          "height": 206
        },
        "outputId": "36205bfe-0625-49b4-bba4-bed6d64a9ce4"
      },
      "execution_count": 82,
      "outputs": [
        {
          "output_type": "execute_result",
          "data": {
            "text/plain": [
              "   GDPperkapita  Pendapatan  cluster\n",
              "0         553.0      1610.0        2\n",
              "1        4090.0      9930.0        2\n",
              "2        4460.0     12900.0        2\n",
              "3        3530.0      5900.0        2\n",
              "4       12200.0     19100.0        0"
            ],
            "text/html": [
              "\n",
              "  <div id=\"df-f9db4c7e-d10c-4c54-9968-61f8c39fbb20\">\n",
              "    <div class=\"colab-df-container\">\n",
              "      <div>\n",
              "<style scoped>\n",
              "    .dataframe tbody tr th:only-of-type {\n",
              "        vertical-align: middle;\n",
              "    }\n",
              "\n",
              "    .dataframe tbody tr th {\n",
              "        vertical-align: top;\n",
              "    }\n",
              "\n",
              "    .dataframe thead th {\n",
              "        text-align: right;\n",
              "    }\n",
              "</style>\n",
              "<table border=\"1\" class=\"dataframe\">\n",
              "  <thead>\n",
              "    <tr style=\"text-align: right;\">\n",
              "      <th></th>\n",
              "      <th>GDPperkapita</th>\n",
              "      <th>Pendapatan</th>\n",
              "      <th>cluster</th>\n",
              "    </tr>\n",
              "  </thead>\n",
              "  <tbody>\n",
              "    <tr>\n",
              "      <th>0</th>\n",
              "      <td>553.0</td>\n",
              "      <td>1610.0</td>\n",
              "      <td>2</td>\n",
              "    </tr>\n",
              "    <tr>\n",
              "      <th>1</th>\n",
              "      <td>4090.0</td>\n",
              "      <td>9930.0</td>\n",
              "      <td>2</td>\n",
              "    </tr>\n",
              "    <tr>\n",
              "      <th>2</th>\n",
              "      <td>4460.0</td>\n",
              "      <td>12900.0</td>\n",
              "      <td>2</td>\n",
              "    </tr>\n",
              "    <tr>\n",
              "      <th>3</th>\n",
              "      <td>3530.0</td>\n",
              "      <td>5900.0</td>\n",
              "      <td>2</td>\n",
              "    </tr>\n",
              "    <tr>\n",
              "      <th>4</th>\n",
              "      <td>12200.0</td>\n",
              "      <td>19100.0</td>\n",
              "      <td>0</td>\n",
              "    </tr>\n",
              "  </tbody>\n",
              "</table>\n",
              "</div>\n",
              "      <button class=\"colab-df-convert\" onclick=\"convertToInteractive('df-f9db4c7e-d10c-4c54-9968-61f8c39fbb20')\"\n",
              "              title=\"Convert this dataframe to an interactive table.\"\n",
              "              style=\"display:none;\">\n",
              "        \n",
              "  <svg xmlns=\"http://www.w3.org/2000/svg\" height=\"24px\"viewBox=\"0 0 24 24\"\n",
              "       width=\"24px\">\n",
              "    <path d=\"M0 0h24v24H0V0z\" fill=\"none\"/>\n",
              "    <path d=\"M18.56 5.44l.94 2.06.94-2.06 2.06-.94-2.06-.94-.94-2.06-.94 2.06-2.06.94zm-11 1L8.5 8.5l.94-2.06 2.06-.94-2.06-.94L8.5 2.5l-.94 2.06-2.06.94zm10 10l.94 2.06.94-2.06 2.06-.94-2.06-.94-.94-2.06-.94 2.06-2.06.94z\"/><path d=\"M17.41 7.96l-1.37-1.37c-.4-.4-.92-.59-1.43-.59-.52 0-1.04.2-1.43.59L10.3 9.45l-7.72 7.72c-.78.78-.78 2.05 0 2.83L4 21.41c.39.39.9.59 1.41.59.51 0 1.02-.2 1.41-.59l7.78-7.78 2.81-2.81c.8-.78.8-2.07 0-2.86zM5.41 20L4 18.59l7.72-7.72 1.47 1.35L5.41 20z\"/>\n",
              "  </svg>\n",
              "      </button>\n",
              "      \n",
              "  <style>\n",
              "    .colab-df-container {\n",
              "      display:flex;\n",
              "      flex-wrap:wrap;\n",
              "      gap: 12px;\n",
              "    }\n",
              "\n",
              "    .colab-df-convert {\n",
              "      background-color: #E8F0FE;\n",
              "      border: none;\n",
              "      border-radius: 50%;\n",
              "      cursor: pointer;\n",
              "      display: none;\n",
              "      fill: #1967D2;\n",
              "      height: 32px;\n",
              "      padding: 0 0 0 0;\n",
              "      width: 32px;\n",
              "    }\n",
              "\n",
              "    .colab-df-convert:hover {\n",
              "      background-color: #E2EBFA;\n",
              "      box-shadow: 0px 1px 2px rgba(60, 64, 67, 0.3), 0px 1px 3px 1px rgba(60, 64, 67, 0.15);\n",
              "      fill: #174EA6;\n",
              "    }\n",
              "\n",
              "    [theme=dark] .colab-df-convert {\n",
              "      background-color: #3B4455;\n",
              "      fill: #D2E3FC;\n",
              "    }\n",
              "\n",
              "    [theme=dark] .colab-df-convert:hover {\n",
              "      background-color: #434B5C;\n",
              "      box-shadow: 0px 1px 3px 1px rgba(0, 0, 0, 0.15);\n",
              "      filter: drop-shadow(0px 1px 2px rgba(0, 0, 0, 0.3));\n",
              "      fill: #FFFFFF;\n",
              "    }\n",
              "  </style>\n",
              "\n",
              "      <script>\n",
              "        const buttonEl =\n",
              "          document.querySelector('#df-f9db4c7e-d10c-4c54-9968-61f8c39fbb20 button.colab-df-convert');\n",
              "        buttonEl.style.display =\n",
              "          google.colab.kernel.accessAllowed ? 'block' : 'none';\n",
              "\n",
              "        async function convertToInteractive(key) {\n",
              "          const element = document.querySelector('#df-f9db4c7e-d10c-4c54-9968-61f8c39fbb20');\n",
              "          const dataTable =\n",
              "            await google.colab.kernel.invokeFunction('convertToInteractive',\n",
              "                                                     [key], {});\n",
              "          if (!dataTable) return;\n",
              "\n",
              "          const docLinkHtml = 'Like what you see? Visit the ' +\n",
              "            '<a target=\"_blank\" href=https://colab.research.google.com/notebooks/data_table.ipynb>data table notebook</a>'\n",
              "            + ' to learn more about interactive tables.';\n",
              "          element.innerHTML = '';\n",
              "          dataTable['output_type'] = 'display_data';\n",
              "          await google.colab.output.renderOutput(dataTable, element);\n",
              "          const docLink = document.createElement('div');\n",
              "          docLink.innerHTML = docLinkHtml;\n",
              "          element.appendChild(docLink);\n",
              "        }\n",
              "      </script>\n",
              "    </div>\n",
              "  </div>\n",
              "  "
            ]
          },
          "metadata": {},
          "execution_count": 82
        }
      ]
    },
    {
      "cell_type": "code",
      "source": [
        "df_gp_scal = pd.DataFrame(data= df_gp, columns=['GDPperkapita','Pendapatan'])\n",
        "df_gp_scal['cluster'] = labels_gp\n",
        "df_gp_scal.head()"
      ],
      "metadata": {
        "id": "6KuQFHOXZSR3",
        "colab": {
          "base_uri": "https://localhost:8080/",
          "height": 206
        },
        "outputId": "f64d1a68-435a-40e0-b96a-0cd0ead82fad"
      },
      "execution_count": 83,
      "outputs": [
        {
          "output_type": "execute_result",
          "data": {
            "text/plain": [
              "   GDPperkapita  Pendapatan  cluster\n",
              "0     -0.822826   -0.953057        2\n",
              "1     -0.327586   -0.321249        2\n",
              "2     -0.275780   -0.095711        2\n",
              "3     -0.405996   -0.627281        2\n",
              "4      0.807949    0.375108        0"
            ],
            "text/html": [
              "\n",
              "  <div id=\"df-36e60a21-0e52-4d0e-9cad-486f242b58bc\">\n",
              "    <div class=\"colab-df-container\">\n",
              "      <div>\n",
              "<style scoped>\n",
              "    .dataframe tbody tr th:only-of-type {\n",
              "        vertical-align: middle;\n",
              "    }\n",
              "\n",
              "    .dataframe tbody tr th {\n",
              "        vertical-align: top;\n",
              "    }\n",
              "\n",
              "    .dataframe thead th {\n",
              "        text-align: right;\n",
              "    }\n",
              "</style>\n",
              "<table border=\"1\" class=\"dataframe\">\n",
              "  <thead>\n",
              "    <tr style=\"text-align: right;\">\n",
              "      <th></th>\n",
              "      <th>GDPperkapita</th>\n",
              "      <th>Pendapatan</th>\n",
              "      <th>cluster</th>\n",
              "    </tr>\n",
              "  </thead>\n",
              "  <tbody>\n",
              "    <tr>\n",
              "      <th>0</th>\n",
              "      <td>-0.822826</td>\n",
              "      <td>-0.953057</td>\n",
              "      <td>2</td>\n",
              "    </tr>\n",
              "    <tr>\n",
              "      <th>1</th>\n",
              "      <td>-0.327586</td>\n",
              "      <td>-0.321249</td>\n",
              "      <td>2</td>\n",
              "    </tr>\n",
              "    <tr>\n",
              "      <th>2</th>\n",
              "      <td>-0.275780</td>\n",
              "      <td>-0.095711</td>\n",
              "      <td>2</td>\n",
              "    </tr>\n",
              "    <tr>\n",
              "      <th>3</th>\n",
              "      <td>-0.405996</td>\n",
              "      <td>-0.627281</td>\n",
              "      <td>2</td>\n",
              "    </tr>\n",
              "    <tr>\n",
              "      <th>4</th>\n",
              "      <td>0.807949</td>\n",
              "      <td>0.375108</td>\n",
              "      <td>0</td>\n",
              "    </tr>\n",
              "  </tbody>\n",
              "</table>\n",
              "</div>\n",
              "      <button class=\"colab-df-convert\" onclick=\"convertToInteractive('df-36e60a21-0e52-4d0e-9cad-486f242b58bc')\"\n",
              "              title=\"Convert this dataframe to an interactive table.\"\n",
              "              style=\"display:none;\">\n",
              "        \n",
              "  <svg xmlns=\"http://www.w3.org/2000/svg\" height=\"24px\"viewBox=\"0 0 24 24\"\n",
              "       width=\"24px\">\n",
              "    <path d=\"M0 0h24v24H0V0z\" fill=\"none\"/>\n",
              "    <path d=\"M18.56 5.44l.94 2.06.94-2.06 2.06-.94-2.06-.94-.94-2.06-.94 2.06-2.06.94zm-11 1L8.5 8.5l.94-2.06 2.06-.94-2.06-.94L8.5 2.5l-.94 2.06-2.06.94zm10 10l.94 2.06.94-2.06 2.06-.94-2.06-.94-.94-2.06-.94 2.06-2.06.94z\"/><path d=\"M17.41 7.96l-1.37-1.37c-.4-.4-.92-.59-1.43-.59-.52 0-1.04.2-1.43.59L10.3 9.45l-7.72 7.72c-.78.78-.78 2.05 0 2.83L4 21.41c.39.39.9.59 1.41.59.51 0 1.02-.2 1.41-.59l7.78-7.78 2.81-2.81c.8-.78.8-2.07 0-2.86zM5.41 20L4 18.59l7.72-7.72 1.47 1.35L5.41 20z\"/>\n",
              "  </svg>\n",
              "      </button>\n",
              "      \n",
              "  <style>\n",
              "    .colab-df-container {\n",
              "      display:flex;\n",
              "      flex-wrap:wrap;\n",
              "      gap: 12px;\n",
              "    }\n",
              "\n",
              "    .colab-df-convert {\n",
              "      background-color: #E8F0FE;\n",
              "      border: none;\n",
              "      border-radius: 50%;\n",
              "      cursor: pointer;\n",
              "      display: none;\n",
              "      fill: #1967D2;\n",
              "      height: 32px;\n",
              "      padding: 0 0 0 0;\n",
              "      width: 32px;\n",
              "    }\n",
              "\n",
              "    .colab-df-convert:hover {\n",
              "      background-color: #E2EBFA;\n",
              "      box-shadow: 0px 1px 2px rgba(60, 64, 67, 0.3), 0px 1px 3px 1px rgba(60, 64, 67, 0.15);\n",
              "      fill: #174EA6;\n",
              "    }\n",
              "\n",
              "    [theme=dark] .colab-df-convert {\n",
              "      background-color: #3B4455;\n",
              "      fill: #D2E3FC;\n",
              "    }\n",
              "\n",
              "    [theme=dark] .colab-df-convert:hover {\n",
              "      background-color: #434B5C;\n",
              "      box-shadow: 0px 1px 3px 1px rgba(0, 0, 0, 0.15);\n",
              "      filter: drop-shadow(0px 1px 2px rgba(0, 0, 0, 0.3));\n",
              "      fill: #FFFFFF;\n",
              "    }\n",
              "  </style>\n",
              "\n",
              "      <script>\n",
              "        const buttonEl =\n",
              "          document.querySelector('#df-36e60a21-0e52-4d0e-9cad-486f242b58bc button.colab-df-convert');\n",
              "        buttonEl.style.display =\n",
              "          google.colab.kernel.accessAllowed ? 'block' : 'none';\n",
              "\n",
              "        async function convertToInteractive(key) {\n",
              "          const element = document.querySelector('#df-36e60a21-0e52-4d0e-9cad-486f242b58bc');\n",
              "          const dataTable =\n",
              "            await google.colab.kernel.invokeFunction('convertToInteractive',\n",
              "                                                     [key], {});\n",
              "          if (!dataTable) return;\n",
              "\n",
              "          const docLinkHtml = 'Like what you see? Visit the ' +\n",
              "            '<a target=\"_blank\" href=https://colab.research.google.com/notebooks/data_table.ipynb>data table notebook</a>'\n",
              "            + ' to learn more about interactive tables.';\n",
              "          element.innerHTML = '';\n",
              "          dataTable['output_type'] = 'display_data';\n",
              "          await google.colab.output.renderOutput(dataTable, element);\n",
              "          const docLink = document.createElement('div');\n",
              "          docLink.innerHTML = docLinkHtml;\n",
              "          element.appendChild(docLink);\n",
              "        }\n",
              "      </script>\n",
              "    </div>\n",
              "  </div>\n",
              "  "
            ]
          },
          "metadata": {},
          "execution_count": 83
        }
      ]
    },
    {
      "cell_type": "code",
      "source": [
        "#Scatter Plot GDPperkapita dan Pendapatan\n",
        "plt.figure(figsize=(12,8))\n",
        "print('n_cluster = 4')\n",
        "plt.scatter(df_gp_scal['GDPperkapita'][df_gp_scal['cluster']==0], df_gp_scal['Pendapatan'][df_gp_scal['cluster']==0], c='blue', s=100, edgecolors='black' )\n",
        "plt.scatter(df_gp_scal['GDPperkapita'][df_gp_scal['cluster']==1], df_gp_scal['Pendapatan'][df_gp_scal['cluster']==1], c='green', s=100, edgecolors='black' )\n",
        "plt.scatter(df_gp_scal['GDPperkapita'][df_gp_scal['cluster']==2], df_gp_scal['Pendapatan'][df_gp_scal['cluster']==2], c='red', s=100, edgecolors='black' )\n",
        "plt.scatter(df_gp_scal['GDPperkapita'][df_gp_scal['cluster']==3], df_gp_scal['Pendapatan'][df_gp_scal['cluster']==3], c='yellow', s=100, edgecolors='black' )\n",
        "\n",
        "cluster = kmeans_gp.cluster_centers_\n",
        "plt.scatter(cluster[:,0], cluster[:,1], c='black', s=500)\n",
        "plt.xlabel('GDP perkapita')\n",
        "plt.ylabel('Pendapatan')\n",
        "plt.show()"
      ],
      "metadata": {
        "id": "-RngbE3LZSR4",
        "colab": {
          "base_uri": "https://localhost:8080/",
          "height": 514
        },
        "outputId": "396e5847-14be-4540-ff24-82268df19306"
      },
      "execution_count": 85,
      "outputs": [
        {
          "output_type": "stream",
          "name": "stdout",
          "text": [
            "n_cluster = 4\n"
          ]
        },
        {
          "output_type": "display_data",
          "data": {
            "text/plain": [
              "<Figure size 864x576 with 1 Axes>"
            ],
            "image/png": "[encoded data removed]"
          },
          "metadata": {
            "needs_background": "light"
          }
        }
      ]
    },
    {
      "cell_type": "markdown",
      "source": [
        "Interpretasi :\n",
        "Bisa dilihat bahwa terdapat 4 cluster\n",
        "\n",
        "cluster 0 (biru) :  Merupakan negara-negara yang memiliki pendapatan dan GDPperkapita menengah (tidak tinggi dan tidak juga rendah.\n",
        "\n",
        "cluster 1 (hijau) :  Merupakan negara-negara yang memiliki pendapatan dan GDPperkapita tinggi.\n",
        "\n",
        "cluster 2 (merah) :  Merupakan negara-negara yang memiliki pendapatan dan GDPperkapita rendah.\n",
        "\n",
        "cluster 3 (kuning) :  Merupakan negara-negara yang memiliki pendapatan tinggi namun GDPperkapitanya rendah. Bisa dilihat bahwa pendapatan cluster ini bahkan rata-ratanya melebihi pendapatan cluster 1."
      ],
      "metadata": {
        "id": "nJJAQ3cEZSR6"
      }
    },
    {
      "cell_type": "code",
      "source": [
        "df_gp_cluster.groupby(['cluster']).agg({'GDPperkapita':'mean','Pendapatan':'mean' })"
      ],
      "metadata": {
        "id": "e2lbNpKPZSR6",
        "colab": {
          "base_uri": "https://localhost:8080/",
          "height": 206
        },
        "outputId": "cb5e1971-a778-46c7-9c09-5bb3e76d6fe9"
      },
      "execution_count": 86,
      "outputs": [
        {
          "output_type": "execute_result",
          "data": {
            "text/plain": [
              "         GDPperkapita    Pendapatan\n",
              "cluster                            \n",
              "0         9817.560976  17341.463415\n",
              "1        23835.294118  33141.176471\n",
              "2         2107.344086   4703.043011\n",
              "3         4377.750000  40812.500000"
            ],
            "text/html": [
              "\n",
              "  <div id=\"df-0ba54aca-2f40-4074-b3bb-159256f4297f\">\n",
              "    <div class=\"colab-df-container\">\n",
              "      <div>\n",
              "<style scoped>\n",
              "    .dataframe tbody tr th:only-of-type {\n",
              "        vertical-align: middle;\n",
              "    }\n",
              "\n",
              "    .dataframe tbody tr th {\n",
              "        vertical-align: top;\n",
              "    }\n",
              "\n",
              "    .dataframe thead th {\n",
              "        text-align: right;\n",
              "    }\n",
              "</style>\n",
              "<table border=\"1\" class=\"dataframe\">\n",
              "  <thead>\n",
              "    <tr style=\"text-align: right;\">\n",
              "      <th></th>\n",
              "      <th>GDPperkapita</th>\n",
              "      <th>Pendapatan</th>\n",
              "    </tr>\n",
              "    <tr>\n",
              "      <th>cluster</th>\n",
              "      <th></th>\n",
              "      <th></th>\n",
              "    </tr>\n",
              "  </thead>\n",
              "  <tbody>\n",
              "    <tr>\n",
              "      <th>0</th>\n",
              "      <td>9817.560976</td>\n",
              "      <td>17341.463415</td>\n",
              "    </tr>\n",
              "    <tr>\n",
              "      <th>1</th>\n",
              "      <td>23835.294118</td>\n",
              "      <td>33141.176471</td>\n",
              "    </tr>\n",
              "    <tr>\n",
              "      <th>2</th>\n",
              "      <td>2107.344086</td>\n",
              "      <td>4703.043011</td>\n",
              "    </tr>\n",
              "    <tr>\n",
              "      <th>3</th>\n",
              "      <td>4377.750000</td>\n",
              "      <td>40812.500000</td>\n",
              "    </tr>\n",
              "  </tbody>\n",
              "</table>\n",
              "</div>\n",
              "      <button class=\"colab-df-convert\" onclick=\"convertToInteractive('df-0ba54aca-2f40-4074-b3bb-159256f4297f')\"\n",
              "              title=\"Convert this dataframe to an interactive table.\"\n",
              "              style=\"display:none;\">\n",
              "        \n",
              "  <svg xmlns=\"http://www.w3.org/2000/svg\" height=\"24px\"viewBox=\"0 0 24 24\"\n",
              "       width=\"24px\">\n",
              "    <path d=\"M0 0h24v24H0V0z\" fill=\"none\"/>\n",
              "    <path d=\"M18.56 5.44l.94 2.06.94-2.06 2.06-.94-2.06-.94-.94-2.06-.94 2.06-2.06.94zm-11 1L8.5 8.5l.94-2.06 2.06-.94-2.06-.94L8.5 2.5l-.94 2.06-2.06.94zm10 10l.94 2.06.94-2.06 2.06-.94-2.06-.94-.94-2.06-.94 2.06-2.06.94z\"/><path d=\"M17.41 7.96l-1.37-1.37c-.4-.4-.92-.59-1.43-.59-.52 0-1.04.2-1.43.59L10.3 9.45l-7.72 7.72c-.78.78-.78 2.05 0 2.83L4 21.41c.39.39.9.59 1.41.59.51 0 1.02-.2 1.41-.59l7.78-7.78 2.81-2.81c.8-.78.8-2.07 0-2.86zM5.41 20L4 18.59l7.72-7.72 1.47 1.35L5.41 20z\"/>\n",
              "  </svg>\n",
              "      </button>\n",
              "      \n",
              "  <style>\n",
              "    .colab-df-container {\n",
              "      display:flex;\n",
              "      flex-wrap:wrap;\n",
              "      gap: 12px;\n",
              "    }\n",
              "\n",
              "    .colab-df-convert {\n",
              "      background-color: #E8F0FE;\n",
              "      border: none;\n",
              "      border-radius: 50%;\n",
              "      cursor: pointer;\n",
              "      display: none;\n",
              "      fill: #1967D2;\n",
              "      height: 32px;\n",
              "      padding: 0 0 0 0;\n",
              "      width: 32px;\n",
              "    }\n",
              "\n",
              "    .colab-df-convert:hover {\n",
              "      background-color: #E2EBFA;\n",
              "      box-shadow: 0px 1px 2px rgba(60, 64, 67, 0.3), 0px 1px 3px 1px rgba(60, 64, 67, 0.15);\n",
              "      fill: #174EA6;\n",
              "    }\n",
              "\n",
              "    [theme=dark] .colab-df-convert {\n",
              "      background-color: #3B4455;\n",
              "      fill: #D2E3FC;\n",
              "    }\n",
              "\n",
              "    [theme=dark] .colab-df-convert:hover {\n",
              "      background-color: #434B5C;\n",
              "      box-shadow: 0px 1px 3px 1px rgba(0, 0, 0, 0.15);\n",
              "      filter: drop-shadow(0px 1px 2px rgba(0, 0, 0, 0.3));\n",
              "      fill: #FFFFFF;\n",
              "    }\n",
              "  </style>\n",
              "\n",
              "      <script>\n",
              "        const buttonEl =\n",
              "          document.querySelector('#df-0ba54aca-2f40-4074-b3bb-159256f4297f button.colab-df-convert');\n",
              "        buttonEl.style.display =\n",
              "          google.colab.kernel.accessAllowed ? 'block' : 'none';\n",
              "\n",
              "        async function convertToInteractive(key) {\n",
              "          const element = document.querySelector('#df-0ba54aca-2f40-4074-b3bb-159256f4297f');\n",
              "          const dataTable =\n",
              "            await google.colab.kernel.invokeFunction('convertToInteractive',\n",
              "                                                     [key], {});\n",
              "          if (!dataTable) return;\n",
              "\n",
              "          const docLinkHtml = 'Like what you see? Visit the ' +\n",
              "            '<a target=\"_blank\" href=https://colab.research.google.com/notebooks/data_table.ipynb>data table notebook</a>'\n",
              "            + ' to learn more about interactive tables.';\n",
              "          element.innerHTML = '';\n",
              "          dataTable['output_type'] = 'display_data';\n",
              "          await google.colab.output.renderOutput(dataTable, element);\n",
              "          const docLink = document.createElement('div');\n",
              "          docLink.innerHTML = docLinkHtml;\n",
              "          element.appendChild(docLink);\n",
              "        }\n",
              "      </script>\n",
              "    </div>\n",
              "  </div>\n",
              "  "
            ]
          },
          "metadata": {},
          "execution_count": 86
        }
      ]
    },
    {
      "cell_type": "markdown",
      "source": [
        "Bisa disimpulkan:\n",
        "\n",
        "cluster 0 : memiliki rata-rata GDPperkapita dan pendapatan yang tidak terlalu tinggi dan juga tidak terlalu rendah dibanding dengan negara lain.\n",
        "\n",
        "cluster 1 : memiliki rata-rata GDPperkapita sangat tinggi yaitu 23835.29 dan juga rata-rata pendapatan tinggi yaitu $33141.17 per orang.\n",
        "\n",
        "cluster 2 : memiliki rata-rata GDPperkapita sangat rendah, yaitu hanya 2170.34 dan juga rata-rata pendapatan yang sangat rendah yaitu hanya $4703.04 per orang.\n",
        "\n",
        "cluster 3 : memiliki rata-rata GDPperkapita yang bisa dibilang rendah, tidak jauh dari cluster 2, yaitu hanya 4377.75 namun rata-rata pendapatan per orangnya sangatlah tinggi, bahkan lebih tinggi dari cluster 1, yaitu $40812.5."
      ],
      "metadata": {
        "id": "ePq-_u3WZSR7"
      }
    },
    {
      "cell_type": "code",
      "source": [
        "cluster_gp = pd.concat([df['Negara'],df_gp_cluster], axis=1, join='outer')\n",
        "cluster_gp.head()"
      ],
      "metadata": {
        "id": "BkT3VZAUZSR8",
        "colab": {
          "base_uri": "https://localhost:8080/",
          "height": 206
        },
        "outputId": "d02e7a00-d474-408a-90cd-0cb000936e15"
      },
      "execution_count": 87,
      "outputs": [
        {
          "output_type": "execute_result",
          "data": {
            "text/plain": [
              "                Negara  GDPperkapita  Pendapatan  cluster\n",
              "0          Afghanistan         553.0      1610.0        2\n",
              "1              Albania        4090.0      9930.0        2\n",
              "2              Algeria        4460.0     12900.0        2\n",
              "3               Angola        3530.0      5900.0        2\n",
              "4  Antigua and Barbuda       12200.0     19100.0        0"
            ],
            "text/html": [
              "\n",
              "  <div id=\"df-07471086-6fc0-4e5e-91b6-0622dfeff19b\">\n",
              "    <div class=\"colab-df-container\">\n",
              "      <div>\n",
              "<style scoped>\n",
              "    .dataframe tbody tr th:only-of-type {\n",
              "        vertical-align: middle;\n",
              "    }\n",
              "\n",
              "    .dataframe tbody tr th {\n",
              "        vertical-align: top;\n",
              "    }\n",
              "\n",
              "    .dataframe thead th {\n",
              "        text-align: right;\n",
              "    }\n",
              "</style>\n",
              "<table border=\"1\" class=\"dataframe\">\n",
              "  <thead>\n",
              "    <tr style=\"text-align: right;\">\n",
              "      <th></th>\n",
              "      <th>Negara</th>\n",
              "      <th>GDPperkapita</th>\n",
              "      <th>Pendapatan</th>\n",
              "      <th>cluster</th>\n",
              "    </tr>\n",
              "  </thead>\n",
              "  <tbody>\n",
              "    <tr>\n",
              "      <th>0</th>\n",
              "      <td>Afghanistan</td>\n",
              "      <td>553.0</td>\n",
              "      <td>1610.0</td>\n",
              "      <td>2</td>\n",
              "    </tr>\n",
              "    <tr>\n",
              "      <th>1</th>\n",
              "      <td>Albania</td>\n",
              "      <td>4090.0</td>\n",
              "      <td>9930.0</td>\n",
              "      <td>2</td>\n",
              "    </tr>\n",
              "    <tr>\n",
              "      <th>2</th>\n",
              "      <td>Algeria</td>\n",
              "      <td>4460.0</td>\n",
              "      <td>12900.0</td>\n",
              "      <td>2</td>\n",
              "    </tr>\n",
              "    <tr>\n",
              "      <th>3</th>\n",
              "      <td>Angola</td>\n",
              "      <td>3530.0</td>\n",
              "      <td>5900.0</td>\n",
              "      <td>2</td>\n",
              "    </tr>\n",
              "    <tr>\n",
              "      <th>4</th>\n",
              "      <td>Antigua and Barbuda</td>\n",
              "      <td>12200.0</td>\n",
              "      <td>19100.0</td>\n",
              "      <td>0</td>\n",
              "    </tr>\n",
              "  </tbody>\n",
              "</table>\n",
              "</div>\n",
              "      <button class=\"colab-df-convert\" onclick=\"convertToInteractive('df-07471086-6fc0-4e5e-91b6-0622dfeff19b')\"\n",
              "              title=\"Convert this dataframe to an interactive table.\"\n",
              "              style=\"display:none;\">\n",
              "        \n",
              "  <svg xmlns=\"http://www.w3.org/2000/svg\" height=\"24px\"viewBox=\"0 0 24 24\"\n",
              "       width=\"24px\">\n",
              "    <path d=\"M0 0h24v24H0V0z\" fill=\"none\"/>\n",
              "    <path d=\"M18.56 5.44l.94 2.06.94-2.06 2.06-.94-2.06-.94-.94-2.06-.94 2.06-2.06.94zm-11 1L8.5 8.5l.94-2.06 2.06-.94-2.06-.94L8.5 2.5l-.94 2.06-2.06.94zm10 10l.94 2.06.94-2.06 2.06-.94-2.06-.94-.94-2.06-.94 2.06-2.06.94z\"/><path d=\"M17.41 7.96l-1.37-1.37c-.4-.4-.92-.59-1.43-.59-.52 0-1.04.2-1.43.59L10.3 9.45l-7.72 7.72c-.78.78-.78 2.05 0 2.83L4 21.41c.39.39.9.59 1.41.59.51 0 1.02-.2 1.41-.59l7.78-7.78 2.81-2.81c.8-.78.8-2.07 0-2.86zM5.41 20L4 18.59l7.72-7.72 1.47 1.35L5.41 20z\"/>\n",
              "  </svg>\n",
              "      </button>\n",
              "      \n",
              "  <style>\n",
              "    .colab-df-container {\n",
              "      display:flex;\n",
              "      flex-wrap:wrap;\n",
              "      gap: 12px;\n",
              "    }\n",
              "\n",
              "    .colab-df-convert {\n",
              "      background-color: #E8F0FE;\n",
              "      border: none;\n",
              "      border-radius: 50%;\n",
              "      cursor: pointer;\n",
              "      display: none;\n",
              "      fill: #1967D2;\n",
              "      height: 32px;\n",
              "      padding: 0 0 0 0;\n",
              "      width: 32px;\n",
              "    }\n",
              "\n",
              "    .colab-df-convert:hover {\n",
              "      background-color: #E2EBFA;\n",
              "      box-shadow: 0px 1px 2px rgba(60, 64, 67, 0.3), 0px 1px 3px 1px rgba(60, 64, 67, 0.15);\n",
              "      fill: #174EA6;\n",
              "    }\n",
              "\n",
              "    [theme=dark] .colab-df-convert {\n",
              "      background-color: #3B4455;\n",
              "      fill: #D2E3FC;\n",
              "    }\n",
              "\n",
              "    [theme=dark] .colab-df-convert:hover {\n",
              "      background-color: #434B5C;\n",
              "      box-shadow: 0px 1px 3px 1px rgba(0, 0, 0, 0.15);\n",
              "      filter: drop-shadow(0px 1px 2px rgba(0, 0, 0, 0.3));\n",
              "      fill: #FFFFFF;\n",
              "    }\n",
              "  </style>\n",
              "\n",
              "      <script>\n",
              "        const buttonEl =\n",
              "          document.querySelector('#df-07471086-6fc0-4e5e-91b6-0622dfeff19b button.colab-df-convert');\n",
              "        buttonEl.style.display =\n",
              "          google.colab.kernel.accessAllowed ? 'block' : 'none';\n",
              "\n",
              "        async function convertToInteractive(key) {\n",
              "          const element = document.querySelector('#df-07471086-6fc0-4e5e-91b6-0622dfeff19b');\n",
              "          const dataTable =\n",
              "            await google.colab.kernel.invokeFunction('convertToInteractive',\n",
              "                                                     [key], {});\n",
              "          if (!dataTable) return;\n",
              "\n",
              "          const docLinkHtml = 'Like what you see? Visit the ' +\n",
              "            '<a target=\"_blank\" href=https://colab.research.google.com/notebooks/data_table.ipynb>data table notebook</a>'\n",
              "            + ' to learn more about interactive tables.';\n",
              "          element.innerHTML = '';\n",
              "          dataTable['output_type'] = 'display_data';\n",
              "          await google.colab.output.renderOutput(dataTable, element);\n",
              "          const docLink = document.createElement('div');\n",
              "          docLink.innerHTML = docLinkHtml;\n",
              "          element.appendChild(docLink);\n",
              "        }\n",
              "      </script>\n",
              "    </div>\n",
              "  </div>\n",
              "  "
            ]
          },
          "metadata": {},
          "execution_count": 87
        }
      ]
    },
    {
      "cell_type": "code",
      "source": [
        "print('daftar negara cluster 0 :')\n",
        "print(cluster_gp[cluster_gp.cluster == 0].Negara.values)\n",
        "print('Total : ', cluster_gp[cluster_gp.cluster == 0].Negara.count())"
      ],
      "metadata": {
        "id": "KnutuPalZSR9",
        "colab": {
          "base_uri": "https://localhost:8080/"
        },
        "outputId": "42880250-a180-4473-b998-3790eb903514"
      },
      "execution_count": 88,
      "outputs": [
        {
          "output_type": "stream",
          "name": "stdout",
          "text": [
            "daftar negara cluster 0 :\n",
            "['Antigua and Barbuda' 'Argentina' 'Azerbaijan' 'Barbados' 'Belarus'\n",
            " 'Botswana' 'Brazil' 'Brunei' 'Bulgaria' 'Chile' 'Colombia' 'Costa Rica'\n",
            " 'Croatia' 'Estonia' 'Gabon' 'Grenada' 'Hungary' 'Iran' 'Kazakhstan'\n",
            " 'Latvia' 'Lebanon' 'Libya' 'Lithuania' 'Luxembourg' 'Malaysia' 'Maldives'\n",
            " 'Mauritius' 'Montenegro' 'Panama' 'Poland' 'Romania' 'Russia' 'Serbia'\n",
            " 'Seychelles' 'Slovak Republic' 'South Africa' 'Suriname' 'Thailand'\n",
            " 'Turkey' 'Uruguay' 'Venezuela']\n",
            "Total :  41\n"
          ]
        }
      ]
    },
    {
      "cell_type": "code",
      "source": [
        "print('daftar negara cluster 1 :')\n",
        "print(cluster_gp[cluster_gp.cluster == 1].Negara.values)\n",
        "print('Total : ', cluster_gp[cluster_gp.cluster == 1].Negara.count())"
      ],
      "metadata": {
        "id": "PauIOFEBmSQc",
        "colab": {
          "base_uri": "https://localhost:8080/"
        },
        "outputId": "1285f687-03ff-4924-ba51-374f4cde2a4c"
      },
      "execution_count": 89,
      "outputs": [
        {
          "output_type": "stream",
          "name": "stdout",
          "text": [
            "daftar negara cluster 1 :\n",
            "['Bahamas' 'Bahrain' 'Cyprus' 'Czech Republic' 'Denmark'\n",
            " 'Equatorial Guinea' 'Greece' 'Israel' 'Italy' 'Malta' 'Oman' 'Portugal'\n",
            " 'Qatar' 'Saudi Arabia' 'Slovenia' 'South Korea' 'Spain']\n",
            "Total :  17\n"
          ]
        }
      ]
    },
    {
      "cell_type": "code",
      "source": [
        "print('daftar negara cluster 2 :')\n",
        "print(cluster_gp[cluster_gp.cluster == 2].Negara.values)\n",
        "print('Total : ', cluster_gp[cluster_gp.cluster == 2].Negara.count())"
      ],
      "metadata": {
        "id": "lt-Sh9LKmSZ9",
        "colab": {
          "base_uri": "https://localhost:8080/"
        },
        "outputId": "d4626348-ef1b-42f0-d0c6-c90936914db3"
      },
      "execution_count": 90,
      "outputs": [
        {
          "output_type": "stream",
          "name": "stdout",
          "text": [
            "daftar negara cluster 2 :\n",
            "['Afghanistan' 'Albania' 'Algeria' 'Angola' 'Armenia' 'Bangladesh'\n",
            " 'Belize' 'Benin' 'Bhutan' 'Bolivia' 'Bosnia and Herzegovina'\n",
            " 'Burkina Faso' 'Burundi' 'Cambodia' 'Cameroon' 'Cape Verde'\n",
            " 'Central African Republic' 'Chad' 'China' 'Comoros' 'Congo, Dem. Rep.'\n",
            " 'Congo, Rep.' \"Cote d'Ivoire\" 'Dominican Republic' 'Ecuador' 'Egypt'\n",
            " 'El Salvador' 'Eritrea' 'Fiji' 'Gambia' 'Georgia' 'Ghana' 'Guatemala'\n",
            " 'Guinea' 'Guinea-Bissau' 'Guyana' 'Haiti' 'India' 'Indonesia' 'Iraq'\n",
            " 'Jamaica' 'Jordan' 'Kenya' 'Kiribati' 'Kuwait' 'Kyrgyz Republic' 'Lao'\n",
            " 'Lesotho' 'Liberia' 'Macedonia, FYR' 'Madagascar' 'Malawi' 'Mali'\n",
            " 'Mauritania' 'Micronesia, Fed. Sts.' 'Moldova' 'Mongolia' 'Morocco'\n",
            " 'Mozambique' 'Myanmar' 'Namibia' 'Nepal' 'Niger' 'Nigeria' 'Norway'\n",
            " 'Pakistan' 'Paraguay' 'Peru' 'Philippines' 'Rwanda' 'Samoa' 'Senegal'\n",
            " 'Sierra Leone' 'Singapore' 'Solomon Islands' 'Sri Lanka'\n",
            " 'St. Vincent and the Grenadines' 'Sudan' 'Tajikistan' 'Tanzania'\n",
            " 'Timor-Leste' 'Togo' 'Tonga' 'Tunisia' 'Turkmenistan' 'Uganda' 'Ukraine'\n",
            " 'United Arab Emirates' 'Uzbekistan' 'Vanuatu' 'Vietnam' 'Yemen' 'Zambia']\n",
            "Total :  93\n"
          ]
        }
      ]
    },
    {
      "cell_type": "code",
      "source": [
        "print('daftar negara cluster 3 :')\n",
        "print(cluster_gp[cluster_gp.cluster == 3].Negara.values)\n",
        "print('Total : ', cluster_gp[cluster_gp.cluster == 3].Negara.count())"
      ],
      "metadata": {
        "id": "C-NdIEYamSh6",
        "colab": {
          "base_uri": "https://localhost:8080/"
        },
        "outputId": "ae68e9bc-f28d-4888-a81a-c2d8a7c296d5"
      },
      "execution_count": 91,
      "outputs": [
        {
          "output_type": "stream",
          "name": "stdout",
          "text": [
            "daftar negara cluster 3 :\n",
            "['Australia' 'Austria' 'Belgium' 'Canada' 'Finland' 'France' 'Germany'\n",
            " 'Iceland' 'Ireland' 'Japan' 'Netherlands' 'New Zealand' 'Sweden'\n",
            " 'Switzerland' 'United Kingdom' 'United States']\n",
            "Total :  16\n"
          ]
        }
      ]
    },
    {
      "cell_type": "markdown",
      "source": [
        "Dari hasil analisis diatas, negara yang ada di cluster 2 akan dipertimbangkan untuk menjadi penerima bantuan dari organisasi HELP dikarenakan GDPperkapita dan pendapatan sangatlah rendah dibandingkan dengan cluster-cluster yang lain."
      ],
      "metadata": {
        "id": "ThILsGZfZSR-"
      }
    },
    {
      "cell_type": "markdown",
      "source": [
        "#Harapan_hidup dan Pendapatan"
      ],
      "metadata": {
        "id": "PM4u9K1um6hA"
      }
    },
    {
      "cell_type": "code",
      "source": [
        "df_hp = pd.DataFrame(data= df_outlier, columns=['Harapan_hidup', 'Pendapatan'])\n",
        "df_hp.head()"
      ],
      "metadata": {
        "cellView": "code",
        "id": "5MrR5F6Um6hC",
        "colab": {
          "base_uri": "https://localhost:8080/",
          "height": 206
        },
        "outputId": "fd598f46-cad5-452d-9efb-8e34621c2aa0"
      },
      "execution_count": 92,
      "outputs": [
        {
          "output_type": "execute_result",
          "data": {
            "text/plain": [
              "   Harapan_hidup  Pendapatan\n",
              "0           56.2      1610.0\n",
              "1           76.3      9930.0\n",
              "2           76.5     12900.0\n",
              "3           60.1      5900.0\n",
              "4           76.8     19100.0"
            ],
            "text/html": [
              "\n",
              "  <div id=\"df-fc89ffcc-b8a8-457c-8611-125eae46d619\">\n",
              "    <div class=\"colab-df-container\">\n",
              "      <div>\n",
              "<style scoped>\n",
              "    .dataframe tbody tr th:only-of-type {\n",
              "        vertical-align: middle;\n",
              "    }\n",
              "\n",
              "    .dataframe tbody tr th {\n",
              "        vertical-align: top;\n",
              "    }\n",
              "\n",
              "    .dataframe thead th {\n",
              "        text-align: right;\n",
              "    }\n",
              "</style>\n",
              "<table border=\"1\" class=\"dataframe\">\n",
              "  <thead>\n",
              "    <tr style=\"text-align: right;\">\n",
              "      <th></th>\n",
              "      <th>Harapan_hidup</th>\n",
              "      <th>Pendapatan</th>\n",
              "    </tr>\n",
              "  </thead>\n",
              "  <tbody>\n",
              "    <tr>\n",
              "      <th>0</th>\n",
              "      <td>56.2</td>\n",
              "      <td>1610.0</td>\n",
              "    </tr>\n",
              "    <tr>\n",
              "      <th>1</th>\n",
              "      <td>76.3</td>\n",
              "      <td>9930.0</td>\n",
              "    </tr>\n",
              "    <tr>\n",
              "      <th>2</th>\n",
              "      <td>76.5</td>\n",
              "      <td>12900.0</td>\n",
              "    </tr>\n",
              "    <tr>\n",
              "      <th>3</th>\n",
              "      <td>60.1</td>\n",
              "      <td>5900.0</td>\n",
              "    </tr>\n",
              "    <tr>\n",
              "      <th>4</th>\n",
              "      <td>76.8</td>\n",
              "      <td>19100.0</td>\n",
              "    </tr>\n",
              "  </tbody>\n",
              "</table>\n",
              "</div>\n",
              "      <button class=\"colab-df-convert\" onclick=\"convertToInteractive('df-fc89ffcc-b8a8-457c-8611-125eae46d619')\"\n",
              "              title=\"Convert this dataframe to an interactive table.\"\n",
              "              style=\"display:none;\">\n",
              "        \n",
              "  <svg xmlns=\"http://www.w3.org/2000/svg\" height=\"24px\"viewBox=\"0 0 24 24\"\n",
              "       width=\"24px\">\n",
              "    <path d=\"M0 0h24v24H0V0z\" fill=\"none\"/>\n",
              "    <path d=\"M18.56 5.44l.94 2.06.94-2.06 2.06-.94-2.06-.94-.94-2.06-.94 2.06-2.06.94zm-11 1L8.5 8.5l.94-2.06 2.06-.94-2.06-.94L8.5 2.5l-.94 2.06-2.06.94zm10 10l.94 2.06.94-2.06 2.06-.94-2.06-.94-.94-2.06-.94 2.06-2.06.94z\"/><path d=\"M17.41 7.96l-1.37-1.37c-.4-.4-.92-.59-1.43-.59-.52 0-1.04.2-1.43.59L10.3 9.45l-7.72 7.72c-.78.78-.78 2.05 0 2.83L4 21.41c.39.39.9.59 1.41.59.51 0 1.02-.2 1.41-.59l7.78-7.78 2.81-2.81c.8-.78.8-2.07 0-2.86zM5.41 20L4 18.59l7.72-7.72 1.47 1.35L5.41 20z\"/>\n",
              "  </svg>\n",
              "      </button>\n",
              "      \n",
              "  <style>\n",
              "    .colab-df-container {\n",
              "      display:flex;\n",
              "      flex-wrap:wrap;\n",
              "      gap: 12px;\n",
              "    }\n",
              "\n",
              "    .colab-df-convert {\n",
              "      background-color: #E8F0FE;\n",
              "      border: none;\n",
              "      border-radius: 50%;\n",
              "      cursor: pointer;\n",
              "      display: none;\n",
              "      fill: #1967D2;\n",
              "      height: 32px;\n",
              "      padding: 0 0 0 0;\n",
              "      width: 32px;\n",
              "    }\n",
              "\n",
              "    .colab-df-convert:hover {\n",
              "      background-color: #E2EBFA;\n",
              "      box-shadow: 0px 1px 2px rgba(60, 64, 67, 0.3), 0px 1px 3px 1px rgba(60, 64, 67, 0.15);\n",
              "      fill: #174EA6;\n",
              "    }\n",
              "\n",
              "    [theme=dark] .colab-df-convert {\n",
              "      background-color: #3B4455;\n",
              "      fill: #D2E3FC;\n",
              "    }\n",
              "\n",
              "    [theme=dark] .colab-df-convert:hover {\n",
              "      background-color: #434B5C;\n",
              "      box-shadow: 0px 1px 3px 1px rgba(0, 0, 0, 0.15);\n",
              "      filter: drop-shadow(0px 1px 2px rgba(0, 0, 0, 0.3));\n",
              "      fill: #FFFFFF;\n",
              "    }\n",
              "  </style>\n",
              "\n",
              "      <script>\n",
              "        const buttonEl =\n",
              "          document.querySelector('#df-fc89ffcc-b8a8-457c-8611-125eae46d619 button.colab-df-convert');\n",
              "        buttonEl.style.display =\n",
              "          google.colab.kernel.accessAllowed ? 'block' : 'none';\n",
              "\n",
              "        async function convertToInteractive(key) {\n",
              "          const element = document.querySelector('#df-fc89ffcc-b8a8-457c-8611-125eae46d619');\n",
              "          const dataTable =\n",
              "            await google.colab.kernel.invokeFunction('convertToInteractive',\n",
              "                                                     [key], {});\n",
              "          if (!dataTable) return;\n",
              "\n",
              "          const docLinkHtml = 'Like what you see? Visit the ' +\n",
              "            '<a target=\"_blank\" href=https://colab.research.google.com/notebooks/data_table.ipynb>data table notebook</a>'\n",
              "            + ' to learn more about interactive tables.';\n",
              "          element.innerHTML = '';\n",
              "          dataTable['output_type'] = 'display_data';\n",
              "          await google.colab.output.renderOutput(dataTable, element);\n",
              "          const docLink = document.createElement('div');\n",
              "          docLink.innerHTML = docLinkHtml;\n",
              "          element.appendChild(docLink);\n",
              "        }\n",
              "      </script>\n",
              "    </div>\n",
              "  </div>\n",
              "  "
            ]
          },
          "metadata": {},
          "execution_count": 92
        }
      ]
    },
    {
      "cell_type": "code",
      "source": [
        "#Scalling data\n",
        "sc = StandardScaler()\n",
        "df_HP = sc.fit_transform(df_hp)"
      ],
      "metadata": {
        "id": "zl0xBZyZm6hD"
      },
      "execution_count": 93,
      "outputs": []
    },
    {
      "cell_type": "code",
      "source": [
        "#Elbow Method Harapan_hidup dan Pendapatan\n",
        "wcss = [] #Within-Cluster Sum of Square \n",
        "for i in range(1,11):\n",
        "  kmeans = KMeans(n_clusters=i, init='k-means++', random_state=42)\n",
        "  kmeans.fit(df_hp)\n",
        "  wcss.append(kmeans.inertia_)\n",
        "\n",
        "plt.figure(figsize=(10,6))\n",
        "plt.plot(range(1,11), wcss)\n",
        "plt.title('The Elbow Method')\n",
        "plt.xlabel('Number of cluster')\n",
        "plt.ylabel('WCSS')\n",
        "plt.show()"
      ],
      "metadata": {
        "id": "tyAZlOaHm6hE",
        "colab": {
          "base_uri": "https://localhost:8080/",
          "height": 404
        },
        "outputId": "b338debd-b85b-4b13-bfae-2cb8a7795dac"
      },
      "execution_count": 94,
      "outputs": [
        {
          "output_type": "display_data",
          "data": {
            "text/plain": [
              "<Figure size 720x432 with 1 Axes>"
            ],
            "image/png": "[encoded data removed]"
          },
          "metadata": {
            "needs_background": "light"
          }
        }
      ]
    },
    {
      "cell_type": "markdown",
      "source": [
        "pada grafik diatas, kurva memiliki belokan yang tajam di titik 2 dan titik 3, sehingga kita akan sesuaikan dengan Sillhoutte score untuk menentukan banyaknya cluster yang akan dibuat."
      ],
      "metadata": {
        "id": "oSiKdoV-m6hF"
      }
    },
    {
      "cell_type": "code",
      "source": [
        "#Silhoutte score untuk Harapan_hidup dan Pendapatan"
      ],
      "metadata": {
        "id": "ymLrZFIMm6hF"
      },
      "execution_count": null,
      "outputs": []
    },
    {
      "cell_type": "code",
      "source": [
        "for i in range(2,11):\n",
        "  labels = KMeans(n_clusters=i, init='k-means++', random_state=42).fit(df_hp).labels_\n",
        "  print(\"Silhoutte Score untuk cluster \" + str(i) + \" adalah \" + str(silhouette_score(df_hp, labels)))"
      ],
      "metadata": {
        "id": "68x4AwPBm6hG",
        "colab": {
          "base_uri": "https://localhost:8080/"
        },
        "outputId": "4040631e-3396-4932-d504-6a0fbecda83a"
      },
      "execution_count": 95,
      "outputs": [
        {
          "output_type": "stream",
          "name": "stdout",
          "text": [
            "Silhoutte Score untuk cluster 2 adalah 0.6832872526195474\n",
            "Silhoutte Score untuk cluster 3 adalah 0.634558129777391\n",
            "Silhoutte Score untuk cluster 4 adalah 0.6079111366177222\n",
            "Silhoutte Score untuk cluster 5 adalah 0.6125660002777605\n",
            "Silhoutte Score untuk cluster 6 adalah 0.6076566296650564\n",
            "Silhoutte Score untuk cluster 7 adalah 0.6105194442602093\n",
            "Silhoutte Score untuk cluster 8 adalah 0.6015537102580272\n",
            "Silhoutte Score untuk cluster 9 adalah 0.5999553696755151\n",
            "Silhoutte Score untuk cluster 10 adalah 0.5904138333752664\n"
          ]
        }
      ]
    },
    {
      "cell_type": "markdown",
      "source": [
        "Silhoutte score digunakan untuk melihat nilai k (banyaknya cluster) yang terbaik dilihat dari nilai yang tertinggi. Diperoleh Silhoutte score tertingginya yaiut 0.52880 untuk 3 cluster."
      ],
      "metadata": {
        "id": "A3OUxP-Km6hH"
      }
    },
    {
      "cell_type": "code",
      "source": [
        "#KMeans Cluster Harapan_hidup dan Pendapatan\n",
        "#3 cluster\n",
        "kmeans_hp = KMeans(n_clusters=3, init='k-means++', random_state=42).fit(df_hp)\n",
        "labels_hp = kmeans_hp.labels_\n",
        "\n",
        "df_hp_cluster = pd.DataFrame(data= df_outlier, columns=['Harapan_hidup', 'Pendapatan'])\n",
        "df_hp_cluster['cluster'] = labels_hp\n",
        "df_hp_cluster.head()"
      ],
      "metadata": {
        "id": "iFKB23Mlm6hH",
        "colab": {
          "base_uri": "https://localhost:8080/",
          "height": 206
        },
        "outputId": "a43c9e5a-0f90-4245-a10c-748d07de91ac"
      },
      "execution_count": 96,
      "outputs": [
        {
          "output_type": "execute_result",
          "data": {
            "text/plain": [
              "   Harapan_hidup  Pendapatan  cluster\n",
              "0           56.2      1610.0        0\n",
              "1           76.3      9930.0        0\n",
              "2           76.5     12900.0        2\n",
              "3           60.1      5900.0        0\n",
              "4           76.8     19100.0        2"
            ],
            "text/html": [
              "\n",
              "  <div id=\"df-8c778fe1-96a9-4ce3-b862-afa8c0452237\">\n",
              "    <div class=\"colab-df-container\">\n",
              "      <div>\n",
              "<style scoped>\n",
              "    .dataframe tbody tr th:only-of-type {\n",
              "        vertical-align: middle;\n",
              "    }\n",
              "\n",
              "    .dataframe tbody tr th {\n",
              "        vertical-align: top;\n",
              "    }\n",
              "\n",
              "    .dataframe thead th {\n",
              "        text-align: right;\n",
              "    }\n",
              "</style>\n",
              "<table border=\"1\" class=\"dataframe\">\n",
              "  <thead>\n",
              "    <tr style=\"text-align: right;\">\n",
              "      <th></th>\n",
              "      <th>Harapan_hidup</th>\n",
              "      <th>Pendapatan</th>\n",
              "      <th>cluster</th>\n",
              "    </tr>\n",
              "  </thead>\n",
              "  <tbody>\n",
              "    <tr>\n",
              "      <th>0</th>\n",
              "      <td>56.2</td>\n",
              "      <td>1610.0</td>\n",
              "      <td>0</td>\n",
              "    </tr>\n",
              "    <tr>\n",
              "      <th>1</th>\n",
              "      <td>76.3</td>\n",
              "      <td>9930.0</td>\n",
              "      <td>0</td>\n",
              "    </tr>\n",
              "    <tr>\n",
              "      <th>2</th>\n",
              "      <td>76.5</td>\n",
              "      <td>12900.0</td>\n",
              "      <td>2</td>\n",
              "    </tr>\n",
              "    <tr>\n",
              "      <th>3</th>\n",
              "      <td>60.1</td>\n",
              "      <td>5900.0</td>\n",
              "      <td>0</td>\n",
              "    </tr>\n",
              "    <tr>\n",
              "      <th>4</th>\n",
              "      <td>76.8</td>\n",
              "      <td>19100.0</td>\n",
              "      <td>2</td>\n",
              "    </tr>\n",
              "  </tbody>\n",
              "</table>\n",
              "</div>\n",
              "      <button class=\"colab-df-convert\" onclick=\"convertToInteractive('df-8c778fe1-96a9-4ce3-b862-afa8c0452237')\"\n",
              "              title=\"Convert this dataframe to an interactive table.\"\n",
              "              style=\"display:none;\">\n",
              "        \n",
              "  <svg xmlns=\"http://www.w3.org/2000/svg\" height=\"24px\"viewBox=\"0 0 24 24\"\n",
              "       width=\"24px\">\n",
              "    <path d=\"M0 0h24v24H0V0z\" fill=\"none\"/>\n",
              "    <path d=\"M18.56 5.44l.94 2.06.94-2.06 2.06-.94-2.06-.94-.94-2.06-.94 2.06-2.06.94zm-11 1L8.5 8.5l.94-2.06 2.06-.94-2.06-.94L8.5 2.5l-.94 2.06-2.06.94zm10 10l.94 2.06.94-2.06 2.06-.94-2.06-.94-.94-2.06-.94 2.06-2.06.94z\"/><path d=\"M17.41 7.96l-1.37-1.37c-.4-.4-.92-.59-1.43-.59-.52 0-1.04.2-1.43.59L10.3 9.45l-7.72 7.72c-.78.78-.78 2.05 0 2.83L4 21.41c.39.39.9.59 1.41.59.51 0 1.02-.2 1.41-.59l7.78-7.78 2.81-2.81c.8-.78.8-2.07 0-2.86zM5.41 20L4 18.59l7.72-7.72 1.47 1.35L5.41 20z\"/>\n",
              "  </svg>\n",
              "      </button>\n",
              "      \n",
              "  <style>\n",
              "    .colab-df-container {\n",
              "      display:flex;\n",
              "      flex-wrap:wrap;\n",
              "      gap: 12px;\n",
              "    }\n",
              "\n",
              "    .colab-df-convert {\n",
              "      background-color: #E8F0FE;\n",
              "      border: none;\n",
              "      border-radius: 50%;\n",
              "      cursor: pointer;\n",
              "      display: none;\n",
              "      fill: #1967D2;\n",
              "      height: 32px;\n",
              "      padding: 0 0 0 0;\n",
              "      width: 32px;\n",
              "    }\n",
              "\n",
              "    .colab-df-convert:hover {\n",
              "      background-color: #E2EBFA;\n",
              "      box-shadow: 0px 1px 2px rgba(60, 64, 67, 0.3), 0px 1px 3px 1px rgba(60, 64, 67, 0.15);\n",
              "      fill: #174EA6;\n",
              "    }\n",
              "\n",
              "    [theme=dark] .colab-df-convert {\n",
              "      background-color: #3B4455;\n",
              "      fill: #D2E3FC;\n",
              "    }\n",
              "\n",
              "    [theme=dark] .colab-df-convert:hover {\n",
              "      background-color: #434B5C;\n",
              "      box-shadow: 0px 1px 3px 1px rgba(0, 0, 0, 0.15);\n",
              "      filter: drop-shadow(0px 1px 2px rgba(0, 0, 0, 0.3));\n",
              "      fill: #FFFFFF;\n",
              "    }\n",
              "  </style>\n",
              "\n",
              "      <script>\n",
              "        const buttonEl =\n",
              "          document.querySelector('#df-8c778fe1-96a9-4ce3-b862-afa8c0452237 button.colab-df-convert');\n",
              "        buttonEl.style.display =\n",
              "          google.colab.kernel.accessAllowed ? 'block' : 'none';\n",
              "\n",
              "        async function convertToInteractive(key) {\n",
              "          const element = document.querySelector('#df-8c778fe1-96a9-4ce3-b862-afa8c0452237');\n",
              "          const dataTable =\n",
              "            await google.colab.kernel.invokeFunction('convertToInteractive',\n",
              "                                                     [key], {});\n",
              "          if (!dataTable) return;\n",
              "\n",
              "          const docLinkHtml = 'Like what you see? Visit the ' +\n",
              "            '<a target=\"_blank\" href=https://colab.research.google.com/notebooks/data_table.ipynb>data table notebook</a>'\n",
              "            + ' to learn more about interactive tables.';\n",
              "          element.innerHTML = '';\n",
              "          dataTable['output_type'] = 'display_data';\n",
              "          await google.colab.output.renderOutput(dataTable, element);\n",
              "          const docLink = document.createElement('div');\n",
              "          docLink.innerHTML = docLinkHtml;\n",
              "          element.appendChild(docLink);\n",
              "        }\n",
              "      </script>\n",
              "    </div>\n",
              "  </div>\n",
              "  "
            ]
          },
          "metadata": {},
          "execution_count": 96
        }
      ]
    },
    {
      "cell_type": "code",
      "source": [
        "df_hp_scal = pd.DataFrame(data= df_hp, columns=['Harapan_hidup','Pendapatan'])\n",
        "df_hp_scal['cluster'] = labels_hp\n",
        "df_hp_scal.head()"
      ],
      "metadata": {
        "id": "0Iotz6lBm6hI",
        "colab": {
          "base_uri": "https://localhost:8080/",
          "height": 206
        },
        "outputId": "7a4ab542-9bcd-49ca-f5f2-2c93903d02dd"
      },
      "execution_count": 97,
      "outputs": [
        {
          "output_type": "execute_result",
          "data": {
            "text/plain": [
              "   Harapan_hidup  Pendapatan  cluster\n",
              "0           56.2      1610.0        0\n",
              "1           76.3      9930.0        0\n",
              "2           76.5     12900.0        2\n",
              "3           60.1      5900.0        0\n",
              "4           76.8     19100.0        2"
            ],
            "text/html": [
              "\n",
              "  <div id=\"df-916dc82a-e875-41d9-ad81-230457d5de01\">\n",
              "    <div class=\"colab-df-container\">\n",
              "      <div>\n",
              "<style scoped>\n",
              "    .dataframe tbody tr th:only-of-type {\n",
              "        vertical-align: middle;\n",
              "    }\n",
              "\n",
              "    .dataframe tbody tr th {\n",
              "        vertical-align: top;\n",
              "    }\n",
              "\n",
              "    .dataframe thead th {\n",
              "        text-align: right;\n",
              "    }\n",
              "</style>\n",
              "<table border=\"1\" class=\"dataframe\">\n",
              "  <thead>\n",
              "    <tr style=\"text-align: right;\">\n",
              "      <th></th>\n",
              "      <th>Harapan_hidup</th>\n",
              "      <th>Pendapatan</th>\n",
              "      <th>cluster</th>\n",
              "    </tr>\n",
              "  </thead>\n",
              "  <tbody>\n",
              "    <tr>\n",
              "      <th>0</th>\n",
              "      <td>56.2</td>\n",
              "      <td>1610.0</td>\n",
              "      <td>0</td>\n",
              "    </tr>\n",
              "    <tr>\n",
              "      <th>1</th>\n",
              "      <td>76.3</td>\n",
              "      <td>9930.0</td>\n",
              "      <td>0</td>\n",
              "    </tr>\n",
              "    <tr>\n",
              "      <th>2</th>\n",
              "      <td>76.5</td>\n",
              "      <td>12900.0</td>\n",
              "      <td>2</td>\n",
              "    </tr>\n",
              "    <tr>\n",
              "      <th>3</th>\n",
              "      <td>60.1</td>\n",
              "      <td>5900.0</td>\n",
              "      <td>0</td>\n",
              "    </tr>\n",
              "    <tr>\n",
              "      <th>4</th>\n",
              "      <td>76.8</td>\n",
              "      <td>19100.0</td>\n",
              "      <td>2</td>\n",
              "    </tr>\n",
              "  </tbody>\n",
              "</table>\n",
              "</div>\n",
              "      <button class=\"colab-df-convert\" onclick=\"convertToInteractive('df-916dc82a-e875-41d9-ad81-230457d5de01')\"\n",
              "              title=\"Convert this dataframe to an interactive table.\"\n",
              "              style=\"display:none;\">\n",
              "        \n",
              "  <svg xmlns=\"http://www.w3.org/2000/svg\" height=\"24px\"viewBox=\"0 0 24 24\"\n",
              "       width=\"24px\">\n",
              "    <path d=\"M0 0h24v24H0V0z\" fill=\"none\"/>\n",
              "    <path d=\"M18.56 5.44l.94 2.06.94-2.06 2.06-.94-2.06-.94-.94-2.06-.94 2.06-2.06.94zm-11 1L8.5 8.5l.94-2.06 2.06-.94-2.06-.94L8.5 2.5l-.94 2.06-2.06.94zm10 10l.94 2.06.94-2.06 2.06-.94-2.06-.94-.94-2.06-.94 2.06-2.06.94z\"/><path d=\"M17.41 7.96l-1.37-1.37c-.4-.4-.92-.59-1.43-.59-.52 0-1.04.2-1.43.59L10.3 9.45l-7.72 7.72c-.78.78-.78 2.05 0 2.83L4 21.41c.39.39.9.59 1.41.59.51 0 1.02-.2 1.41-.59l7.78-7.78 2.81-2.81c.8-.78.8-2.07 0-2.86zM5.41 20L4 18.59l7.72-7.72 1.47 1.35L5.41 20z\"/>\n",
              "  </svg>\n",
              "      </button>\n",
              "      \n",
              "  <style>\n",
              "    .colab-df-container {\n",
              "      display:flex;\n",
              "      flex-wrap:wrap;\n",
              "      gap: 12px;\n",
              "    }\n",
              "\n",
              "    .colab-df-convert {\n",
              "      background-color: #E8F0FE;\n",
              "      border: none;\n",
              "      border-radius: 50%;\n",
              "      cursor: pointer;\n",
              "      display: none;\n",
              "      fill: #1967D2;\n",
              "      height: 32px;\n",
              "      padding: 0 0 0 0;\n",
              "      width: 32px;\n",
              "    }\n",
              "\n",
              "    .colab-df-convert:hover {\n",
              "      background-color: #E2EBFA;\n",
              "      box-shadow: 0px 1px 2px rgba(60, 64, 67, 0.3), 0px 1px 3px 1px rgba(60, 64, 67, 0.15);\n",
              "      fill: #174EA6;\n",
              "    }\n",
              "\n",
              "    [theme=dark] .colab-df-convert {\n",
              "      background-color: #3B4455;\n",
              "      fill: #D2E3FC;\n",
              "    }\n",
              "\n",
              "    [theme=dark] .colab-df-convert:hover {\n",
              "      background-color: #434B5C;\n",
              "      box-shadow: 0px 1px 3px 1px rgba(0, 0, 0, 0.15);\n",
              "      filter: drop-shadow(0px 1px 2px rgba(0, 0, 0, 0.3));\n",
              "      fill: #FFFFFF;\n",
              "    }\n",
              "  </style>\n",
              "\n",
              "      <script>\n",
              "        const buttonEl =\n",
              "          document.querySelector('#df-916dc82a-e875-41d9-ad81-230457d5de01 button.colab-df-convert');\n",
              "        buttonEl.style.display =\n",
              "          google.colab.kernel.accessAllowed ? 'block' : 'none';\n",
              "\n",
              "        async function convertToInteractive(key) {\n",
              "          const element = document.querySelector('#df-916dc82a-e875-41d9-ad81-230457d5de01');\n",
              "          const dataTable =\n",
              "            await google.colab.kernel.invokeFunction('convertToInteractive',\n",
              "                                                     [key], {});\n",
              "          if (!dataTable) return;\n",
              "\n",
              "          const docLinkHtml = 'Like what you see? Visit the ' +\n",
              "            '<a target=\"_blank\" href=https://colab.research.google.com/notebooks/data_table.ipynb>data table notebook</a>'\n",
              "            + ' to learn more about interactive tables.';\n",
              "          element.innerHTML = '';\n",
              "          dataTable['output_type'] = 'display_data';\n",
              "          await google.colab.output.renderOutput(dataTable, element);\n",
              "          const docLink = document.createElement('div');\n",
              "          docLink.innerHTML = docLinkHtml;\n",
              "          element.appendChild(docLink);\n",
              "        }\n",
              "      </script>\n",
              "    </div>\n",
              "  </div>\n",
              "  "
            ]
          },
          "metadata": {},
          "execution_count": 97
        }
      ]
    },
    {
      "cell_type": "code",
      "source": [
        "#Scatter Plot Harapan_hidup dan pendapatan\n",
        "plt.figure(figsize=(12,8))\n",
        "print('n_cluster = 3')\n",
        "plt.scatter(df_hp_scal['Harapan_hidup'][df_hp_scal['cluster']==0], df_hp_scal['Pendapatan'][df_hp_scal['cluster']==0], c='blue', s=100, edgecolors='black' )\n",
        "plt.scatter(df_hp_scal['Harapan_hidup'][df_hp_scal['cluster']==1], df_hp_scal['Pendapatan'][df_hp_scal['cluster']==1], c='green', s=100, edgecolors='black' )\n",
        "plt.scatter(df_hp_scal['Harapan_hidup'][df_hp_scal['cluster']==2], df_hp_scal['Pendapatan'][df_hp_scal['cluster']==2], c='red', s=100, edgecolors='black' )\n",
        "\n",
        "\n",
        "cluster = kmeans_hp.cluster_centers_\n",
        "plt.scatter(cluster[:,0], cluster[:,1], c='black', s=500)\n",
        "plt.xlabel('Harapan_hidup')\n",
        "plt.ylabel('Pendapatan')\n",
        "plt.show()"
      ],
      "metadata": {
        "id": "NNmfspZum6hI",
        "colab": {
          "base_uri": "https://localhost:8080/",
          "height": 515
        },
        "outputId": "4b2572e1-0dca-4d39-bbef-4b575b09c0d0"
      },
      "execution_count": 99,
      "outputs": [
        {
          "output_type": "stream",
          "name": "stdout",
          "text": [
            "n_cluster = 3\n"
          ]
        },
        {
          "output_type": "display_data",
          "data": {
            "text/plain": [
              "<Figure size 864x576 with 1 Axes>"
            ],
            "image/png": "[encoded data removed]"
          },
          "metadata": {
            "needs_background": "light"
          }
        }
      ]
    },
    {
      "cell_type": "markdown",
      "source": [
        "Interpretasi :\n",
        "Bisa dilihat bahwa terdapat 3 cluster\n",
        "\n",
        "cluster 0 (biru) :  Merupakan negara-negara yang memiliki pendapatan dan harapan hidup rendah\n",
        "\n",
        "cluster 1 (hijau) :  Merupakan negara-negara yang memiliki pendapatan rendah namun harapan hidup cukup tinggi.\n",
        "\n",
        "cluster 2 (merah) :  Merupakan negara-negara yang memiliki pendapatan dan harapan hidup yang sangat tinggi.\n"
      ],
      "metadata": {
        "id": "gPxBE8gdm6hJ"
      }
    },
    {
      "cell_type": "code",
      "source": [
        "df_hp_cluster.groupby(['cluster']).agg({'Harapan_hidup':'mean','Pendapatan':'mean' })"
      ],
      "metadata": {
        "id": "icagpL_Em6hL",
        "colab": {
          "base_uri": "https://localhost:8080/",
          "height": 175
        },
        "outputId": "1e422be4-7f2d-435d-ca17-f755a6d94e10"
      },
      "execution_count": 100,
      "outputs": [
        {
          "output_type": "execute_result",
          "data": {
            "text/plain": [
              "         Harapan_hidup    Pendapatan\n",
              "cluster                             \n",
              "0            66.816667   4442.033333\n",
              "1            79.409091  37063.636364\n",
              "2            73.647727  16861.363636"
            ],
            "text/html": [
              "\n",
              "  <div id=\"df-3e299974-5157-43e2-b399-83c73cd6feae\">\n",
              "    <div class=\"colab-df-container\">\n",
              "      <div>\n",
              "<style scoped>\n",
              "    .dataframe tbody tr th:only-of-type {\n",
              "        vertical-align: middle;\n",
              "    }\n",
              "\n",
              "    .dataframe tbody tr th {\n",
              "        vertical-align: top;\n",
              "    }\n",
              "\n",
              "    .dataframe thead th {\n",
              "        text-align: right;\n",
              "    }\n",
              "</style>\n",
              "<table border=\"1\" class=\"dataframe\">\n",
              "  <thead>\n",
              "    <tr style=\"text-align: right;\">\n",
              "      <th></th>\n",
              "      <th>Harapan_hidup</th>\n",
              "      <th>Pendapatan</th>\n",
              "    </tr>\n",
              "    <tr>\n",
              "      <th>cluster</th>\n",
              "      <th></th>\n",
              "      <th></th>\n",
              "    </tr>\n",
              "  </thead>\n",
              "  <tbody>\n",
              "    <tr>\n",
              "      <th>0</th>\n",
              "      <td>66.816667</td>\n",
              "      <td>4442.033333</td>\n",
              "    </tr>\n",
              "    <tr>\n",
              "      <th>1</th>\n",
              "      <td>79.409091</td>\n",
              "      <td>37063.636364</td>\n",
              "    </tr>\n",
              "    <tr>\n",
              "      <th>2</th>\n",
              "      <td>73.647727</td>\n",
              "      <td>16861.363636</td>\n",
              "    </tr>\n",
              "  </tbody>\n",
              "</table>\n",
              "</div>\n",
              "      <button class=\"colab-df-convert\" onclick=\"convertToInteractive('df-3e299974-5157-43e2-b399-83c73cd6feae')\"\n",
              "              title=\"Convert this dataframe to an interactive table.\"\n",
              "              style=\"display:none;\">\n",
              "        \n",
              "  <svg xmlns=\"http://www.w3.org/2000/svg\" height=\"24px\"viewBox=\"0 0 24 24\"\n",
              "       width=\"24px\">\n",
              "    <path d=\"M0 0h24v24H0V0z\" fill=\"none\"/>\n",
              "    <path d=\"M18.56 5.44l.94 2.06.94-2.06 2.06-.94-2.06-.94-.94-2.06-.94 2.06-2.06.94zm-11 1L8.5 8.5l.94-2.06 2.06-.94-2.06-.94L8.5 2.5l-.94 2.06-2.06.94zm10 10l.94 2.06.94-2.06 2.06-.94-2.06-.94-.94-2.06-.94 2.06-2.06.94z\"/><path d=\"M17.41 7.96l-1.37-1.37c-.4-.4-.92-.59-1.43-.59-.52 0-1.04.2-1.43.59L10.3 9.45l-7.72 7.72c-.78.78-.78 2.05 0 2.83L4 21.41c.39.39.9.59 1.41.59.51 0 1.02-.2 1.41-.59l7.78-7.78 2.81-2.81c.8-.78.8-2.07 0-2.86zM5.41 20L4 18.59l7.72-7.72 1.47 1.35L5.41 20z\"/>\n",
              "  </svg>\n",
              "      </button>\n",
              "      \n",
              "  <style>\n",
              "    .colab-df-container {\n",
              "      display:flex;\n",
              "      flex-wrap:wrap;\n",
              "      gap: 12px;\n",
              "    }\n",
              "\n",
              "    .colab-df-convert {\n",
              "      background-color: #E8F0FE;\n",
              "      border: none;\n",
              "      border-radius: 50%;\n",
              "      cursor: pointer;\n",
              "      display: none;\n",
              "      fill: #1967D2;\n",
              "      height: 32px;\n",
              "      padding: 0 0 0 0;\n",
              "      width: 32px;\n",
              "    }\n",
              "\n",
              "    .colab-df-convert:hover {\n",
              "      background-color: #E2EBFA;\n",
              "      box-shadow: 0px 1px 2px rgba(60, 64, 67, 0.3), 0px 1px 3px 1px rgba(60, 64, 67, 0.15);\n",
              "      fill: #174EA6;\n",
              "    }\n",
              "\n",
              "    [theme=dark] .colab-df-convert {\n",
              "      background-color: #3B4455;\n",
              "      fill: #D2E3FC;\n",
              "    }\n",
              "\n",
              "    [theme=dark] .colab-df-convert:hover {\n",
              "      background-color: #434B5C;\n",
              "      box-shadow: 0px 1px 3px 1px rgba(0, 0, 0, 0.15);\n",
              "      filter: drop-shadow(0px 1px 2px rgba(0, 0, 0, 0.3));\n",
              "      fill: #FFFFFF;\n",
              "    }\n",
              "  </style>\n",
              "\n",
              "      <script>\n",
              "        const buttonEl =\n",
              "          document.querySelector('#df-3e299974-5157-43e2-b399-83c73cd6feae button.colab-df-convert');\n",
              "        buttonEl.style.display =\n",
              "          google.colab.kernel.accessAllowed ? 'block' : 'none';\n",
              "\n",
              "        async function convertToInteractive(key) {\n",
              "          const element = document.querySelector('#df-3e299974-5157-43e2-b399-83c73cd6feae');\n",
              "          const dataTable =\n",
              "            await google.colab.kernel.invokeFunction('convertToInteractive',\n",
              "                                                     [key], {});\n",
              "          if (!dataTable) return;\n",
              "\n",
              "          const docLinkHtml = 'Like what you see? Visit the ' +\n",
              "            '<a target=\"_blank\" href=https://colab.research.google.com/notebooks/data_table.ipynb>data table notebook</a>'\n",
              "            + ' to learn more about interactive tables.';\n",
              "          element.innerHTML = '';\n",
              "          dataTable['output_type'] = 'display_data';\n",
              "          await google.colab.output.renderOutput(dataTable, element);\n",
              "          const docLink = document.createElement('div');\n",
              "          docLink.innerHTML = docLinkHtml;\n",
              "          element.appendChild(docLink);\n",
              "        }\n",
              "      </script>\n",
              "    </div>\n",
              "  </div>\n",
              "  "
            ]
          },
          "metadata": {},
          "execution_count": 100
        }
      ]
    },
    {
      "cell_type": "markdown",
      "source": [
        "Bisa disimpulkan:\n",
        "\n",
        "cluster 0 : memiliki rata-rata harapan hidup dan pendapatan sangat rendah, dengan rata-rata harapan hidup hanya 61 tahun dan pendapatan hanya $3923.61 per orang.\n",
        "\n",
        "cluster 1 : memiliki rata-rata harapan hidup cukup tinggi namun dengan rata-rata pendapatan rendah. Rata-rata harapan hidupnya 74 tahun dengan pendapatan setiap orang $11895.16.\n",
        "\n",
        "cluster 2 : memiliki rata-rata hidup dan pendapatan sangat tinggi, dengan rata-rata harapan hidup mencapai 79 tahun dan rata-rata pendapatan mencapai $37168.75 per orang."
      ],
      "metadata": {
        "id": "ZQ89LkpWm6hL"
      }
    },
    {
      "cell_type": "code",
      "source": [
        "cluster_hp = pd.concat([df['Negara'],df_hp_cluster], axis=1, join='outer')\n",
        "cluster_hp.head()"
      ],
      "metadata": {
        "id": "KpCenl0Um6hN",
        "colab": {
          "base_uri": "https://localhost:8080/",
          "height": 206
        },
        "outputId": "3d039295-de45-4c38-9e5b-57195b096306"
      },
      "execution_count": 102,
      "outputs": [
        {
          "output_type": "execute_result",
          "data": {
            "text/plain": [
              "                Negara  Harapan_hidup  Pendapatan  cluster\n",
              "0          Afghanistan           56.2      1610.0        0\n",
              "1              Albania           76.3      9930.0        0\n",
              "2              Algeria           76.5     12900.0        2\n",
              "3               Angola           60.1      5900.0        0\n",
              "4  Antigua and Barbuda           76.8     19100.0        2"
            ],
            "text/html": [
              "\n",
              "  <div id=\"df-70a098c6-eaa7-44a9-87a8-caea835938a2\">\n",
              "    <div class=\"colab-df-container\">\n",
              "      <div>\n",
              "<style scoped>\n",
              "    .dataframe tbody tr th:only-of-type {\n",
              "        vertical-align: middle;\n",
              "    }\n",
              "\n",
              "    .dataframe tbody tr th {\n",
              "        vertical-align: top;\n",
              "    }\n",
              "\n",
              "    .dataframe thead th {\n",
              "        text-align: right;\n",
              "    }\n",
              "</style>\n",
              "<table border=\"1\" class=\"dataframe\">\n",
              "  <thead>\n",
              "    <tr style=\"text-align: right;\">\n",
              "      <th></th>\n",
              "      <th>Negara</th>\n",
              "      <th>Harapan_hidup</th>\n",
              "      <th>Pendapatan</th>\n",
              "      <th>cluster</th>\n",
              "    </tr>\n",
              "  </thead>\n",
              "  <tbody>\n",
              "    <tr>\n",
              "      <th>0</th>\n",
              "      <td>Afghanistan</td>\n",
              "      <td>56.2</td>\n",
              "      <td>1610.0</td>\n",
              "      <td>0</td>\n",
              "    </tr>\n",
              "    <tr>\n",
              "      <th>1</th>\n",
              "      <td>Albania</td>\n",
              "      <td>76.3</td>\n",
              "      <td>9930.0</td>\n",
              "      <td>0</td>\n",
              "    </tr>\n",
              "    <tr>\n",
              "      <th>2</th>\n",
              "      <td>Algeria</td>\n",
              "      <td>76.5</td>\n",
              "      <td>12900.0</td>\n",
              "      <td>2</td>\n",
              "    </tr>\n",
              "    <tr>\n",
              "      <th>3</th>\n",
              "      <td>Angola</td>\n",
              "      <td>60.1</td>\n",
              "      <td>5900.0</td>\n",
              "      <td>0</td>\n",
              "    </tr>\n",
              "    <tr>\n",
              "      <th>4</th>\n",
              "      <td>Antigua and Barbuda</td>\n",
              "      <td>76.8</td>\n",
              "      <td>19100.0</td>\n",
              "      <td>2</td>\n",
              "    </tr>\n",
              "  </tbody>\n",
              "</table>\n",
              "</div>\n",
              "      <button class=\"colab-df-convert\" onclick=\"convertToInteractive('df-70a098c6-eaa7-44a9-87a8-caea835938a2')\"\n",
              "              title=\"Convert this dataframe to an interactive table.\"\n",
              "              style=\"display:none;\">\n",
              "        \n",
              "  <svg xmlns=\"http://www.w3.org/2000/svg\" height=\"24px\"viewBox=\"0 0 24 24\"\n",
              "       width=\"24px\">\n",
              "    <path d=\"M0 0h24v24H0V0z\" fill=\"none\"/>\n",
              "    <path d=\"M18.56 5.44l.94 2.06.94-2.06 2.06-.94-2.06-.94-.94-2.06-.94 2.06-2.06.94zm-11 1L8.5 8.5l.94-2.06 2.06-.94-2.06-.94L8.5 2.5l-.94 2.06-2.06.94zm10 10l.94 2.06.94-2.06 2.06-.94-2.06-.94-.94-2.06-.94 2.06-2.06.94z\"/><path d=\"M17.41 7.96l-1.37-1.37c-.4-.4-.92-.59-1.43-.59-.52 0-1.04.2-1.43.59L10.3 9.45l-7.72 7.72c-.78.78-.78 2.05 0 2.83L4 21.41c.39.39.9.59 1.41.59.51 0 1.02-.2 1.41-.59l7.78-7.78 2.81-2.81c.8-.78.8-2.07 0-2.86zM5.41 20L4 18.59l7.72-7.72 1.47 1.35L5.41 20z\"/>\n",
              "  </svg>\n",
              "      </button>\n",
              "      \n",
              "  <style>\n",
              "    .colab-df-container {\n",
              "      display:flex;\n",
              "      flex-wrap:wrap;\n",
              "      gap: 12px;\n",
              "    }\n",
              "\n",
              "    .colab-df-convert {\n",
              "      background-color: #E8F0FE;\n",
              "      border: none;\n",
              "      border-radius: 50%;\n",
              "      cursor: pointer;\n",
              "      display: none;\n",
              "      fill: #1967D2;\n",
              "      height: 32px;\n",
              "      padding: 0 0 0 0;\n",
              "      width: 32px;\n",
              "    }\n",
              "\n",
              "    .colab-df-convert:hover {\n",
              "      background-color: #E2EBFA;\n",
              "      box-shadow: 0px 1px 2px rgba(60, 64, 67, 0.3), 0px 1px 3px 1px rgba(60, 64, 67, 0.15);\n",
              "      fill: #174EA6;\n",
              "    }\n",
              "\n",
              "    [theme=dark] .colab-df-convert {\n",
              "      background-color: #3B4455;\n",
              "      fill: #D2E3FC;\n",
              "    }\n",
              "\n",
              "    [theme=dark] .colab-df-convert:hover {\n",
              "      background-color: #434B5C;\n",
              "      box-shadow: 0px 1px 3px 1px rgba(0, 0, 0, 0.15);\n",
              "      filter: drop-shadow(0px 1px 2px rgba(0, 0, 0, 0.3));\n",
              "      fill: #FFFFFF;\n",
              "    }\n",
              "  </style>\n",
              "\n",
              "      <script>\n",
              "        const buttonEl =\n",
              "          document.querySelector('#df-70a098c6-eaa7-44a9-87a8-caea835938a2 button.colab-df-convert');\n",
              "        buttonEl.style.display =\n",
              "          google.colab.kernel.accessAllowed ? 'block' : 'none';\n",
              "\n",
              "        async function convertToInteractive(key) {\n",
              "          const element = document.querySelector('#df-70a098c6-eaa7-44a9-87a8-caea835938a2');\n",
              "          const dataTable =\n",
              "            await google.colab.kernel.invokeFunction('convertToInteractive',\n",
              "                                                     [key], {});\n",
              "          if (!dataTable) return;\n",
              "\n",
              "          const docLinkHtml = 'Like what you see? Visit the ' +\n",
              "            '<a target=\"_blank\" href=https://colab.research.google.com/notebooks/data_table.ipynb>data table notebook</a>'\n",
              "            + ' to learn more about interactive tables.';\n",
              "          element.innerHTML = '';\n",
              "          dataTable['output_type'] = 'display_data';\n",
              "          await google.colab.output.renderOutput(dataTable, element);\n",
              "          const docLink = document.createElement('div');\n",
              "          docLink.innerHTML = docLinkHtml;\n",
              "          element.appendChild(docLink);\n",
              "        }\n",
              "      </script>\n",
              "    </div>\n",
              "  </div>\n",
              "  "
            ]
          },
          "metadata": {},
          "execution_count": 102
        }
      ]
    },
    {
      "cell_type": "code",
      "source": [
        "print('daftar negara cluster 0 :')\n",
        "print(cluster_hp[cluster_hp.cluster == 0].Negara.values)\n",
        "print('Total : ', cluster_hp[cluster_hp.cluster == 0].Negara.count())"
      ],
      "metadata": {
        "id": "qyK28Cdem6hO",
        "colab": {
          "base_uri": "https://localhost:8080/"
        },
        "outputId": "4357a964-fb50-400d-bdf2-1de376286f9a"
      },
      "execution_count": 103,
      "outputs": [
        {
          "output_type": "stream",
          "name": "stdout",
          "text": [
            "daftar negara cluster 0 :\n",
            "['Afghanistan' 'Albania' 'Angola' 'Armenia' 'Bangladesh' 'Belize' 'Benin'\n",
            " 'Bhutan' 'Bolivia' 'Bosnia and Herzegovina' 'Burkina Faso' 'Burundi'\n",
            " 'Cambodia' 'Cameroon' 'Cape Verde' 'Central African Republic' 'Chad'\n",
            " 'China' 'Comoros' 'Congo, Dem. Rep.' 'Congo, Rep.' \"Cote d'Ivoire\"\n",
            " 'Ecuador' 'Egypt' 'El Salvador' 'Eritrea' 'Fiji' 'Gambia' 'Georgia'\n",
            " 'Ghana' 'Guatemala' 'Guinea' 'Guinea-Bissau' 'Guyana' 'Haiti' 'India'\n",
            " 'Indonesia' 'Jamaica' 'Jordan' 'Kenya' 'Kiribati' 'Kuwait'\n",
            " 'Kyrgyz Republic' 'Lao' 'Lesotho' 'Liberia' 'Madagascar' 'Malawi'\n",
            " 'Maldives' 'Mali' 'Mauritania' 'Micronesia, Fed. Sts.' 'Moldova'\n",
            " 'Mongolia' 'Morocco' 'Mozambique' 'Myanmar' 'Namibia' 'Nepal' 'Niger'\n",
            " 'Nigeria' 'Norway' 'Pakistan' 'Paraguay' 'Peru' 'Philippines' 'Rwanda'\n",
            " 'Samoa' 'Senegal' 'Sierra Leone' 'Singapore' 'Solomon Islands'\n",
            " 'Sri Lanka' 'St. Vincent and the Grenadines' 'Sudan' 'Tajikistan'\n",
            " 'Tanzania' 'Timor-Leste' 'Togo' 'Tonga' 'Tunisia' 'Turkmenistan' 'Uganda'\n",
            " 'Ukraine' 'United Arab Emirates' 'Uzbekistan' 'Vanuatu' 'Vietnam' 'Yemen'\n",
            " 'Zambia']\n",
            "Total :  90\n"
          ]
        }
      ]
    },
    {
      "cell_type": "code",
      "source": [
        "print('daftar negara cluster 1 :')\n",
        "print(cluster_hp[cluster_hp.cluster == 1].Negara.values)\n",
        "print('Total : ', cluster_hp[cluster_hp.cluster == 1].Negara.count())"
      ],
      "metadata": {
        "id": "SLsdK47Um6hP",
        "colab": {
          "base_uri": "https://localhost:8080/"
        },
        "outputId": "7638d424-6cd4-4c33-b596-24a84660dee5"
      },
      "execution_count": 104,
      "outputs": [
        {
          "output_type": "stream",
          "name": "stdout",
          "text": [
            "daftar negara cluster 1 :\n",
            "['Australia' 'Austria' 'Bahrain' 'Belgium' 'Canada' 'Cyprus'\n",
            " 'Czech Republic' 'Denmark' 'Equatorial Guinea' 'Finland' 'France'\n",
            " 'Germany' 'Greece' 'Iceland' 'Ireland' 'Israel' 'Italy' 'Japan' 'Libya'\n",
            " 'Malta' 'Netherlands' 'New Zealand' 'Oman' 'Portugal' 'Qatar'\n",
            " 'Saudi Arabia' 'Slovenia' 'South Korea' 'Spain' 'Sweden' 'Switzerland'\n",
            " 'United Kingdom' 'United States']\n",
            "Total :  33\n"
          ]
        }
      ]
    },
    {
      "cell_type": "code",
      "source": [
        "print('daftar negara cluster 2 :')\n",
        "print(cluster_hp[cluster_hp.cluster == 2].Negara.values)\n",
        "print('Total : ', cluster_hp[cluster_hp.cluster == 2].Negara.count())"
      ],
      "metadata": {
        "id": "xmeqqs7xm6hP",
        "colab": {
          "base_uri": "https://localhost:8080/"
        },
        "outputId": "2444b466-4b65-4a38-bc01-329b720d11d8"
      },
      "execution_count": 105,
      "outputs": [
        {
          "output_type": "stream",
          "name": "stdout",
          "text": [
            "daftar negara cluster 2 :\n",
            "['Algeria' 'Antigua and Barbuda' 'Argentina' 'Azerbaijan' 'Bahamas'\n",
            " 'Barbados' 'Belarus' 'Botswana' 'Brazil' 'Brunei' 'Bulgaria' 'Chile'\n",
            " 'Colombia' 'Costa Rica' 'Croatia' 'Dominican Republic' 'Estonia' 'Gabon'\n",
            " 'Grenada' 'Hungary' 'Iran' 'Iraq' 'Kazakhstan' 'Latvia' 'Lebanon'\n",
            " 'Lithuania' 'Luxembourg' 'Macedonia, FYR' 'Malaysia' 'Mauritius'\n",
            " 'Montenegro' 'Panama' 'Poland' 'Romania' 'Russia' 'Serbia' 'Seychelles'\n",
            " 'Slovak Republic' 'South Africa' 'Suriname' 'Thailand' 'Turkey' 'Uruguay'\n",
            " 'Venezuela']\n",
            "Total :  44\n"
          ]
        }
      ]
    },
    {
      "cell_type": "markdown",
      "source": [
        "Dari hasil analisis diatas, negara yang ada di cluster 0 akan dipertimbangkan untuk menjadi penerima bantuan dari organisasi HELP dikarenakan Harapan_hidup dan pendapatan cukup rendah."
      ],
      "metadata": {
        "id": "2FCt3cJRm6hR"
      }
    },
    {
      "cell_type": "markdown",
      "source": [
        "#Analisis"
      ],
      "metadata": {
        "id": "pAv8wdgFsrbH"
      }
    },
    {
      "cell_type": "markdown",
      "source": [
        "Dilihat dari hasil clustering berdasarkan beberapa fitur yang memiliki korelasi yang tinggi, kita mendapatkan 1 cluster pada masing2 clustering untuk dipertimbangkan menjadi penerima bantuan dari organisasi HELP. Dari 5 clustering pasangan fitur, kita akan melihat negara mana yang ada pada setiap cluster yang dipertimbangka, sehingga kita dapat memilih negara tersebut sebagai negara yang paling tepat mendapatkan bantuan."
      ],
      "metadata": {
        "id": "QW6jpQr7suJA"
      }
    },
    {
      "cell_type": "markdown",
      "source": [
        "1. Kematian_anak dan Jumlah_fertiliti\n",
        "\n",
        "pada clustering ini diperoleh cluster 0 menjadi pertimbangan untuk mendapatkan bantuan. Yaitu cluster dengan negara-negara yang memiliki tingkat Kematian_anak dan Jumlah_fertiliti tinggi."
      ],
      "metadata": {
        "id": "fijds6-xvp6D"
      }
    },
    {
      "cell_type": "code",
      "source": [
        "#Negara yang memiliki tingkat Kematian anak dan Jumlah fertiliti tinggi\n",
        "NKF = cluster_kf[cluster_kf.cluster == 0].Negara.values"
      ],
      "metadata": {
        "id": "-zOxDbNYssgl"
      },
      "execution_count": 107,
      "outputs": []
    },
    {
      "cell_type": "code",
      "source": [
        "print(\"Negara yang memiliki tingkat Kematian anak dan Jumlah fertiliti tinggi : \" \n",
        "      + str(NKF))\n",
        "print(\"Banyaknya negara :\" + str(len(NKF)))"
      ],
      "metadata": {
        "id": "DQHJxaP0wA3W",
        "colab": {
          "base_uri": "https://localhost:8080/"
        },
        "outputId": "835d6515-07cb-4eb5-e8d5-ac4c0428e4b3"
      },
      "execution_count": 111,
      "outputs": [
        {
          "output_type": "stream",
          "name": "stdout",
          "text": [
            "Negara yang memiliki tingkat Kematian anak dan Jumlah fertiliti tinggi : ['Afghanistan' 'Angola' 'Benin' 'Burkina Faso' 'Burundi' 'Cameroon'\n",
            " 'Central African Republic' 'Chad' 'Comoros' 'Congo, Dem. Rep.'\n",
            " 'Congo, Rep.' \"Cote d'Ivoire\" 'Equatorial Guinea' 'Eritrea' 'Gabon'\n",
            " 'Gambia' 'Ghana' 'Guinea' 'Guinea-Bissau' 'Iraq' 'Kenya' 'Kiribati' 'Lao'\n",
            " 'Lesotho' 'Liberia' 'Madagascar' 'Malawi' 'Mali' 'Mauritania'\n",
            " 'Mozambique' 'Namibia' 'Niger' 'Nigeria' 'Pakistan' 'Rwanda' 'Senegal'\n",
            " 'Sierra Leone' 'Sudan' 'Tajikistan' 'Tanzania' 'Timor-Leste' 'Togo'\n",
            " 'Uganda' 'Yemen' 'Zambia']\n",
            "Banyaknya negara :45\n"
          ]
        }
      ]
    },
    {
      "cell_type": "markdown",
      "source": [
        "2. Jumlah_fertiliti dan Harapan_hidup\n",
        "\n",
        "pada clustering ini diperoleh cluster 1 menjadi pertimbangan untuk mendapatkan bantuan. Yaitu cluster dengan negara-negara yang memiliki Jumlah_fertiliti tinggi namun Harapan_hidup rendah."
      ],
      "metadata": {
        "id": "TQwNbwL6A6Iv"
      }
    },
    {
      "cell_type": "code",
      "source": [
        "#Negara yang memiliki Jumlah fertiliti tinggi dan Harapan_hidup rendah\n",
        "NJH = cluster_jh[cluster_jh.cluster == 1].Negara.values"
      ],
      "metadata": {
        "id": "sq85fFXaA6I8"
      },
      "execution_count": 109,
      "outputs": []
    },
    {
      "cell_type": "code",
      "source": [
        "print(\"Negara yang memiliki Jumlah fertiliti tinggi dan Harapan_hidup rendah : \" \n",
        "      + str(NJH))\n",
        "print(\"Banyaknya negara :\" + str(len(NJH)))"
      ],
      "metadata": {
        "id": "3YdKBMrWA6I8",
        "colab": {
          "base_uri": "https://localhost:8080/"
        },
        "outputId": "9598df2f-9836-4b78-dcc7-63441cd56ddb"
      },
      "execution_count": 110,
      "outputs": [
        {
          "output_type": "stream",
          "name": "stdout",
          "text": [
            "Negara yang memiliki Jumlah fertiliti tinggi dan Harapan_hidup rendah : ['Afghanistan' 'Angola' 'Benin' 'Botswana' 'Burkina Faso' 'Burundi'\n",
            " 'Cameroon' 'Central African Republic' 'Chad' 'Comoros' 'Congo, Dem. Rep.'\n",
            " 'Congo, Rep.' \"Cote d'Ivoire\" 'Equatorial Guinea' 'Eritrea' 'Gabon'\n",
            " 'Gambia' 'Ghana' 'Guinea' 'Guinea-Bissau' 'Haiti' 'Iraq' 'Kenya'\n",
            " 'Kiribati' 'Lao' 'Liberia' 'Madagascar' 'Malawi' 'Mali' 'Mauritania'\n",
            " 'Micronesia, Fed. Sts.' 'Mozambique' 'Namibia' 'Niger' 'Nigeria'\n",
            " 'Pakistan' 'Rwanda' 'Samoa' 'Senegal' 'Sierra Leone' 'Solomon Islands'\n",
            " 'South Africa' 'Sudan' 'Tanzania' 'Timor-Leste' 'Togo' 'Tonga' 'Uganda'\n",
            " 'Vanuatu' 'Yemen' 'Zambia']\n",
            "Banyaknya negara :51\n"
          ]
        }
      ]
    },
    {
      "cell_type": "markdown",
      "source": [
        "3. Harapan_hidup dan Kematian_anak\n",
        "\n",
        "pada clustering ini diperoleh cluster 2 menjadi pertimbangan untuk mendapatkan bantuan. Yaitu cluster dengan negara-negara yang memiliki tingkat Kematian_anak tinggi namun Harapan_hidup rendah"
      ],
      "metadata": {
        "id": "gq5ec3ZbH4BL"
      }
    },
    {
      "cell_type": "code",
      "source": [
        "#Negara yang memiliki tingkat Kematian_anak tinggi dan Harapan_hidup rendah\n",
        "NHK = cluster_hk[cluster_hk.cluster == 1].Negara.values"
      ],
      "metadata": {
        "id": "hz2thqMvH4BL"
      },
      "execution_count": 112,
      "outputs": []
    },
    {
      "cell_type": "code",
      "source": [
        "print(\"Negara yang memiliki tingkat Kematian_anak tinggi dan Harapan_hidup rendah : \" \n",
        "      + str(NHK))\n",
        "print(\"Banyaknya negara :\" + str(len(NHK)))"
      ],
      "metadata": {
        "id": "cSxTufCiH4BL",
        "colab": {
          "base_uri": "https://localhost:8080/"
        },
        "outputId": "4050d038-425e-436a-f22b-65393befa7b5"
      },
      "execution_count": 113,
      "outputs": [
        {
          "output_type": "stream",
          "name": "stdout",
          "text": [
            "Negara yang memiliki tingkat Kematian_anak tinggi dan Harapan_hidup rendah : ['Afghanistan' 'Angola' 'Benin' 'Botswana' 'Burkina Faso' 'Burundi'\n",
            " 'Cambodia' 'Cameroon' 'Chad' 'Comoros' 'Congo, Dem. Rep.' 'Congo, Rep.'\n",
            " \"Cote d'Ivoire\" 'Equatorial Guinea' 'Eritrea' 'Gabon' 'Gambia' 'Ghana'\n",
            " 'Guinea' 'Guinea-Bissau' 'Guyana' 'Haiti' 'India' 'Kenya' 'Kiribati'\n",
            " 'Lao' 'Lesotho' 'Liberia' 'Madagascar' 'Malawi' 'Mali' 'Mauritania'\n",
            " 'Micronesia, Fed. Sts.' 'Mozambique' 'Myanmar' 'Namibia' 'Nepal' 'Niger'\n",
            " 'Nigeria' 'Pakistan' 'Rwanda' 'Senegal' 'Sierra Leone' 'Solomon Islands'\n",
            " 'South Africa' 'Sudan' 'Tajikistan' 'Tanzania' 'Timor-Leste' 'Togo'\n",
            " 'Turkmenistan' 'Uganda' 'Vanuatu' 'Yemen' 'Zambia']\n",
            "Banyaknya negara :55\n"
          ]
        }
      ]
    },
    {
      "cell_type": "markdown",
      "source": [
        "4. GDPperkapita dan Pendapatan\n",
        "\n",
        "pada clustering ini diperoleh cluster 2 menjadi pertimbangan untuk mendapatkan bantuan. Yaitu cluster dengan negara-negara yang memiliki GDPperkapitan dan Pendapatan sangat rendah."
      ],
      "metadata": {
        "id": "cOcFYudLIuZS"
      }
    },
    {
      "cell_type": "code",
      "source": [
        "#Negara yang memiliki GDPperkapita dan Pendapatan rendah\n",
        "NGP = cluster_gp[cluster_gp.cluster == 2].Negara.values"
      ],
      "metadata": {
        "id": "SK-OgI2mIuZU"
      },
      "execution_count": 116,
      "outputs": []
    },
    {
      "cell_type": "code",
      "source": [
        "print(\"Negara yang memiliki GDPperkapita dan Pendapatan rendah : \" \n",
        "      + str(NGP))\n",
        "print(\"Banyaknya negara :\" + str(len(NGP)))"
      ],
      "metadata": {
        "id": "5f32uceRIuZV",
        "colab": {
          "base_uri": "https://localhost:8080/"
        },
        "outputId": "62af81eb-e1be-4ac2-d647-5688629df622"
      },
      "execution_count": 117,
      "outputs": [
        {
          "output_type": "stream",
          "name": "stdout",
          "text": [
            "Negara yang memiliki GDPperkapita dan Pendapatan rendah : ['Afghanistan' 'Albania' 'Algeria' 'Angola' 'Armenia' 'Bangladesh'\n",
            " 'Belize' 'Benin' 'Bhutan' 'Bolivia' 'Bosnia and Herzegovina'\n",
            " 'Burkina Faso' 'Burundi' 'Cambodia' 'Cameroon' 'Cape Verde'\n",
            " 'Central African Republic' 'Chad' 'China' 'Comoros' 'Congo, Dem. Rep.'\n",
            " 'Congo, Rep.' \"Cote d'Ivoire\" 'Dominican Republic' 'Ecuador' 'Egypt'\n",
            " 'El Salvador' 'Eritrea' 'Fiji' 'Gambia' 'Georgia' 'Ghana' 'Guatemala'\n",
            " 'Guinea' 'Guinea-Bissau' 'Guyana' 'Haiti' 'India' 'Indonesia' 'Iraq'\n",
            " 'Jamaica' 'Jordan' 'Kenya' 'Kiribati' 'Kuwait' 'Kyrgyz Republic' 'Lao'\n",
            " 'Lesotho' 'Liberia' 'Macedonia, FYR' 'Madagascar' 'Malawi' 'Mali'\n",
            " 'Mauritania' 'Micronesia, Fed. Sts.' 'Moldova' 'Mongolia' 'Morocco'\n",
            " 'Mozambique' 'Myanmar' 'Namibia' 'Nepal' 'Niger' 'Nigeria' 'Norway'\n",
            " 'Pakistan' 'Paraguay' 'Peru' 'Philippines' 'Rwanda' 'Samoa' 'Senegal'\n",
            " 'Sierra Leone' 'Singapore' 'Solomon Islands' 'Sri Lanka'\n",
            " 'St. Vincent and the Grenadines' 'Sudan' 'Tajikistan' 'Tanzania'\n",
            " 'Timor-Leste' 'Togo' 'Tonga' 'Tunisia' 'Turkmenistan' 'Uganda' 'Ukraine'\n",
            " 'United Arab Emirates' 'Uzbekistan' 'Vanuatu' 'Vietnam' 'Yemen' 'Zambia']\n",
            "Banyaknya negara :93\n"
          ]
        }
      ]
    },
    {
      "cell_type": "markdown",
      "source": [
        "5. Harapan_hidup dan Pendapatan\n",
        "\n",
        "pada clustering ini diperoleh cluster 0 menjadi pertimbangan untuk mendapatkan bantuan. Yaitu cluster dengan negara-negara yang memiliki NHarapan_hidup dan Pendapatan rendah."
      ],
      "metadata": {
        "id": "_j_-pEKaKIxu"
      }
    },
    {
      "cell_type": "code",
      "source": [
        "#Negara yang memiliki Harapan_hidup dan Pendapatan rendah\n",
        "NHP = cluster_hp[cluster_hp.cluster == 0].Negara.values"
      ],
      "metadata": {
        "id": "k6cDW49dKIxv"
      },
      "execution_count": 118,
      "outputs": []
    },
    {
      "cell_type": "code",
      "source": [
        "print(\"Negara yang memiliki Harapan_hidup dan Pendapatan rendah : \" \n",
        "      + str(NHP))\n",
        "print(\"Banyaknya negara :\" + str(len(NHP)))"
      ],
      "metadata": {
        "id": "5kxvDNOqKIxv",
        "colab": {
          "base_uri": "https://localhost:8080/"
        },
        "outputId": "3736ff9d-ed95-4b50-dbfb-710c8a616d41"
      },
      "execution_count": 119,
      "outputs": [
        {
          "output_type": "stream",
          "name": "stdout",
          "text": [
            "Negara yang memiliki Harapan_hidup dan Pendapatan rendah : ['Afghanistan' 'Albania' 'Angola' 'Armenia' 'Bangladesh' 'Belize' 'Benin'\n",
            " 'Bhutan' 'Bolivia' 'Bosnia and Herzegovina' 'Burkina Faso' 'Burundi'\n",
            " 'Cambodia' 'Cameroon' 'Cape Verde' 'Central African Republic' 'Chad'\n",
            " 'China' 'Comoros' 'Congo, Dem. Rep.' 'Congo, Rep.' \"Cote d'Ivoire\"\n",
            " 'Ecuador' 'Egypt' 'El Salvador' 'Eritrea' 'Fiji' 'Gambia' 'Georgia'\n",
            " 'Ghana' 'Guatemala' 'Guinea' 'Guinea-Bissau' 'Guyana' 'Haiti' 'India'\n",
            " 'Indonesia' 'Jamaica' 'Jordan' 'Kenya' 'Kiribati' 'Kuwait'\n",
            " 'Kyrgyz Republic' 'Lao' 'Lesotho' 'Liberia' 'Madagascar' 'Malawi'\n",
            " 'Maldives' 'Mali' 'Mauritania' 'Micronesia, Fed. Sts.' 'Moldova'\n",
            " 'Mongolia' 'Morocco' 'Mozambique' 'Myanmar' 'Namibia' 'Nepal' 'Niger'\n",
            " 'Nigeria' 'Norway' 'Pakistan' 'Paraguay' 'Peru' 'Philippines' 'Rwanda'\n",
            " 'Samoa' 'Senegal' 'Sierra Leone' 'Singapore' 'Solomon Islands'\n",
            " 'Sri Lanka' 'St. Vincent and the Grenadines' 'Sudan' 'Tajikistan'\n",
            " 'Tanzania' 'Timor-Leste' 'Togo' 'Tonga' 'Tunisia' 'Turkmenistan' 'Uganda'\n",
            " 'Ukraine' 'United Arab Emirates' 'Uzbekistan' 'Vanuatu' 'Vietnam' 'Yemen'\n",
            " 'Zambia']\n",
            "Banyaknya negara :90\n"
          ]
        }
      ]
    },
    {
      "cell_type": "markdown",
      "source": [
        "#Negara yang menerima bantuan"
      ],
      "metadata": {
        "id": "9sozsQAGNp4H"
      }
    },
    {
      "cell_type": "markdown",
      "source": [
        "akan dicari negara yang masuk kedalam semua cluster yang menjadi pertimbangan, negara tersebut yang akan dipilih sebagai negara yang akan menerima bantuan dari organisasi HELP"
      ],
      "metadata": {
        "id": "nKlxn-sJNv6q"
      }
    },
    {
      "cell_type": "code",
      "source": [
        "NB = list(set(NKF.tolist()) & set(NJH.tolist()) & set(NHK.tolist()) & set(NGP.tolist()) & set(NHP.tolist()))"
      ],
      "metadata": {
        "id": "JZHs5rFFLbxK"
      },
      "execution_count": 120,
      "outputs": []
    },
    {
      "cell_type": "code",
      "source": [
        "print(\"Negara yang dipilih untuk mendapatkan bantuan adalah : \" + str(np.array(NB)))\n",
        "print(\"Banyaknya Negara : \" + str(len(NB))+ \" Negara\")"
      ],
      "metadata": {
        "id": "HnArzrFLLsQP",
        "colab": {
          "base_uri": "https://localhost:8080/"
        },
        "outputId": "078b6037-8453-40c2-ae39-6a176333c074"
      },
      "execution_count": 121,
      "outputs": [
        {
          "output_type": "stream",
          "name": "stdout",
          "text": [
            "Negara yang dipilih untuk mendapatkan bantuan adalah : ['Kenya' 'Namibia' 'Mali' 'Mozambique' 'Senegal' 'Madagascar' 'Tanzania'\n",
            " 'Benin' 'Ghana' 'Pakistan' 'Timor-Leste' 'Afghanistan' 'Yemen' 'Liberia'\n",
            " 'Rwanda' 'Comoros' 'Burundi' 'Sierra Leone' 'Guinea-Bissau' 'Congo, Rep.'\n",
            " 'Sudan' 'Zambia' 'Lao' \"Cote d'Ivoire\" 'Guinea' 'Niger' 'Cameroon'\n",
            " 'Angola' 'Uganda' 'Malawi' 'Congo, Dem. Rep.' 'Mauritania' 'Nigeria'\n",
            " 'Burkina Faso' 'Kiribati' 'Eritrea' 'Gambia' 'Togo' 'Chad']\n",
            "Banyaknya Negara : 39 Negara\n"
          ]
        }
      ]
    },
    {
      "cell_type": "markdown",
      "source": [
        "#Kesimpulan\n",
        "\n",
        "Kesimpulannya, berdasarkan faktor sosial ekonomi dan kesehatan yang ada pada dataset, diperoleh dari hasil clustering bahwa ada 38 Negara yang memiliki kriteria sesuai dengan bantuan yang akan diberikan oleh organisasi HELP. 38 Negara tersebut disarankan untuk Negara-negara yang menjadi fokus CEO organisasi HELP sebagai Negara yang dianggap paling membutuhkan bantuan."
      ],
      "metadata": {
        "id": "GE6BjaVfOb1V"
      }
    }
  ]
}